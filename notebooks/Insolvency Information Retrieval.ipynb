{
 "cells": [
  {
   "cell_type": "markdown",
   "metadata": {},
   "source": [
    "# Setup"
   ]
  },
  {
   "cell_type": "code",
   "execution_count": null,
   "metadata": {
    "collapsed": true
   },
   "outputs": [],
   "source": [
    "%matplotlib inline  \n",
    "import pandas as pd"
   ]
  },
  {
   "cell_type": "code",
   "execution_count": null,
   "metadata": {},
   "outputs": [],
   "source": [
    "# connection to the database\n",
    "from sqlalchemy import create_engine\n",
    "\n",
    "# set username/password here:\n",
    "db = {'username': '[USER_NAME]',\n",
    "      'password': '[PASSWORD]',\n",
    "      'host': 'quantleap.nl:5432',\n",
    "      'catalog': 'qir'}\n",
    "\n",
    "con = 'postgresql://{username}:{password}@{host}/{catalog}'.format(**db)\n",
    "engine = create_engine(con, echo=True)\n",
    "\n",
    "print(con)"
   ]
  },
  {
   "cell_type": "markdown",
   "metadata": {},
   "source": [
    "# Insolvents"
   ]
  },
  {
   "cell_type": "code",
   "execution_count": null,
   "metadata": {},
   "outputs": [],
   "source": [
    "sql = \"\"\"select count(distinct case_number) \n",
    "         from company_insolvents\"\"\"\n",
    "\n",
    "no_insolvents = pd.read_sql(sql, con).iloc[0][0]\n",
    "print('the total number of insolvents cases in the database is {}'.format(no_insolvents))"
   ]
  },
  {
   "cell_type": "code",
   "execution_count": null,
   "metadata": {
    "collapsed": true
   },
   "outputs": [],
   "source": [
    "sql = \"\"\"select start_date_insolvency is not null as known, count(*)\n",
    "         from company_insolvents\n",
    "         group by start_date_insolvency is not null\"\"\"\n",
    "\n",
    "df_known_start_date = pd.read_sql(sql, con)\n",
    "print('fraction of known start date')\n",
    "df_known_start_date"
   ]
  },
  {
   "cell_type": "code",
   "execution_count": null,
   "metadata": {
    "collapsed": true
   },
   "outputs": [],
   "source": [
    "df_known_start_date.plot.pie(y='count', labels=df_known_start_date['known'])"
   ]
  },
  {
   "cell_type": "markdown",
   "metadata": {},
   "source": [
    "# Judges"
   ]
  },
  {
   "cell_type": "code",
   "execution_count": null,
   "metadata": {
    "collapsed": true
   },
   "outputs": [],
   "source": [
    "sql = \"\"\"select count(supervisory_judge) as no_cases, supervisory_judge\n",
    "         from company_insolvents\n",
    "         group by 2\n",
    "         order by 1 desc\n",
    "         limit 10\"\"\"\n",
    "\n",
    "print(\"top 10 judges by number of cases\")\n",
    "pd.read_sql(sql, con)"
   ]
  },
  {
   "cell_type": "markdown",
   "metadata": {},
   "source": [
    "## Example of non normalized judge names:\n",
    "\n",
    "- \"mr. W.J.  Geurts - de Veld\"\n",
    "- \"mr. W.J. Geurts - de Veld\"\n",
    "- \"mr. W.J. Geurts-deVeld\"\n",
    "- \"mr. W.J. Geurts-de Veld\"\n",
    "- \"mr. W.J.Geurts-de Veld\"\n",
    "- \"mr.W.J. Geurts-de Veld\"\n",
    "- \"mr. W.J. Geurts-de Veld (Rotterdam)\"\n",
    "- \"mr W.J.Geurts-de Veld\"\n",
    "- \"W.J.Geurts-de Veld\"\n",
    "\n",
    "correct: \"mr. W.J. Geurts-de Veld\"\n",
    "normalized: \"wj geurts-de veld\"\n",
    "\n",
    "normalization steps:\n",
    "1. make lowercase\n",
    "2. remove leading mr[.]\n",
    "3. remove spaces around dash\n",
    "4. remove dots\n",
    "5. replace double spaces by single space\n",
    "6. remove parentheses and text within\n",
    "7. strip leading and trailing spaces\n"
   ]
  },
  {
   "cell_type": "code",
   "execution_count": null,
   "metadata": {},
   "outputs": [],
   "source": [
    "sql = \"\"\"select distinct supervisory_judge\n",
    "         from company_insolvents\n",
    "         order by 1\"\"\"\n",
    "\n",
    "non_normalized_name = pd.read_sql(sql, con)\n",
    "\n",
    "def normalize_judge_name(name):\n",
    "    return name.replace(r\"\\(.*\\)\",\"\")\n",
    "    \n",
    "\n",
    "non_normalized_name['supervisory_judge'].apply(normalize_judge_name)"
   ]
  },
  {
   "cell_type": "code",
   "execution_count": null,
   "metadata": {
    "collapsed": true
   },
   "outputs": [],
   "source": [
    "# rechters_df = pd.read_html('http://ors.openstate.eu/relations')[0]\n",
    "rechters_df = pd.read_json('http://ors.openstate.eu/relations/json')"
   ]
  },
  {
   "cell_type": "code",
   "execution_count": null,
   "metadata": {},
   "outputs": [],
   "source": [
    "rechters_df"
   ]
  },
  {
   "cell_type": "code",
   "execution_count": null,
   "metadata": {},
   "outputs": [],
   "source": [
    "rechters_df[rechters_df['set'] == 'Rechtbank Amsterdam']"
   ]
  },
  {
   "cell_type": "code",
   "execution_count": null,
   "metadata": {
    "collapsed": true
   },
   "outputs": [],
   "source": []
  }
 ],
 "metadata": {
  "kernelspec": {
   "display_name": "is-ds-thesis",
   "language": "python",
   "name": "is-ds-thesis"
  },
  "language_info": {
   "codemirror_mode": {
    "name": "ipython",
    "version": 3
   },
   "file_extension": ".py",
   "mimetype": "text/x-python",
   "name": "python",
   "nbconvert_exporter": "python",
   "pygments_lexer": "ipython3",
   "version": "3.6.3"
  }
 },
 "nbformat": 4,
 "nbformat_minor": 2
}
