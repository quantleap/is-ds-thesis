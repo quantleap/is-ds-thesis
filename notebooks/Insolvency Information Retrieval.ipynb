{
 "cells": [
  {
   "cell_type": "markdown",
   "metadata": {
    "heading_collapsed": true
   },
   "source": [
    "#### Setup"
   ]
  },
  {
   "cell_type": "code",
   "execution_count": 1,
   "metadata": {
    "hidden": true
   },
   "outputs": [
    {
     "name": "stdout",
     "output_type": "stream",
     "text": [
      "CONNECTION ESTABLISHED\n"
     ]
    }
   ],
   "source": [
    "#import pdb; pdb.set_trace()\n",
    "\n",
    "%matplotlib inline  \n",
    "import pandas as pd\n",
    "import os\n",
    "import re\n",
    "import json\n",
    "\n",
    "# connection to the database\n",
    "import os\n",
    "from sqlalchemy import create_engine\n",
    "\n",
    "# set username/password here:\n",
    "db = {'username': os.environ['DB_QIR_USERNAME'],\n",
    "      'password': os.environ['DB_QIR_PASSWORD'],\n",
    "      'host': 'www.quantleap.nl',  # localhost\n",
    "      'catalog': 'qir'}\n",
    "\n",
    "\n",
    "con = 'postgresql://{username}:{password}@{host}/{catalog}'.format(**db)\n",
    "engine = create_engine(con, echo=True)\n",
    "print('CONNECTION ESTABLISHED')"
   ]
  },
  {
   "cell_type": "markdown",
   "metadata": {},
   "source": [
    "# Insolvents"
   ]
  },
  {
   "cell_type": "code",
   "execution_count": 2,
   "metadata": {},
   "outputs": [
    {
     "name": "stdout",
     "output_type": "stream",
     "text": [
      "the total number of insolvents cases in the database is 50319\n"
     ]
    }
   ],
   "source": [
    "sql = \"\"\"select count(distinct case_number) \n",
    "         from company_insolvents\"\"\"\n",
    "\n",
    "no_insolvents = pd.read_sql(sql, con).iloc[0][0]\n",
    "print('the total number of insolvents cases in the database is {}'.format(no_insolvents))"
   ]
  },
  {
   "cell_type": "code",
   "execution_count": 3,
   "metadata": {},
   "outputs": [
    {
     "name": "stdout",
     "output_type": "stream",
     "text": [
      "fraction of known start date\n"
     ]
    },
    {
     "data": {
      "text/html": [
       "<div>\n",
       "<style>\n",
       "    .dataframe thead tr:only-child th {\n",
       "        text-align: right;\n",
       "    }\n",
       "\n",
       "    .dataframe thead th {\n",
       "        text-align: left;\n",
       "    }\n",
       "\n",
       "    .dataframe tbody tr th {\n",
       "        vertical-align: top;\n",
       "    }\n",
       "</style>\n",
       "<table border=\"1\" class=\"dataframe\">\n",
       "  <thead>\n",
       "    <tr style=\"text-align: right;\">\n",
       "      <th></th>\n",
       "      <th>known</th>\n",
       "      <th>count</th>\n",
       "    </tr>\n",
       "  </thead>\n",
       "  <tbody>\n",
       "    <tr>\n",
       "      <th>0</th>\n",
       "      <td>False</td>\n",
       "      <td>3900</td>\n",
       "    </tr>\n",
       "    <tr>\n",
       "      <th>1</th>\n",
       "      <td>True</td>\n",
       "      <td>46419</td>\n",
       "    </tr>\n",
       "  </tbody>\n",
       "</table>\n",
       "</div>"
      ],
      "text/plain": [
       "   known  count\n",
       "0  False   3900\n",
       "1   True  46419"
      ]
     },
     "execution_count": 3,
     "metadata": {},
     "output_type": "execute_result"
    }
   ],
   "source": [
    "sql = \"\"\"select start_date_insolvency is not null as known, count(*)\n",
    "         from company_insolvents\n",
    "         group by start_date_insolvency is not null\"\"\"\n",
    "\n",
    "df_known_start_date = pd.read_sql(sql, con)\n",
    "print('fraction of known start date')\n",
    "df_known_start_date"
   ]
  },
  {
   "cell_type": "code",
   "execution_count": 4,
   "metadata": {},
   "outputs": [
    {
     "data": {
      "text/plain": [
       "<matplotlib.axes._subplots.AxesSubplot at 0x10dd65668>"
      ]
     },
     "execution_count": 4,
     "metadata": {},
     "output_type": "execute_result"
    },
    {
     "data": {
      "image/png": "[encoded data removed]",
      "text/plain": [
       "<matplotlib.figure.Figure at 0x10abd2438>"
      ]
     },
     "metadata": {},
     "output_type": "display_data"
    }
   ],
   "source": [
    "df_known_start_date.plot.pie(y='count', labels=df_known_start_date['known'])"
   ]
  },
  {
   "cell_type": "markdown",
   "metadata": {},
   "source": [
    "## steekproef van niet OCR eindverslagen"
   ]
  },
  {
   "cell_type": "markdown",
   "metadata": {},
   "source": [
    "### Wenselijke datavelden in het voortgangsverslag\n",
    "Het voortgangsverslag hoort gestructureerd te zijn volgens de RECOFA richtlijnenm zie **model-verslag-faillissement-rechtspersoon.pdf**. In eerste instantie zijn we geinteresseerd in de data uit de **eindverslagen**.\n",
    "\n",
    "Algemeen\n",
    "- Personeel gemiddeld aantal: aantal\n",
    "- Bestede uren totaal: aantal\n",
    "- Saldo boedelrekening: bedrag\n",
    "\n",
    "\n",
    "4 Debiteuren\n",
    "\n",
    "4.2 Opbrengst: bedrag\n",
    "\n",
    "\n",
    "7 Rechtmatigheid\n",
    "\n",
    "7.2 Depot jaarrekeningen: wel/niet \n",
    "\n",
    "7.5 Onbehoorlijk bestuur: wel/niet\n",
    "\n",
    "\n",
    "8 Crediteuren\n",
    "\n",
    "8.1 Boedelvorderingen: bedrag (salaris curator / UWV / ..)\n",
    "\n",
    "8.2 Preferente vorderingen van de fiscus: bedrag\n",
    "\n",
    "8.3 Preferente vorderingen van het UWV: bedrag\n",
    "\n",
    "8.4 Andere preferente vorderingen: bedrag\n",
    "\n",
    "8.5 Aantal concurrente crediteuren: bedrag\n",
    "\n",
    "8.6 Bedrag concurrente crediteuren: bedrag\n",
    "\n"
   ]
  },
  {
   "cell_type": "markdown",
   "metadata": {
    "collapsed": true
   },
   "source": [
    "### Enige bevindingen / Issues\n",
    "- Bij insolventen van verslagen 13_ams_15_478_F_V_06 en 10_rot_12_90_F_V_16 zijn geen enkele financiele verslagen ook curator salaris wordt niet genoemd. Vraag: wie levert geen financieel verslag en waarom?\n",
    "- Bij eindverslag 10_rot_14_1054_F_V_10 staat curator salaris alleen in de financiele bijlage. Er lijkt ook sprake van een schikking - regeling bestuurder: 22.000 - wegens rechtmatigheidsissue. \n",
    "- bij 11_rot_12_41_F_V_15 staan bedragen doorgestreept, textconversie pakt dat niet\n",
    "- De eindverslagen zijn niet echt eindverslagen: 'Naar verwachting zal het faillissement in de komende\n",
    "verslagperiode eindigen.' (11_rot_12_41_F_V_15)\n",
    "- uurtarief bij 11_rot_12_41_F_V_15 komt op 280,-\n",
    "- 10_rot_14_1054_F_V_10, 01_obr_13_293_F_V_09 omzetting pdf>txt verliest letters/gegevens/structuur met PDFMiner. Welke converter pakt dit goed aan ?\n",
    "- strikethrough in PDF komt niet terug in de tekstconversie\n",
    "- PDFMiner wisselt soms woordvolgorde en mangled soms letters ook al staat dit duidelijk in het PDF"
   ]
  },
  {
   "cell_type": "code",
   "execution_count": 276,
   "metadata": {},
   "outputs": [
    {
     "data": {
      "text/plain": [
       "identification\n",
       "01_obr_13_608_F_V_11     [[\"1.1\", \"Directie  en organisatie\"], [\"1.2\", ...\n",
       "01_obr_13_400_F_V_11     [[\"1.1\", \"Directie  en organisatie\"], [\"1.2\", ...\n",
       "01_obr_13_399_F_V_10     [[\"1.07\", \"2.175,-\"], [\"1.1\", \"Directie  en or...\n",
       "01_obr_15_133_F_V_07     [[\"1.1\", \"Directie  en organisatie\"], [\"1.13\",...\n",
       "01_obr_14_973_F_V_08     [[\"1.1\", \"Directie  en organisatie\"], [\"76.95\"...\n",
       "10_rot_14_1054_F_V_10    [[\"1.1\", \"Directie en organisatie \"], [\"1.2\", ...\n",
       "10_rot_14_1055_F_V_10    [[\"1.1\", \"Directie en organisatie \"], [\"1.2\", ...\n",
       "10_rot_12_90_F_V_16      [[\"1.1\", \"Directie en Organisatie\"], [\"1.2\", \"...\n",
       "11_rot_12_41_F_V_15      [[\"1.1\", \"Inventarisatie \"], [\"1.2\", \"Winst en...\n",
       "13_ams_15_478_F_V_06     [[\"1.1\", \".  Directie en organisatie \"], [\"1.2...\n",
       "05_gel_16_674_F_V_05     [[\"1.1\", \"Directie en organisatie\"], [\"1.2\", \"...\n",
       "05_gel_16_666_F_V_05     [[\"1.1\", \"Directie en organisatie\"], [\"1.2\", \"...\n",
       "16_mne_16_568_F_V_01     [[\"1.1\", \"Directie en organisatie\"], [\"1.2\", \"...\n",
       "05_gel_16_660_F_V_05     [[\"1.1\", \"Directie en organisatie\"], [\"1.2\", \"...\n",
       "01_obr_13_1204_F_V_04    [[\"1.1\", \"Directie en organisatie\"], [\"1.2\", \"...\n",
       "01_obr_13_293_F_V_09     [[\"1.1\", \"Directie  en organisatie:\"], [\"1.2\",...\n",
       "01_obr_15_189_F_V_07                                                    []\n",
       "01_obr_15_188_F_V_08                                                    []\n",
       "13_ams_14_651_F_V_06     [[\"1.1\", \"Directie en organisatie \"], [\"1.2\", ...\n",
       "13_ams_14_497_F_V_07     [[\"1.1\", \"Directie en organisatie \"], [\"1.2\", ...\n",
       "Name: headings, dtype: object"
      ]
     },
     "execution_count": 276,
     "metadata": {},
     "output_type": "execute_result"
    }
   ],
   "source": [
    "# store matched headers as json strings\n",
    "df_reports['headings'] = df_reports['content'].apply(lambda x: json.dumps(match_headings(x)))\n",
    "df_reports['headings'].head(n=20)"
   ]
  },
  {
   "cell_type": "code",
   "execution_count": 277,
   "metadata": {},
   "outputs": [
    {
     "data": {
      "text/plain": [
       "identification\n",
       "01_obr_13_608_F_V_11     [\"1.1\", \"1.2\", \"1.3\", \"1.4\", \"20.84\", \"46.29\",...\n",
       "01_obr_13_400_F_V_11     [\"1.1\", \"1.2\", \"1.3\", \"1.4\", \"1.5\", \"1.6\", \"2....\n",
       "01_obr_13_399_F_V_10     [\"1.07\", \"1.1\", \"1.2\", \"1.3\", \"1.4\", \"1.5\", \"1...\n",
       "01_obr_15_133_F_V_07     [\"1.1\", \"1.13\", \"56.10\", \"1.2\", \"1.3\", \"1.4\", ...\n",
       "01_obr_14_973_F_V_08     [\"1.1\", \"76.95\", \"68.09\", \"3.42\", \"1.2\", \"1.3\"...\n",
       "10_rot_14_1054_F_V_10    [\"1.1\", \"1.2\", \"1.3\", \"1.4\", \"1.5\", \"1.6\", \"1....\n",
       "10_rot_14_1055_F_V_10    [\"1.1\", \"1.2\", \"1.3\", \"1.4\", \"1.5\", \"1.6\", \"1....\n",
       "10_rot_12_90_F_V_16      [\"1.1\", \"1.2\", \"1.4\", \"1.6\", \"2.1\", \"2.3\", \"3....\n",
       "11_rot_12_41_F_V_15      [\"1.1\", \"1.2\", \"1.3\", \"1.4\", \"1.5\", \"1.6\", \"1....\n",
       "13_ams_15_478_F_V_06     [\"1.1\", \"1.2\", \"1.3\", \"1.4\", \"1.5\", \"1.6\", \"1....\n",
       "05_gel_16_674_F_V_05     [\"1.1\", \"1.2\", \"1.3\", \"1.4\", \"1.5\", \"1.6\", \"1....\n",
       "05_gel_16_666_F_V_05     [\"1.1\", \"1.2\", \"1.3\", \"1.4\", \"1.5\", \"1.6\", \"1....\n",
       "16_mne_16_568_F_V_01     [\"1.1\", \"1.2\", \"1.3\", \"1.4\", \"1.5\", \"1.6\", \"1....\n",
       "05_gel_16_660_F_V_05     [\"1.1\", \"1.2\", \"1.3\", \"1.4\", \"1.5\", \"1.6\", \"1....\n",
       "01_obr_13_1204_F_V_04    [\"1.1\", \"1.2\", \"1.3\", \"1.4\", \"1.5\", \"1.6\", \"1....\n",
       "01_obr_13_293_F_V_09     [\"1.1\", \"1.2\", \"1.3\", \"1.4\", \"1.5\", \"1.6\", \"1....\n",
       "01_obr_15_189_F_V_07                                                    []\n",
       "01_obr_15_188_F_V_08                                                    []\n",
       "13_ams_14_651_F_V_06     [\"1.1\", \"1.2\", \"1.3\", \"1.4\", \"1.5\", \"1.6\", \"1....\n",
       "13_ams_14_497_F_V_07     [\"1.1\", \"1.2\", \"1.3\", \"1.4\", \"1.5\", \"1.6\", \"1....\n",
       "Name: heading_numbers, dtype: object"
      ]
     },
     "execution_count": 277,
     "metadata": {},
     "output_type": "execute_result"
    }
   ],
   "source": [
    "df_reports['heading_numbers'] = df_reports['content'].apply(lambda x: json.dumps(get_heading_numbers(x)))\n",
    "df_reports['heading_numbers'].head(n=20)"
   ]
  },
  {
   "cell_type": "code",
   "execution_count": 278,
   "metadata": {},
   "outputs": [
    {
     "data": {
      "text/plain": [
       "identification\n",
       "01_obr_13_608_F_V_11     False\n",
       "01_obr_13_400_F_V_11     False\n",
       "01_obr_13_399_F_V_10     False\n",
       "01_obr_15_133_F_V_07     False\n",
       "01_obr_14_973_F_V_08     False\n",
       "10_rot_14_1054_F_V_10    False\n",
       "10_rot_14_1055_F_V_10    False\n",
       "10_rot_12_90_F_V_16      False\n",
       "11_rot_12_41_F_V_15      False\n",
       "13_ams_15_478_F_V_06     False\n",
       "05_gel_16_674_F_V_05     False\n",
       "05_gel_16_666_F_V_05     False\n",
       "16_mne_16_568_F_V_01     False\n",
       "05_gel_16_660_F_V_05     False\n",
       "01_obr_13_1204_F_V_04     True\n",
       "01_obr_13_293_F_V_09     False\n",
       "01_obr_15_189_F_V_07      True\n",
       "01_obr_15_188_F_V_08      True\n",
       "13_ams_14_651_F_V_06      True\n",
       "13_ams_14_497_F_V_07      True\n",
       "Name: strictly_increasing, dtype: bool"
      ]
     },
     "execution_count": 278,
     "metadata": {},
     "output_type": "execute_result"
    }
   ],
   "source": [
    "# \n",
    "df_reports['strictly_increasing'] = df_reports['heading_numbers'].apply(\n",
    "    lambda x: is_strictly_increasing_heading_numbers(json.loads(x)))\n",
    "df_reports['strictly_increasing'].head(n=20)"
   ]
  },
  {
   "cell_type": "code",
   "execution_count": 279,
   "metadata": {},
   "outputs": [
    {
     "data": {
      "text/plain": [
       "26.100000000000001"
      ]
     },
     "execution_count": 279,
     "metadata": {},
     "output_type": "execute_result"
    }
   ],
   "source": [
    "# report percentage strictly increasing\n",
    "df_reports['strictly_increasing'][df_reports['strictly_increasing'] == True].count() / df_reports['strictly_increasing'].count() * 100"
   ]
  },
  {
   "cell_type": "code",
   "execution_count": 280,
   "metadata": {},
   "outputs": [
    {
     "data": {
      "text/plain": [
       "identification\n",
       "01_obr_13_608_F_V_11     False\n",
       "01_obr_13_400_F_V_11     False\n",
       "01_obr_13_399_F_V_10     False\n",
       "01_obr_15_133_F_V_07     False\n",
       "01_obr_14_973_F_V_08     False\n",
       "10_rot_14_1054_F_V_10    False\n",
       "10_rot_14_1055_F_V_10    False\n",
       "10_rot_12_90_F_V_16      False\n",
       "11_rot_12_41_F_V_15      False\n",
       "13_ams_15_478_F_V_06     False\n",
       "05_gel_16_674_F_V_05     False\n",
       "05_gel_16_666_F_V_05     False\n",
       "16_mne_16_568_F_V_01     False\n",
       "05_gel_16_660_F_V_05     False\n",
       "01_obr_13_1204_F_V_04     True\n",
       "01_obr_13_293_F_V_09     False\n",
       "01_obr_15_189_F_V_07      True\n",
       "01_obr_15_188_F_V_08      True\n",
       "13_ams_14_651_F_V_06      True\n",
       "13_ams_14_497_F_V_07      True\n",
       "Name: strictly_increasing, dtype: bool"
      ]
     },
     "execution_count": 280,
     "metadata": {},
     "output_type": "execute_result"
    }
   ],
   "source": [
    "df_reports['only_model_headings'] = df_reports['heading_numbers'].apply(\n",
    "    lambda x: is_strictly_increasing_heading_numbers(json.loads(x)))\n",
    "df_reports['strictly_increasing'].head(n=20)"
   ]
  },
  {
   "cell_type": "code",
   "execution_count": 281,
   "metadata": {},
   "outputs": [
    {
     "data": {
      "text/plain": [
       "identification\n",
       "01_obr_13_608_F_V_11     False\n",
       "01_obr_13_400_F_V_11     False\n",
       "01_obr_13_399_F_V_10     False\n",
       "01_obr_15_133_F_V_07     False\n",
       "01_obr_14_973_F_V_08     False\n",
       "10_rot_14_1054_F_V_10     True\n",
       "10_rot_14_1055_F_V_10     True\n",
       "10_rot_12_90_F_V_16      False\n",
       "11_rot_12_41_F_V_15      False\n",
       "13_ams_15_478_F_V_06     False\n",
       "05_gel_16_674_F_V_05      True\n",
       "05_gel_16_666_F_V_05      True\n",
       "16_mne_16_568_F_V_01      True\n",
       "05_gel_16_660_F_V_05      True\n",
       "01_obr_13_1204_F_V_04     True\n",
       "01_obr_13_293_F_V_09      True\n",
       "01_obr_15_189_F_V_07      True\n",
       "01_obr_15_188_F_V_08      True\n",
       "13_ams_14_651_F_V_06     False\n",
       "13_ams_14_497_F_V_07     False\n",
       "Name: only_model_headings, dtype: bool"
      ]
     },
     "execution_count": 281,
     "metadata": {},
     "output_type": "execute_result"
    }
   ],
   "source": [
    "df_reports['only_model_headings'] = df_reports['heading_numbers'].apply(lambda x: has_only_model_heading_numbers(json.loads(x)))\n",
    "df_reports['only_model_headings'].head(n=20)"
   ]
  },
  {
   "cell_type": "code",
   "execution_count": 282,
   "metadata": {},
   "outputs": [
    {
     "data": {
      "text/plain": [
       "54.400000000000006"
      ]
     },
     "execution_count": 282,
     "metadata": {},
     "output_type": "execute_result"
    }
   ],
   "source": [
    "# report percentage only model headings\n",
    "df_reports['only_model_headings'][df_reports['only_model_headings'] == True].count() / df_reports['only_model_headings'].count() * 100"
   ]
  },
  {
   "cell_type": "code",
   "execution_count": 283,
   "metadata": {},
   "outputs": [
    {
     "name": "stdout",
     "output_type": "stream",
     "text": [
      "10_rot_14_762_F_V_09\n",
      "1.1 1.2 True\n",
      "1.2 1.3 True\n",
      "1.3 1.5 True\n",
      "1.5 1.7 True\n",
      "1.7 2.1 True\n",
      "2.1 2.3 True\n",
      "2.3 5.1 True\n",
      "5.1 5.2 True\n",
      "5.2 5.4 True\n",
      "5.4 5.6 True\n",
      "5.6 5.8 True\n",
      "5.8 7.1 True\n",
      "7.1 7.2 True\n",
      "7.2 7.4 True\n",
      "7.4 8.1 True\n",
      "8.1 8.3 True\n",
      "8.3 8.5 True\n",
      "8.5 7.6 False\n",
      "7.6 10.1 True\n",
      "10.1 10.3 True\n"
     ]
    }
   ],
   "source": [
    "# inspect cases only model heading numbers but not strictly increasing\n",
    "df_not_increasing = df_reports[df_reports.only_model_headings & (~df_reports.strictly_increasing)]\n",
    "index = 20\n",
    "print(df_not_increasing.index[index])\n",
    "heading_numbers = list(zip(*json.loads(df_not_increasing.headings[index])))[0]\n",
    "is_strictly_increasing_heading_numbers(heading_numbers)\n",
    "for a, b in zip(heading_numbers, heading_numbers[1:]):\n",
    "    print(float(a), float(b), float(a)<float(b))\n",
    "    \n",
    "# finding: in many reports 3.10 became 3.1 even though the PDF shows 3.10, PDFMiner issue ?\n"
   ]
  },
  {
   "cell_type": "code",
   "execution_count": 284,
   "metadata": {},
   "outputs": [
    {
     "data": {
      "text/plain": [
       "identification\n",
       "01_obr_13_608_F_V_11     False\n",
       "01_obr_13_400_F_V_11     False\n",
       "01_obr_13_399_F_V_10     False\n",
       "01_obr_15_133_F_V_07     False\n",
       "01_obr_14_973_F_V_08     False\n",
       "10_rot_14_1054_F_V_10     True\n",
       "10_rot_14_1055_F_V_10     True\n",
       "10_rot_12_90_F_V_16      False\n",
       "11_rot_12_41_F_V_15      False\n",
       "13_ams_15_478_F_V_06     False\n",
       "05_gel_16_674_F_V_05      True\n",
       "05_gel_16_666_F_V_05      True\n",
       "16_mne_16_568_F_V_01      True\n",
       "05_gel_16_660_F_V_05      True\n",
       "01_obr_13_1204_F_V_04     True\n",
       "01_obr_13_293_F_V_09      True\n",
       "01_obr_15_189_F_V_07      True\n",
       "01_obr_15_188_F_V_08      True\n",
       "13_ams_14_651_F_V_06     False\n",
       "13_ams_14_497_F_V_07     False\n",
       "Name: only_model_headings, dtype: bool"
      ]
     },
     "execution_count": 284,
     "metadata": {},
     "output_type": "execute_result"
    }
   ],
   "source": [
    "# count heading number in model collection\n",
    "df_reports['no_headings'] = df_reports['heading_numbers'].apply(\n",
    "    lambda x: json.loads(x))\n",
    "df_reports['only_model_headings'].head(n=20)"
   ]
  }
 ],
 "metadata": {
  "kernelspec": {
   "display_name": "is-ds-thesis",
   "language": "python",
   "name": "is-ds-thesis"
  },
  "language_info": {
   "codemirror_mode": {
    "name": "ipython",
    "version": 3
   },
   "file_extension": ".py",
   "mimetype": "text/x-python",
   "name": "python",
   "nbconvert_exporter": "python",
   "pygments_lexer": "ipython3",
   "version": "3.6.3"
  }
 },
 "nbformat": 4,
 "nbformat_minor": 2
}
