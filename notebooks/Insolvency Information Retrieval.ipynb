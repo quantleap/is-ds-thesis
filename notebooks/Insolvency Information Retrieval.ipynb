{
 "cells": [
  {
   "cell_type": "markdown",
   "metadata": {},
   "source": [
    "# Setup"
   ]
  },
  {
   "cell_type": "code",
   "execution_count": null,
   "metadata": {
    "collapsed": true
   },
   "outputs": [],
   "source": [
    "%matplotlib inline  \n",
    "import pandas as pd\n",
    "import os"
   ]
  },
  {
   "cell_type": "code",
   "execution_count": null,
   "metadata": {},
   "outputs": [],
   "source": [
    "# connection to the database\n",
    "import os\n",
    "from sqlalchemy import create_engine\n",
    "\n",
    "# set username/password here:\n",
    "db = {'username': os.environ['USERNAME_11323671'],\n",
    "      'password': os.environ['PASSWORD_11323671'],\n",
    "      'host': 'quantleap.nl:5432',\n",
    "      'catalog': 'qir'}\n",
    "\n",
    "con = 'postgresql://{username}:{password}@{host}/{catalog}'.format(**db)\n",
    "engine = create_engine(con, echo=True)\n",
    "print('CONNECTION ESTABLISHED')"
   ]
  },
  {
   "cell_type": "markdown",
   "metadata": {},
   "source": [
    "# Insolvents"
   ]
  },
  {
   "cell_type": "code",
   "execution_count": null,
   "metadata": {},
   "outputs": [],
   "source": [
    "sql = \"\"\"select count(distinct case_number) \n",
    "         from company_insolvents\"\"\"\n",
    "\n",
    "no_insolvents = pd.read_sql(sql, con).iloc[0][0]\n",
    "print('the total number of insolvents cases in the database is {}'.format(no_insolvents))"
   ]
  },
  {
   "cell_type": "code",
   "execution_count": null,
   "metadata": {},
   "outputs": [],
   "source": [
    "sql = \"\"\"select start_date_insolvency is not null as known, count(*)\n",
    "         from company_insolvents\n",
    "         group by start_date_insolvency is not null\"\"\"\n",
    "\n",
    "df_known_start_date = pd.read_sql(sql, con)\n",
    "print('fraction of known start date')\n",
    "df_known_start_date"
   ]
  },
  {
   "cell_type": "code",
   "execution_count": null,
   "metadata": {},
   "outputs": [],
   "source": [
    "df_known_start_date.plot.pie(y='count', labels=df_known_start_date['known'])"
   ]
  },
  {
   "cell_type": "markdown",
   "metadata": {},
   "source": [
    "# Judges"
   ]
  },
  {
   "cell_type": "code",
   "execution_count": null,
   "metadata": {},
   "outputs": [],
   "source": [
    "sql = \"\"\"select count(supervisory_judge) as no_cases, supervisory_judge\n",
    "         from company_insolvents\n",
    "         group by 2\n",
    "         order by 1 desc\n",
    "         limit 10\"\"\"\n",
    "\n",
    "print(\"top 10 judges by number of cases\")\n",
    "pd.read_sql(sql, con)"
   ]
  },
  {
   "cell_type": "markdown",
   "metadata": {},
   "source": [
    "## Example of non normalized judge names:\n",
    "\n",
    "- \"mr. W.J.  Geurts - de Veld\"\n",
    "- \"mr. W.J. Geurts - de Veld\"\n",
    "- \"mr. W.J. Geurts-deVeld\"\n",
    "- \"mr. W.J. Geurts-de Veld\"\n",
    "- \"mr. W.J.Geurts-de Veld\"\n",
    "- \"mr.W.J. Geurts-de Veld\"\n",
    "- \"mr. W.J. Geurts-de Veld (Rotterdam)\"\n",
    "- \"mr W.J.Geurts-de Veld\"\n",
    "- \"W.J.Geurts-de Veld\"\n",
    "\n",
    "correct: \"mr. W.J. Geurts-de Veld\"\n",
    "normalized: \"wj geurts-de veld\"\n",
    "\n",
    "normalization steps:\n",
    "1. make lowercase\n",
    "2. remove leading mr[.]\n",
    "3. remove spaces around dash\n",
    "4. remove dots\n",
    "5. replace double spaces by single space\n",
    "6. remove parentheses and text within\n",
    "7. strip leading and trailing spaces\n"
   ]
  },
  {
   "cell_type": "code",
   "execution_count": null,
   "metadata": {},
   "outputs": [],
   "source": [
    "sql = \"\"\"select distinct supervisory_judge\n",
    "         from company_insolvents\n",
    "         where supervisory_judge notnull\n",
    "         order by 1\"\"\"\n",
    "\n",
    "non_normalized_name = pd.read_sql(sql, con)\n",
    "\n",
    "def normalize_judge_name(name):\n",
    "    return name.replace(r\"\\(.*\\)\",\"\")\n",
    "    \n",
    "\n",
    "non_normalized_name['supervisory_judge'].apply(normalize_judge_name)[0:10]\n"
   ]
  },
  {
   "cell_type": "code",
   "execution_count": null,
   "metadata": {
    "collapsed": true
   },
   "outputs": [],
   "source": [
    "# rechters_df = pd.read_html('http://ors.openstate.eu/relations')[0]\n",
    "rechters_df = pd.read_json('http://ors.openstate.eu/relations/json')"
   ]
  },
  {
   "cell_type": "code",
   "execution_count": null,
   "metadata": {},
   "outputs": [],
   "source": [
    "rechters_df"
   ]
  },
  {
   "cell_type": "code",
   "execution_count": null,
   "metadata": {},
   "outputs": [],
   "source": [
    "rechters_df[rechters_df['set'] == 'Rechtbank Amsterdam']"
   ]
  },
  {
   "cell_type": "markdown",
   "metadata": {},
   "source": [
    "# Reports"
   ]
  },
  {
   "cell_type": "markdown",
   "metadata": {},
   "source": [
    "## praktijk van het rapporteren met/zonder financiele bijlage"
   ]
  },
  {
   "cell_type": "code",
   "execution_count": 49,
   "metadata": {},
   "outputs": [
    {
     "data": {
      "text/html": [
       "<div>\n",
       "<style>\n",
       "    .dataframe thead tr:only-child th {\n",
       "        text-align: right;\n",
       "    }\n",
       "\n",
       "    .dataframe thead th {\n",
       "        text-align: left;\n",
       "    }\n",
       "\n",
       "    .dataframe tbody tr th {\n",
       "        vertical-align: top;\n",
       "    }\n",
       "</style>\n",
       "<table border=\"1\" class=\"dataframe\">\n",
       "  <thead>\n",
       "    <tr style=\"text-align: right;\">\n",
       "      <th></th>\n",
       "      <th>count</th>\n",
       "      <th>pct</th>\n",
       "    </tr>\n",
       "  </thead>\n",
       "  <tbody>\n",
       "    <tr>\n",
       "      <th>zero_financial_reports</th>\n",
       "      <td>12850</td>\n",
       "      <td>33.970444</td>\n",
       "    </tr>\n",
       "    <tr>\n",
       "      <th>zero_progress_reports</th>\n",
       "      <td>36</td>\n",
       "      <td>0.095170</td>\n",
       "    </tr>\n",
       "    <tr>\n",
       "      <th>more_progress_reports</th>\n",
       "      <td>12864</td>\n",
       "      <td>34.007455</td>\n",
       "    </tr>\n",
       "    <tr>\n",
       "      <th>more_financial_report</th>\n",
       "      <td>781</td>\n",
       "      <td>2.064663</td>\n",
       "    </tr>\n",
       "    <tr>\n",
       "      <th>equal_no_of_reports</th>\n",
       "      <td>11296</td>\n",
       "      <td>29.862268</td>\n",
       "    </tr>\n",
       "  </tbody>\n",
       "</table>\n",
       "</div>"
      ],
      "text/plain": [
       "                        count        pct\n",
       "zero_financial_reports  12850  33.970444\n",
       "zero_progress_reports      36   0.095170\n",
       "more_progress_reports   12864  34.007455\n",
       "more_financial_report     781   2.064663\n",
       "equal_no_of_reports     11296  29.862268"
      ]
     },
     "execution_count": 49,
     "metadata": {},
     "output_type": "execute_result"
    }
   ],
   "source": [
    "sql = \"\"\"select * from progess_financial_report_cooccurence;\"\"\"\n",
    "df = pd.read_sql(sql, con)\n",
    "df = df.transpose()\n",
    "df.columns = ['count']\n",
    "df['pct'] = df['count']/df['count'].sum()*100\n",
    "df"
   ]
  },
  {
   "cell_type": "markdown",
   "metadata": {},
   "source": [
    "## steekproef van niet OCR eindverslagen van januari 2018"
   ]
  },
  {
   "cell_type": "code",
   "execution_count": null,
   "metadata": {
    "code_folding": []
   },
   "outputs": [],
   "source": [
    "sql = '''SELECT identification, publication_date, is_end_report, is_ocr, content, start_date_insolvency\n",
    "         FROM reports rep\n",
    "             JOIN company_insolvents ins ON rep.insolvent_id = ins.id\n",
    "         WHERE ins.person_legal_personality = 'rechtspersoon'\n",
    "             AND rep.is_end_report = TRUE\n",
    "             AND is_ocr is FALSE\n",
    "             AND publication_date BETWEEN '2018-02-01' AND '2018-03-31'\n",
    "         ORDER BY publication_date DESC\n",
    "         LIMIT 20;'''\n",
    "\n",
    "df_reports = pd.read_sql(sql, con)\n",
    "df_reports"
   ]
  },
  {
   "cell_type": "markdown",
   "metadata": {},
   "source": [
    "## Data field wish list from the PDF report"
   ]
  },
  {
   "cell_type": "markdown",
   "metadata": {},
   "source": [
    "### Wenselijke datavelden in het voortgangsverslag\n",
    "Het voortgangsverslag hoort gestructureerd te zijn volgens de RECOFA richtlijnenm zie **model-verslag-faillissement-rechtspersoon.pdf**. In eerste instantie zijn we geinteresseerd in de data uit de **eindverslagen**.\n",
    "\n",
    "Algemeen\n",
    "- Personeel gemiddeld aantal: aantal\n",
    "- Bestede uren totaal: aantal\n",
    "- Saldo boedelrekening: bedrag\n",
    "\n",
    "\n",
    "4 Debiteuren\n",
    "\n",
    "4.2 Opbrengst: bedrag\n",
    "\n",
    "\n",
    "7 Rechtmatigheid\n",
    "\n",
    "7.2 Depot jaarrekeningen: wel/niet \n",
    "\n",
    "7.5 Onbehoorlijk bestuur: wel/niet\n",
    "\n",
    "\n",
    "8 Crediteuren\n",
    "\n",
    "8.1 Boedelvorderingen: bedrag (salaris curator / UWV / ..)\n",
    "\n",
    "8.2 Preferente vorderingen van de fiscus: bedrag\n",
    "\n",
    "8.3 Preferente vorderingen van het UWV: bedrag\n",
    "\n",
    "8.4 Andere preferente vorderingen: bedrag\n",
    "\n",
    "8.5 Aantal concurrente crediteuren: bedrag\n",
    "\n",
    "8.6 Bedrag concurrente crediteuren: bedrag\n",
    "\n"
   ]
  },
  {
   "cell_type": "markdown",
   "metadata": {
    "collapsed": true
   },
   "source": [
    "### Bevindingen / Issues\n",
    "- Bij insolventen van verslagen 13_ams_15_478_F_V_06 en 10_rot_12_90_F_V_16 zijn geen enkele financiele verslagen ook curator salaris wordt niet genoemd. Vraag: wie levert geen financieel verslag en waarom?\n",
    "- Bij eindverslag 10_rot_14_1054_F_V_10 staat curator salaris alleen in de financiele bijlage. Er lijkt ook sprake van een schikking - regeling bestuurder: 22.000 - wegens rechtmatigheidsissue. \n",
    "- bij 11_rot_12_41_F_V_15 staan bedragen doorgestreept, textconversie pakt dat niet\n",
    "- De eindverslagen zijn niet echt eindverslagen: 'Naar verwachting zal het faillissement in de komende\n",
    "verslagperiode eindigen.' (11_rot_12_41_F_V_15)\n",
    "- uurtarief bij 11_rot_12_41_F_V_15 komt op 280,-\n",
    "- 10_rot_14_1054_F_V_10, 01_obr_13_293_F_V_09 omzetting pdf>txt verliest letters/gegevens/structuur met PDFMiner. Welke converter pakt dit goed aan ?\n",
    "- strikethrough in PDF komt niet terug in de tekstconversie"
   ]
  },
  {
   "cell_type": "code",
   "execution_count": null,
   "metadata": {},
   "outputs": [],
   "source": [
    "report_id = '01_obr_13_293_F_V_09'\n",
    "reports = df_end_reports_last_week[df_end_reports_last_week['identification'] == report_id]\n",
    "report = reports.iloc[0]\n",
    "content = report['content']\n",
    "print(content)\n"
   ]
  },
  {
   "cell_type": "markdown",
   "metadata": {
    "collapsed": true
   },
   "source": [
    "## Extracting structured text from PDF reports"
   ]
  },
  {
   "cell_type": "code",
   "execution_count": null,
   "metadata": {},
   "outputs": [],
   "source": [
    "# Personeel gemiddeld aantal\n",
    "import re\n",
    "\n",
    "flags = re.DOTALL | re.IGNORECASE\n",
    "\n",
    "def first_match_group():\n",
    "    pass\n",
    "\n",
    "def match_block_personeel_gemiddeld_aantal(pattern, content):\n",
    "    match = re.search(pattern, content, flags)\n",
    "    return match\n",
    "    \n",
    "\n",
    "def match_personeel_gemiddeld_aantal(content):\n",
    "    patterns = [r'gemiddeld\\s+aantal\\s+personeel(.*?)verslagperiode',\n",
    "                r'personeel\\s+gemiddeld\\s+aantal(.*?)saldo\\s+einde\\s+verslagperiode']\n",
    "    \n",
    "    \n",
    "    for pattern in patterns:\n",
    "        block = match_block_personeel_gemiddeld_aantal(pattern, content)\n",
    "        import pdb; pdb.set_trace\n",
    "        if block:\n",
    "            return block\n",
    "    return None\n",
    "\n",
    "match = match_personeel_gemiddeld_aantal(content)\n",
    "print(match.group(0))\n",
    "\n",
    "#content = df_end_reports_last_week['content'].apply(match_personeel_gemiddeld_aantal)\n",
    "#content"
   ]
  },
  {
   "cell_type": "code",
   "execution_count": null,
   "metadata": {
    "collapsed": true
   },
   "outputs": [],
   "source": []
  },
  {
   "cell_type": "code",
   "execution_count": null,
   "metadata": {
    "collapsed": true
   },
   "outputs": [],
   "source": []
  }
 ],
 "metadata": {
  "kernelspec": {
   "display_name": "is-ds-thesis",
   "language": "python",
   "name": "is-ds-thesis"
  },
  "language_info": {
   "codemirror_mode": {
    "name": "ipython",
    "version": 3
   },
   "file_extension": ".py",
   "mimetype": "text/x-python",
   "name": "python",
   "nbconvert_exporter": "python",
   "pygments_lexer": "ipython3",
   "version": "3.6.3"
  }
 },
 "nbformat": 4,
 "nbformat_minor": 2
}
