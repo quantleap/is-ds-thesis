{
 "cells": [
  {
   "cell_type": "markdown",
   "metadata": {
    "heading_collapsed": true
   },
   "source": [
    "# Setup"
   ]
  },
  {
   "cell_type": "code",
   "execution_count": 1,
   "metadata": {
    "hidden": true
   },
   "outputs": [],
   "source": [
    "%load_ext autoreload\n",
    "%autoreload 2"
   ]
  },
  {
   "cell_type": "code",
   "execution_count": 2,
   "metadata": {
    "hidden": true
   },
   "outputs": [
    {
     "name": "stdout",
     "output_type": "stream",
     "text": [
      "adding /Users/Tom/Dropbox/datascience/_thesis/is-ds-thesis\n",
      "adding /Users/Tom/Dropbox/workspace/faillissementsdata_db\n",
      "['', '/Users/Tom/Dropbox/datascience/_thesis/is-ds-thesis/venv/lib/python36.zip', '/Users/Tom/Dropbox/datascience/_thesis/is-ds-thesis/venv/lib/python3.6', '/Users/Tom/Dropbox/datascience/_thesis/is-ds-thesis/venv/lib/python3.6/lib-dynload', '/Users/Tom/.pyenv/versions/3.6.3/lib/python3.6', '/Users/Tom/Dropbox/datascience/_thesis/is-ds-thesis/venv/lib/python3.6/site-packages', '/Users/Tom/Dropbox/datascience/_thesis/is-ds-thesis/venv/lib/python3.6/site-packages/IPython/extensions', '/Users/Tom/.ipython', '/Users/Tom/Dropbox/datascience/_thesis/is-ds-thesis', '/Users/Tom/Dropbox/workspace/faillissementsdata_db']\n"
     ]
    }
   ],
   "source": [
    "# append project root to sys.path to import modules\n",
    "# alternatively package the application and install with pip install --editable\n",
    "from pathlib import Path\n",
    "import sys\n",
    "project_dir = str(Path.cwd().parent)\n",
    "\n",
    "for d in [project_dir, '/Users/Tom/Dropbox/workspace/faillissementsdata_db']:\n",
    "    if d not in sys.path:\n",
    "        print('adding %s' % d)\n",
    "        sys.path.append(d)\n",
    "print(sys.path)"
   ]
  },
  {
   "cell_type": "code",
   "execution_count": 3,
   "metadata": {
    "hidden": true
   },
   "outputs": [
    {
     "name": "stdout",
     "output_type": "stream",
     "text": [
      "CONNECTION ESTABLISHED\n"
     ]
    }
   ],
   "source": [
    "#import pdb; pdb.set_trace()\n",
    "%matplotlib inline  \n",
    "# connection to the database\n",
    "import os\n",
    "import psycopg2\n",
    "from sqlalchemy import create_engine\n",
    "from sqlalchemy.orm import sessionmaker\n",
    "\n",
    "# set username/password here:\n",
    "db = {'username': os.environ['DB_QIR_USERNAME'],\n",
    "      'password': os.environ['DB_QIR_PASSWORD'],\n",
    "      'host': 'www.quantleap.nl',  \n",
    "      'catalog': 'qir'}\n",
    "\n",
    "con = 'postgresql://{username}:{password}@{host}/{catalog}'.format(**db)\n",
    "engine = create_engine(con, echo=True)\n",
    "\n",
    "# create a configured \"Session\" class and create session\n",
    "Session = sessionmaker(bind=engine)\n",
    "session = Session()\n",
    "\n",
    "# psycopg connection\n",
    "conn = psycopg2.connect(con)\n",
    "\n",
    "print('CONNECTION ESTABLISHED')"
   ]
  },
  {
   "cell_type": "code",
   "execution_count": 4,
   "metadata": {
    "hidden": true
   },
   "outputs": [],
   "source": [
    "import datetime\n",
    "import pandas as pd\n",
    "import re\n",
    "import json\n",
    "import matplotlib.pyplot as plt\n",
    "#import seaborn as sns\n",
    "#sns.set()  # apply the default default seaborn theme, scaling, and color palette.\n",
    "from app.model.process import *\n"
   ]
  },
  {
   "cell_type": "code",
   "execution_count": 14,
   "metadata": {
    "hidden": true
   },
   "outputs": [],
   "source": [
    "# set pandas display options\n",
    "pd.set_option('max_colwidth', 150)\n",
    "pd.set_option('display.max_rows', 100)\n",
    "pd.set_option('precision', 2)"
   ]
  },
  {
   "cell_type": "markdown",
   "metadata": {},
   "source": [
    "# Process Mining\n",
    "\n",
    "We can mine the insolvency process using CIR data by tracking certain events on the timeline:\n",
    "- court publications\n",
    "- data changes such as the replacement of administrator\n",
    "- information from the progress report although the corresponding date can only be approximated\n",
    "\n",
    "## Court publications\n",
    "Court publications offer import process information and use a code for each category. For insolvencies the publication frequency of each publication category is given below:"
   ]
  },
  {
   "cell_type": "code",
   "execution_count": 15,
   "metadata": {},
   "outputs": [
    {
     "data": {
      "text/html": [
       "<div>\n",
       "<style scoped>\n",
       "    .dataframe tbody tr th:only-of-type {\n",
       "        vertical-align: middle;\n",
       "    }\n",
       "\n",
       "    .dataframe tbody tr th {\n",
       "        vertical-align: top;\n",
       "    }\n",
       "\n",
       "    .dataframe thead th {\n",
       "        text-align: right;\n",
       "    }\n",
       "</style>\n",
       "<table border=\"1\" class=\"dataframe\">\n",
       "  <thead>\n",
       "    <tr style=\"text-align: right;\">\n",
       "      <th></th>\n",
       "      <th>type_code</th>\n",
       "      <th>count</th>\n",
       "      <th>description</th>\n",
       "    </tr>\n",
       "  </thead>\n",
       "  <tbody>\n",
       "    <tr>\n",
       "      <th>0</th>\n",
       "      <td>1300</td>\n",
       "      <td>42934</td>\n",
       "      <td>uitspraak faillissement op {datum_handeling}</td>\n",
       "    </tr>\n",
       "    <tr>\n",
       "      <th>1</th>\n",
       "      <td>1328</td>\n",
       "      <td>29808</td>\n",
       "      <td>vervanging rechtercommissaris</td>\n",
       "    </tr>\n",
       "    <tr>\n",
       "      <th>2</th>\n",
       "      <td>1316</td>\n",
       "      <td>25431</td>\n",
       "      <td>opheffing faillissement wegens gebrek aan baten op {datum_handeling}</td>\n",
       "    </tr>\n",
       "    <tr>\n",
       "      <th>3</th>\n",
       "      <td>1317</td>\n",
       "      <td>7378</td>\n",
       "      <td>einde faillissement door verbindende uitdelingslijst op {datum_handeling}</td>\n",
       "    </tr>\n",
       "    <tr>\n",
       "      <th>4</th>\n",
       "      <td>1307</td>\n",
       "      <td>5365</td>\n",
       "      <td>vervanging curator {naam_oude_cur} door {naam_nieuwe_cur}</td>\n",
       "    </tr>\n",
       "    <tr>\n",
       "      <th>5</th>\n",
       "      <td>1323</td>\n",
       "      <td>3572</td>\n",
       "      <td>rectificatie</td>\n",
       "    </tr>\n",
       "    <tr>\n",
       "      <th>6</th>\n",
       "      <td>1313</td>\n",
       "      <td>3382</td>\n",
       "      <td>neerlegging slotuitdelingslijst vanaf {datum_variabel}</td>\n",
       "    </tr>\n",
       "    <tr>\n",
       "      <th>7</th>\n",
       "      <td>1308</td>\n",
       "      <td>3140</td>\n",
       "      <td>vereenvoudigde afwikkeling van het faillissement</td>\n",
       "    </tr>\n",
       "    <tr>\n",
       "      <th>8</th>\n",
       "      <td>1306</td>\n",
       "      <td>2863</td>\n",
       "      <td>uitspraak faillissement na beëindiging surseance op {datum}</td>\n",
       "    </tr>\n",
       "    <tr>\n",
       "      <th>9</th>\n",
       "      <td>1315</td>\n",
       "      <td>2111</td>\n",
       "      <td>vereenvoudigde afwikkeling van het faillissement en neerlegging slotuitdelingslijst vanaf {datum_variabel}</td>\n",
       "    </tr>\n",
       "    <tr>\n",
       "      <th>10</th>\n",
       "      <td>1314</td>\n",
       "      <td>2044</td>\n",
       "      <td>neerlegging slotuitdelingslijst vanaf {datum_variabel}</td>\n",
       "    </tr>\n",
       "    <tr>\n",
       "      <th>11</th>\n",
       "      <td>1325</td>\n",
       "      <td>1648</td>\n",
       "      <td>pro forma verificatievergadering op {datum_handeling} om {tijdstip}</td>\n",
       "    </tr>\n",
       "    <tr>\n",
       "      <th>12</th>\n",
       "      <td>1309</td>\n",
       "      <td>1360</td>\n",
       "      <td>verificatievergadering op {datum_handeling} om {tijdstip}</td>\n",
       "    </tr>\n",
       "    <tr>\n",
       "      <th>13</th>\n",
       "      <td>1334</td>\n",
       "      <td>1278</td>\n",
       "      <td>Faillissement overgedragen aan ander arrondissement op</td>\n",
       "    </tr>\n",
       "    <tr>\n",
       "      <th>14</th>\n",
       "      <td>1312</td>\n",
       "      <td>326</td>\n",
       "      <td>neerlegging tussentijdse uitdelingslijst vanaf {datum_variabel}</td>\n",
       "    </tr>\n",
       "    <tr>\n",
       "      <th>15</th>\n",
       "      <td>1320</td>\n",
       "      <td>315</td>\n",
       "      <td>vernietiging faillissement na verzet op {datum_handeling}</td>\n",
       "    </tr>\n",
       "    <tr>\n",
       "      <th>16</th>\n",
       "      <td>1310</td>\n",
       "      <td>148</td>\n",
       "      <td>verificatievergadering en akkoordbehandeling op {datum_handeling} om {tijdstip}</td>\n",
       "    </tr>\n",
       "    <tr>\n",
       "      <th>17</th>\n",
       "      <td>1318</td>\n",
       "      <td>144</td>\n",
       "      <td>einde faillissement door goedkeuring akkoord op {datum_handeling}</td>\n",
       "    </tr>\n",
       "    <tr>\n",
       "      <th>18</th>\n",
       "      <td>1100</td>\n",
       "      <td>126</td>\n",
       "      <td>uitspraak faillissement in hoger beroep op {datum_handeling}</td>\n",
       "    </tr>\n",
       "    <tr>\n",
       "      <th>19</th>\n",
       "      <td>1102</td>\n",
       "      <td>91</td>\n",
       "      <td>vernietiging faillissement in hoger beroep op {datum_handeling}</td>\n",
       "    </tr>\n",
       "    <tr>\n",
       "      <th>20</th>\n",
       "      <td>1319</td>\n",
       "      <td>37</td>\n",
       "      <td>einde faillissement door verbindende uitdelingslijst na verzet op {datum_handeling}</td>\n",
       "    </tr>\n",
       "    <tr>\n",
       "      <th>21</th>\n",
       "      <td>1311</td>\n",
       "      <td>19</td>\n",
       "      <td>vergadering van schuldeisers op {datum_handeling} om {tijdstip}</td>\n",
       "    </tr>\n",
       "    <tr>\n",
       "      <th>22</th>\n",
       "      <td>1326</td>\n",
       "      <td>8</td>\n",
       "      <td>pro forma verificatievergadering en akkoordbehandeling op {datum_handeling} om {tijdstip}</td>\n",
       "    </tr>\n",
       "    <tr>\n",
       "      <th>23</th>\n",
       "      <td>1333</td>\n",
       "      <td>8</td>\n",
       "      <td>Faillissement omgezet in SSR op</td>\n",
       "    </tr>\n",
       "    <tr>\n",
       "      <th>24</th>\n",
       "      <td>1324</td>\n",
       "      <td>6</td>\n",
       "      <td>einde faillissement door voldoen van alle schulden op {datum_handeling}</td>\n",
       "    </tr>\n",
       "    <tr>\n",
       "      <th>25</th>\n",
       "      <td>1304</td>\n",
       "      <td>6</td>\n",
       "      <td>heropening faillissement door ontbinding akkoord in faillissement op {datum}</td>\n",
       "    </tr>\n",
       "    <tr>\n",
       "      <th>26</th>\n",
       "      <td>1202</td>\n",
       "      <td>4</td>\n",
       "      <td>vernietiging faillissement in cassatie op {datum_handeling}</td>\n",
       "    </tr>\n",
       "    <tr>\n",
       "      <th>27</th>\n",
       "      <td>1301</td>\n",
       "      <td>3</td>\n",
       "      <td>uitspraak faillissement door tussentijdse beëindiging schuldsanering op {datum}</td>\n",
       "    </tr>\n",
       "  </tbody>\n",
       "</table>\n",
       "</div>"
      ],
      "text/plain": [
       "   type_code  count                                                                                                 description\n",
       "0       1300  42934                                                                uitspraak faillissement op {datum_handeling}\n",
       "1       1328  29808                                                                               vervanging rechtercommissaris\n",
       "2       1316  25431                                        opheffing faillissement wegens gebrek aan baten op {datum_handeling}\n",
       "3       1317   7378                                   einde faillissement door verbindende uitdelingslijst op {datum_handeling}\n",
       "4       1307   5365                                                   vervanging curator {naam_oude_cur} door {naam_nieuwe_cur}\n",
       "5       1323   3572                                                                                                rectificatie\n",
       "6       1313   3382                                                      neerlegging slotuitdelingslijst vanaf {datum_variabel}\n",
       "7       1308   3140                                                            vereenvoudigde afwikkeling van het faillissement\n",
       "8       1306   2863                                                 uitspraak faillissement na beëindiging surseance op {datum}\n",
       "9       1315   2111  vereenvoudigde afwikkeling van het faillissement en neerlegging slotuitdelingslijst vanaf {datum_variabel}\n",
       "10      1314   2044                                                      neerlegging slotuitdelingslijst vanaf {datum_variabel}\n",
       "11      1325   1648                                         pro forma verificatievergadering op {datum_handeling} om {tijdstip}\n",
       "12      1309   1360                                                   verificatievergadering op {datum_handeling} om {tijdstip}\n",
       "13      1334   1278                                                      Faillissement overgedragen aan ander arrondissement op\n",
       "14      1312    326                                             neerlegging tussentijdse uitdelingslijst vanaf {datum_variabel}\n",
       "15      1320    315                                                   vernietiging faillissement na verzet op {datum_handeling}\n",
       "16      1310    148                             verificatievergadering en akkoordbehandeling op {datum_handeling} om {tijdstip}\n",
       "17      1318    144                                           einde faillissement door goedkeuring akkoord op {datum_handeling}\n",
       "18      1100    126                                                uitspraak faillissement in hoger beroep op {datum_handeling}\n",
       "19      1102     91                                             vernietiging faillissement in hoger beroep op {datum_handeling}\n",
       "20      1319     37                         einde faillissement door verbindende uitdelingslijst na verzet op {datum_handeling}\n",
       "21      1311     19                                             vergadering van schuldeisers op {datum_handeling} om {tijdstip}\n",
       "22      1326      8                   pro forma verificatievergadering en akkoordbehandeling op {datum_handeling} om {tijdstip}\n",
       "23      1333      8                                                                            Faillissement omgezet in SSR op \n",
       "24      1324      6                                     einde faillissement door voldoen van alle schulden op {datum_handeling}\n",
       "25      1304      6                                heropening faillissement door ontbinding akkoord in faillissement op {datum}\n",
       "26      1202      4                                                 vernietiging faillissement in cassatie op {datum_handeling}\n",
       "27      1301      3                             uitspraak faillissement door tussentijdse beëindiging schuldsanering op {datum}"
      ]
     },
     "execution_count": 15,
     "metadata": {},
     "output_type": "execute_result"
    }
   ],
   "source": [
    "df = publication_type_codes_count()\n",
    "df"
   ]
  },
  {
   "cell_type": "markdown",
   "metadata": {},
   "source": [
    "### in and outflow of insolvencies"
   ]
  },
  {
   "cell_type": "code",
   "execution_count": 31,
   "metadata": {},
   "outputs": [
    {
     "data": {
      "text/html": [
       "<div>\n",
       "<style scoped>\n",
       "    .dataframe tbody tr th:only-of-type {\n",
       "        vertical-align: middle;\n",
       "    }\n",
       "\n",
       "    .dataframe tbody tr th {\n",
       "        vertical-align: top;\n",
       "    }\n",
       "\n",
       "    .dataframe thead th {\n",
       "        text-align: right;\n",
       "    }\n",
       "</style>\n",
       "<table border=\"1\" class=\"dataframe\">\n",
       "  <thead>\n",
       "    <tr style=\"text-align: right;\">\n",
       "      <th></th>\n",
       "      <th>type_code</th>\n",
       "      <th>count</th>\n",
       "      <th>description</th>\n",
       "    </tr>\n",
       "  </thead>\n",
       "  <tbody>\n",
       "    <tr>\n",
       "      <th>0</th>\n",
       "      <td>1300</td>\n",
       "      <td>42934</td>\n",
       "      <td>uitspraak faillissement op {datum_handeling}</td>\n",
       "    </tr>\n",
       "    <tr>\n",
       "      <th>8</th>\n",
       "      <td>1306</td>\n",
       "      <td>2863</td>\n",
       "      <td>uitspraak faillissement na beëindiging surseance op {datum}</td>\n",
       "    </tr>\n",
       "    <tr>\n",
       "      <th>18</th>\n",
       "      <td>1100</td>\n",
       "      <td>126</td>\n",
       "      <td>uitspraak faillissement in hoger beroep op {datum_handeling}</td>\n",
       "    </tr>\n",
       "    <tr>\n",
       "      <th>25</th>\n",
       "      <td>1304</td>\n",
       "      <td>6</td>\n",
       "      <td>heropening faillissement door ontbinding akkoord in faillissement op {datum}</td>\n",
       "    </tr>\n",
       "    <tr>\n",
       "      <th>27</th>\n",
       "      <td>1301</td>\n",
       "      <td>3</td>\n",
       "      <td>uitspraak faillissement door tussentijdse beëindiging schuldsanering op {datum}</td>\n",
       "    </tr>\n",
       "  </tbody>\n",
       "</table>\n",
       "</div>"
      ],
      "text/plain": [
       "   type_code  count                                                                      description\n",
       "0       1300  42934                                     uitspraak faillissement op {datum_handeling}\n",
       "8       1306   2863                      uitspraak faillissement na beëindiging surseance op {datum}\n",
       "18      1100    126                     uitspraak faillissement in hoger beroep op {datum_handeling}\n",
       "25      1304      6     heropening faillissement door ontbinding akkoord in faillissement op {datum}\n",
       "27      1301      3  uitspraak faillissement door tussentijdse beëindiging schuldsanering op {datum}"
      ]
     },
     "execution_count": 31,
     "metadata": {},
     "output_type": "execute_result"
    }
   ],
   "source": [
    "from cir.publication import insolvency_F_start_codes, insolvency_F_end_codes\n",
    "\n",
    "df_in = df[df['type_code'].isin(insolvency_F_start_codes)]\n",
    "df_in"
   ]
  },
  {
   "cell_type": "code",
   "execution_count": 33,
   "metadata": {},
   "outputs": [
    {
     "data": {
      "text/html": [
       "<div>\n",
       "<style scoped>\n",
       "    .dataframe tbody tr th:only-of-type {\n",
       "        vertical-align: middle;\n",
       "    }\n",
       "\n",
       "    .dataframe tbody tr th {\n",
       "        vertical-align: top;\n",
       "    }\n",
       "\n",
       "    .dataframe thead th {\n",
       "        text-align: right;\n",
       "    }\n",
       "</style>\n",
       "<table border=\"1\" class=\"dataframe\">\n",
       "  <thead>\n",
       "    <tr style=\"text-align: right;\">\n",
       "      <th></th>\n",
       "      <th>type_code</th>\n",
       "      <th>count</th>\n",
       "      <th>description</th>\n",
       "    </tr>\n",
       "  </thead>\n",
       "  <tbody>\n",
       "    <tr>\n",
       "      <th>2</th>\n",
       "      <td>1316</td>\n",
       "      <td>25431</td>\n",
       "      <td>opheffing faillissement wegens gebrek aan baten op {datum_handeling}</td>\n",
       "    </tr>\n",
       "    <tr>\n",
       "      <th>3</th>\n",
       "      <td>1317</td>\n",
       "      <td>7378</td>\n",
       "      <td>einde faillissement door verbindende uitdelingslijst op {datum_handeling}</td>\n",
       "    </tr>\n",
       "    <tr>\n",
       "      <th>15</th>\n",
       "      <td>1320</td>\n",
       "      <td>315</td>\n",
       "      <td>vernietiging faillissement na verzet op {datum_handeling}</td>\n",
       "    </tr>\n",
       "    <tr>\n",
       "      <th>17</th>\n",
       "      <td>1318</td>\n",
       "      <td>144</td>\n",
       "      <td>einde faillissement door goedkeuring akkoord op {datum_handeling}</td>\n",
       "    </tr>\n",
       "    <tr>\n",
       "      <th>19</th>\n",
       "      <td>1102</td>\n",
       "      <td>91</td>\n",
       "      <td>vernietiging faillissement in hoger beroep op {datum_handeling}</td>\n",
       "    </tr>\n",
       "    <tr>\n",
       "      <th>20</th>\n",
       "      <td>1319</td>\n",
       "      <td>37</td>\n",
       "      <td>einde faillissement door verbindende uitdelingslijst na verzet op {datum_handeling}</td>\n",
       "    </tr>\n",
       "    <tr>\n",
       "      <th>23</th>\n",
       "      <td>1333</td>\n",
       "      <td>8</td>\n",
       "      <td>Faillissement omgezet in SSR op</td>\n",
       "    </tr>\n",
       "    <tr>\n",
       "      <th>24</th>\n",
       "      <td>1324</td>\n",
       "      <td>6</td>\n",
       "      <td>einde faillissement door voldoen van alle schulden op {datum_handeling}</td>\n",
       "    </tr>\n",
       "    <tr>\n",
       "      <th>26</th>\n",
       "      <td>1202</td>\n",
       "      <td>4</td>\n",
       "      <td>vernietiging faillissement in cassatie op {datum_handeling}</td>\n",
       "    </tr>\n",
       "  </tbody>\n",
       "</table>\n",
       "</div>"
      ],
      "text/plain": [
       "   type_code  count                                                                          description\n",
       "2       1316  25431                 opheffing faillissement wegens gebrek aan baten op {datum_handeling}\n",
       "3       1317   7378            einde faillissement door verbindende uitdelingslijst op {datum_handeling}\n",
       "15      1320    315                            vernietiging faillissement na verzet op {datum_handeling}\n",
       "17      1318    144                    einde faillissement door goedkeuring akkoord op {datum_handeling}\n",
       "19      1102     91                      vernietiging faillissement in hoger beroep op {datum_handeling}\n",
       "20      1319     37  einde faillissement door verbindende uitdelingslijst na verzet op {datum_handeling}\n",
       "23      1333      8                                                     Faillissement omgezet in SSR op \n",
       "24      1324      6              einde faillissement door voldoen van alle schulden op {datum_handeling}\n",
       "26      1202      4                          vernietiging faillissement in cassatie op {datum_handeling}"
      ]
     },
     "execution_count": 33,
     "metadata": {},
     "output_type": "execute_result"
    }
   ],
   "source": [
    "df_out = df[df['type_code'].isin(insolvency_F_end_codes)]\n",
    "df_out"
   ]
  },
  {
   "cell_type": "code",
   "execution_count": 73,
   "metadata": {},
   "outputs": [
    {
     "data": {
      "text/plain": [
       "['1300',\n",
       " '1306',\n",
       " '1100',\n",
       " '1304',\n",
       " '1301',\n",
       " '1316',\n",
       " '1317',\n",
       " '1320',\n",
       " '1318',\n",
       " '1102',\n",
       " '1319',\n",
       " '1333',\n",
       " '1324',\n",
       " '1202']"
      ]
     },
     "execution_count": 73,
     "metadata": {},
     "output_type": "execute_result"
    }
   ],
   "source": [
    "flows = df_in['count'].append(-1 * df_out['count'])\n",
    "type_codes = df_in['type_code'].append(df_out['type_code'])\n",
    "descriptions = df_in['description'].append(df_out['description'])\n",
    "total = df_in['count'].sum()"
   ]
  },
  {
   "cell_type": "code",
   "execution_count": 84,
   "metadata": {},
   "outputs": [
    {
     "data": {
      "image/png": "[encoded data removed]",
      "text/plain": [
       "<matplotlib.figure.Figure at 0x10e3f7940>"
      ]
     },
     "metadata": {},
     "output_type": "display_data"
    }
   ],
   "source": [
    "# sankey diagram to show in and outflow of insolvencies\n",
    "from matplotlib.sankey import Sankey\n",
    "\n",
    "sankey = Sankey(scale=1/total, offset=0.2, head_angle=150)\n",
    "sankey.add(flows=flows,\n",
    "           labels=list(descriptions), \n",
    "           orientations=[0] * len(flows),\n",
    "           pathlengths=[0.25, 0.25, 0.25, 0.25, 0.25, 0.25, 0.25, 0.25, 0.25, 0.25, 0.25, 0.25, 0.25, 0.25])\n",
    "diagrams = sankey.finish()"
   ]
  },
  {
   "cell_type": "markdown",
   "metadata": {},
   "source": [
    "# Rectifications\n"
   ]
  },
  {
   "cell_type": "markdown",
   "metadata": {},
   "source": [
    "\n"
   ]
  },
  {
   "cell_type": "markdown",
   "metadata": {},
   "source": [
    "\n",
    "\n",
    "## Determination of the insolvency start date \n",
    "### From Publication\n",
    "Certain publication codes and descriptions indicate a start date of the insolvency. \n",
    "\n",
    "Examples:\n",
    "- '1300': 'uitspraak faillissement op ...'\n",
    "- '1301': 'uitspraak faillissement door tussentijdse beëindiging schuldsanering op ...'\n",
    "- '1302': 'uitspraak faillissement tijdens schuldsanering op ...'\n",
    "- '1303': 'uitspraak faillissement door ontbinding akkoord in schuldsanering op ...'\n",
    "\n",
    "all start codes = ['1100', '1200', '1300', '1301', '1302', '1303', '1304', '1305', '1306', '3313']\n",
    "\n",
    "### Alternative sources\n",
    "- earliest start date on administrator_receiver\n",
    "- earliest start date on addresses_insolvent\n",
    "- earliest start date on addresses_business_name\n",
    "\n",
    "### Completeness insolvency start date"
   ]
  },
  {
   "cell_type": "code",
   "execution_count": 8,
   "metadata": {},
   "outputs": [
    {
     "data": {
      "text/plain": [
       "{'with_start_date': 16116, 'without_start_date': 0, 'completeness': 1.0}"
      ]
     },
     "execution_count": 8,
     "metadata": {},
     "output_type": "execute_result"
    }
   ],
   "source": [
    "insolvency_start_date_completeness(only_active=True, cutoff_date=date(2005, 1, 1))"
   ]
  },
  {
   "cell_type": "markdown",
   "metadata": {},
   "source": [
    "\n",
    "# Bankruptcies over time"
   ]
  },
  {
   "cell_type": "markdown",
   "metadata": {},
   "source": [
    "## New bankruptcies"
   ]
  },
  {
   "cell_type": "code",
   "execution_count": 9,
   "metadata": {},
   "outputs": [],
   "source": [
    "from app.model.process import insolvency_start_date_count\n",
    "from datetime import date\n",
    "\n",
    "s = insolvency_start_date_count().resample('M').sum()"
   ]
  },
  {
   "cell_type": "code",
   "execution_count": 10,
   "metadata": {},
   "outputs": [
    {
     "data": {
      "image/png": "[encoded data removed]",
      "text/plain": [
       "<matplotlib.figure.Figure at 0x1069f3780>"
      ]
     },
     "metadata": {},
     "output_type": "display_data"
    }
   ],
   "source": [
    "fig = plot_insolvency_start_date_count(s)"
   ]
  },
  {
   "cell_type": "code",
   "execution_count": null,
   "metadata": {},
   "outputs": [],
   "source": []
  }
 ],
 "metadata": {
  "kernelspec": {
   "display_name": "is-ds-thesis",
   "language": "python",
   "name": "is-ds-thesis"
  },
  "language_info": {
   "codemirror_mode": {
    "name": "ipython",
    "version": 3
   },
   "file_extension": ".py",
   "mimetype": "text/x-python",
   "name": "python",
   "nbconvert_exporter": "python",
   "pygments_lexer": "ipython3",
   "version": "3.6.3"
  }
 },
 "nbformat": 4,
 "nbformat_minor": 2
}
