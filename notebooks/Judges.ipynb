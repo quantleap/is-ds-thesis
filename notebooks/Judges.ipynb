{
 "cells": [
  {
   "cell_type": "markdown",
   "metadata": {},
   "source": [
    "#### Setup"
   ]
  },
  {
   "cell_type": "code",
   "execution_count": 2,
   "metadata": {},
   "outputs": [
    {
     "name": "stdout",
     "output_type": "stream",
     "text": [
      "CONNECTION ESTABLISHED\n"
     ]
    }
   ],
   "source": [
    "#import pdb; pdb.set_trace()\n",
    "\n",
    "%matplotlib inline  \n",
    "import pandas as pd\n",
    "import matplotlib.pyplot as plt\n",
    "import os\n",
    "import re\n",
    "import json\n",
    "import psycopg2\n",
    "from sqlalchemy.engine.url import URL\n",
    "\n",
    "# connection to the database\n",
    "# connection string for use in pandas:\n",
    "con = str(URL(drivername='postgresql', \n",
    "              username=os.environ['DB_QIR_USERNAME'], \n",
    "              password=os.environ['DB_QIR_PASSWORD'], \n",
    "              #host='www.quantleap.nl', \n",
    "              host='localhost', \n",
    "              database='qir'))\n",
    "\n",
    "# cursor for use with psycopg2\n",
    "conn = psycopg2.connect(con)\n",
    "cur = conn.cursor()  \n",
    "print('CONNECTION ESTABLISHED')"
   ]
  },
  {
   "cell_type": "code",
   "execution_count": null,
   "metadata": {
    "collapsed": true
   },
   "outputs": [],
   "source": []
  }
 ],
 "metadata": {
  "kernelspec": {
   "display_name": "is-ds-thesis",
   "language": "python",
   "name": "is-ds-thesis"
  },
  "language_info": {
   "codemirror_mode": {
    "name": "ipython",
    "version": 3
   },
   "file_extension": ".py",
   "mimetype": "text/x-python",
   "name": "python",
   "nbconvert_exporter": "python",
   "pygments_lexer": "ipython3",
   "version": "3.6.3"
  }
 },
 "nbformat": 4,
 "nbformat_minor": 2
}
