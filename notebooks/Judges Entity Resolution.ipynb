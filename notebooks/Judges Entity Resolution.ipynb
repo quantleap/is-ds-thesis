{
 "cells": [
  {
   "cell_type": "markdown",
   "metadata": {},
   "source": [
    "# Setup"
   ]
  },
  {
   "cell_type": "code",
   "execution_count": 3,
   "metadata": {},
   "outputs": [
    {
     "name": "stdout",
     "output_type": "stream",
     "text": [
      "CONNECTION ESTABLISHED\n"
     ]
    }
   ],
   "source": [
    "#import pdb; pdb.set_trace()\n",
    "\n",
    "%matplotlib inline  \n",
    "import pandas as pd\n",
    "import os\n",
    "import re\n",
    "import json\n",
    "\n",
    "# connection to the database\n",
    "import os\n",
    "from sqlalchemy import create_engine\n",
    "\n",
    "# set username/password here:\n",
    "db = {'username': 'dbusr',  #os.environ['USERNAME_11323671'],\n",
    "      'password': 'dbpw',  #os.environ['PASSWORD_11323671'],\n",
    "      'host': 'localhost',  # 'quantleap.nl:5432',\n",
    "      'catalog': 'qir'}\n",
    "\n",
    "con = 'postgresql://{username}:{password}@{host}/{catalog}'.format(**db)\n",
    "engine = create_engine(con, echo=True)\n",
    "print('CONNECTION ESTABLISHED')"
   ]
  },
  {
   "cell_type": "markdown",
   "metadata": {},
   "source": [
    "# Judges"
   ]
  },
  {
   "cell_type": "markdown",
   "metadata": {},
   "source": [
    "## Example of non normalized judge names:\n",
    " \n",
    " - \"mr. W.J.  Geurts - de Veld\"\n",
    " - \"mr. W.J. Geurts - de Veld\"\n",
    " - \"mr. W.J. Geurts-deVeld\"\n",
    " - \"mr. W.J. Geurts-de Veld\"\n",
    " - \"mr. W.J.Geurts-de Veld\"\n",
    " - \"mr.W.J. Geurts-de Veld\"\n",
    " - \"mr. W.J. Geurts-de Veld (Rotterdam)\"\n",
    " - \"mr W.J.Geurts-de Veld\"\n",
    " - \"W.J.Geurts-de Veld\"\n",
    " \n",
    " correct: \"mr. W.J. Geurts-de Veld\"\n",
    " normalized: \"wj geurts-de veld\"\n",
    " \n",
    " normalization steps:\n",
    " 1. make lowercase\n",
    " 2. remove leading mr[.]\n",
    " 3. remove spaces around dash\n",
    " 4. remove dots\n",
    " 5. replace double spaces by single space\n",
    " 6. remove parentheses and text within\n",
    " 7. strip leading and trailing spaces "
   ]
  }
 ],
 "metadata": {
  "kernelspec": {
   "display_name": "is-ds-thesis",
   "language": "python",
   "name": "is-ds-thesis"
  },
  "language_info": {
   "codemirror_mode": {
    "name": "ipython",
    "version": 3
   },
   "file_extension": ".py",
   "mimetype": "text/x-python",
   "name": "python",
   "nbconvert_exporter": "python",
   "pygments_lexer": "ipython3",
   "version": "3.6.3"
  }
 },
 "nbformat": 4,
 "nbformat_minor": 2
}
