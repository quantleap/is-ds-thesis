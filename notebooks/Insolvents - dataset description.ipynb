{
 "cells": [
  {
   "cell_type": "markdown",
   "metadata": {},
   "source": [
    "#### Setup"
   ]
  },
  {
   "cell_type": "code",
   "execution_count": 5,
   "metadata": {},
   "outputs": [
    {
     "name": "stdout",
     "output_type": "stream",
     "text": [
      "CONNECTION ESTABLISHED\n"
     ]
    }
   ],
   "source": [
    "#import pdb; pdb.set_trace()\n",
    "\n",
    "%matplotlib inline  \n",
    "import pandas as pd\n",
    "import numpy as np\n",
    "import matplotlib.pyplot as plt\n",
    "import os\n",
    "import re\n",
    "import json\n",
    "import psycopg2\n",
    "from sqlalchemy.engine.url import URL\n",
    "\n",
    "# connection to the database\n",
    "# connection string for use in pandas:\n",
    "con = str(URL(drivername='postgresql', \n",
    "              username=os.environ['DB_QIR_USERNAME'], \n",
    "              password=os.environ['DB_QIR_PASSWORD'], \n",
    "              host='www.quantleap.nl', \n",
    "              #host='localhost', \n",
    "              database='qir'))\n",
    "\n",
    "# cursor for use with psycopg2\n",
    "conn = psycopg2.connect(con)\n",
    "cur = conn.cursor()  \n",
    "print('CONNECTION ESTABLISHED')"
   ]
  },
  {
   "cell_type": "markdown",
   "metadata": {},
   "source": [
    "# Insolvency types\n",
    "insolvencies can be of different types:\n",
    "- schuldsanering (R)\n",
    "- surseance (S)\n",
    "- Fallissement (F)\n",
    "\n",
    "and can involve a (person_legal_personality)\n",
    "- rechtspersoon \n",
    "- natuurlijk persoon"
   ]
  },
  {
   "cell_type": "code",
   "execution_count": 6,
   "metadata": {},
   "outputs": [
    {
     "data": {
      "text/html": [
       "<div>\n",
       "<style scoped>\n",
       "    .dataframe tbody tr th:only-of-type {\n",
       "        vertical-align: middle;\n",
       "    }\n",
       "\n",
       "    .dataframe tbody tr th {\n",
       "        vertical-align: top;\n",
       "    }\n",
       "\n",
       "    .dataframe thead th {\n",
       "        text-align: right;\n",
       "    }\n",
       "</style>\n",
       "<table border=\"1\" class=\"dataframe\">\n",
       "  <thead>\n",
       "    <tr style=\"text-align: right;\">\n",
       "      <th>person_legal_personality</th>\n",
       "      <th>natuurlijk persoon</th>\n",
       "      <th>rechtspersoon</th>\n",
       "    </tr>\n",
       "    <tr>\n",
       "      <th>insolvency_type</th>\n",
       "      <th></th>\n",
       "      <th></th>\n",
       "    </tr>\n",
       "  </thead>\n",
       "  <tbody>\n",
       "    <tr>\n",
       "      <th>D</th>\n",
       "      <td>NaN</td>\n",
       "      <td>4.0</td>\n",
       "    </tr>\n",
       "    <tr>\n",
       "      <th>F</th>\n",
       "      <td>17821.0</td>\n",
       "      <td>49151.0</td>\n",
       "    </tr>\n",
       "    <tr>\n",
       "      <th>R</th>\n",
       "      <td>94806.0</td>\n",
       "      <td>17.0</td>\n",
       "    </tr>\n",
       "    <tr>\n",
       "      <th>S</th>\n",
       "      <td>88.0</td>\n",
       "      <td>1703.0</td>\n",
       "    </tr>\n",
       "  </tbody>\n",
       "</table>\n",
       "</div>"
      ],
      "text/plain": [
       "person_legal_personality  natuurlijk persoon  rechtspersoon\n",
       "insolvency_type                                            \n",
       "D                                        NaN            4.0\n",
       "F                                    17821.0        49151.0\n",
       "R                                    94806.0           17.0\n",
       "S                                       88.0         1703.0"
      ]
     },
     "execution_count": 6,
     "metadata": {},
     "output_type": "execute_result"
    }
   ],
   "source": [
    "sql = \"\"\"select insolvency_type, person_legal_personality from insolvents;\"\"\"\n",
    "df = pd.read_sql(sql, con)\n",
    "\n",
    "pd.pivot_table(df, values='insolvency_type', index=['insolvency_type'],\n",
    "                    columns=['person_legal_personality'], aggfunc=lambda x: len(x))"
   ]
  },
  {
   "cell_type": "markdown",
   "metadata": {},
   "source": [
    "We are interested in companies in bankrupcty, the F/rechtspersoon combination.\n"
   ]
  },
  {
   "cell_type": "code",
   "execution_count": 16,
   "metadata": {},
   "outputs": [
    {
     "data": {
      "text/html": [
       "<div>\n",
       "<style scoped>\n",
       "    .dataframe tbody tr th:only-of-type {\n",
       "        vertical-align: middle;\n",
       "    }\n",
       "\n",
       "    .dataframe tbody tr th {\n",
       "        vertical-align: top;\n",
       "    }\n",
       "\n",
       "    .dataframe thead th {\n",
       "        text-align: right;\n",
       "    }\n",
       "</style>\n",
       "<table border=\"1\" class=\"dataframe\">\n",
       "  <thead>\n",
       "    <tr style=\"text-align: right;\">\n",
       "      <th></th>\n",
       "      <th>count</th>\n",
       "    </tr>\n",
       "  </thead>\n",
       "  <tbody>\n",
       "    <tr>\n",
       "      <th>0</th>\n",
       "      <td>49151</td>\n",
       "    </tr>\n",
       "  </tbody>\n",
       "</table>\n",
       "</div>"
      ],
      "text/plain": [
       "   count\n",
       "0  49151"
      ]
     },
     "execution_count": 16,
     "metadata": {},
     "output_type": "execute_result"
    }
   ],
   "source": [
    "# use views that filter F/rechtspersoon\n",
    "sql = \"\"\"select count(*) from company_bankrupt_insolvents_view;\"\"\"\n",
    "pd.read_sql(sql, con)"
   ]
  },
  {
   "cell_type": "code",
   "execution_count": 14,
   "metadata": {},
   "outputs": [
    {
     "data": {
      "text/html": [
       "<div>\n",
       "<style scoped>\n",
       "    .dataframe tbody tr th:only-of-type {\n",
       "        vertical-align: middle;\n",
       "    }\n",
       "\n",
       "    .dataframe tbody tr th {\n",
       "        vertical-align: top;\n",
       "    }\n",
       "\n",
       "    .dataframe thead th {\n",
       "        text-align: right;\n",
       "    }\n",
       "</style>\n",
       "<table border=\"1\" class=\"dataframe\">\n",
       "  <thead>\n",
       "    <tr style=\"text-align: right;\">\n",
       "      <th></th>\n",
       "      <th>count</th>\n",
       "    </tr>\n",
       "  </thead>\n",
       "  <tbody>\n",
       "    <tr>\n",
       "      <th>0</th>\n",
       "      <td>17476</td>\n",
       "    </tr>\n",
       "  </tbody>\n",
       "</table>\n",
       "</div>"
      ],
      "text/plain": [
       "   count\n",
       "0  17476"
      ]
     },
     "execution_count": 14,
     "metadata": {},
     "output_type": "execute_result"
    }
   ],
   "source": [
    "# .. of which currently active\n",
    "sql = \"\"\"select count(*) from active_company_bankrupt_insolvents_view;\"\"\"\n",
    "pd.read_sql(sql, con)"
   ]
  },
  {
   "cell_type": "markdown",
   "metadata": {},
   "source": [
    "# Process Mining of Insolvency Processes\n",
    "Using process mining we like to get information on the flow of insolvency cases through the court system. \n",
    "There are two sources where the state of the insolvency case is logged:\n",
    "\n",
    "1. structured: in the court publication description and type code\n",
    "2. unstructuctured: a variety of information in the progress reports\n",
    "\n",
    "\n",
    "# set start date insolvency using publication.type_code\n",
    "This field is derived from the publication type code. Certain type codes indicate the start of the insolvency, other the end.\n",
    "\n",
    "\n",
    "## start date insolvency completeness"
   ]
  },
  {
   "cell_type": "code",
   "execution_count": 10,
   "metadata": {},
   "outputs": [],
   "source": [
    "sql = \"\"\"select * from active_company_bankrupt_insolvents_view;\"\"\"\n",
    "df_available_insolvents = pd.read_sql(sql, con)\n"
   ]
  },
  {
   "cell_type": "code",
   "execution_count": 12,
   "metadata": {},
   "outputs": [
    {
     "data": {
      "text/html": [
       "<div>\n",
       "<style scoped>\n",
       "    .dataframe tbody tr th:only-of-type {\n",
       "        vertical-align: middle;\n",
       "    }\n",
       "\n",
       "    .dataframe tbody tr th {\n",
       "        vertical-align: top;\n",
       "    }\n",
       "\n",
       "    .dataframe thead th {\n",
       "        text-align: right;\n",
       "    }\n",
       "</style>\n",
       "<table border=\"1\" class=\"dataframe\">\n",
       "  <thead>\n",
       "    <tr style=\"text-align: right;\">\n",
       "      <th></th>\n",
       "      <th>count</th>\n",
       "      <th>pct</th>\n",
       "    </tr>\n",
       "    <tr>\n",
       "      <th>start_date_insolvency</th>\n",
       "      <th></th>\n",
       "      <th></th>\n",
       "    </tr>\n",
       "  </thead>\n",
       "  <tbody>\n",
       "    <tr>\n",
       "      <th>False</th>\n",
       "      <td>973</td>\n",
       "      <td>0.055676</td>\n",
       "    </tr>\n",
       "    <tr>\n",
       "      <th>True</th>\n",
       "      <td>16503</td>\n",
       "      <td>0.944324</td>\n",
       "    </tr>\n",
       "  </tbody>\n",
       "</table>\n",
       "</div>"
      ],
      "text/plain": [
       "                       count       pct\n",
       "start_date_insolvency                 \n",
       "False                    973  0.055676\n",
       "True                   16503  0.944324"
      ]
     },
     "execution_count": 12,
     "metadata": {},
     "output_type": "execute_result"
    }
   ],
   "source": [
    "s = df_available_insolvents.start_date_insolvency.notnull()\n",
    "has_start_date = s.groupby(s).size()\n",
    "pd.DataFrame({'count': has_start_date, 'pct': has_start_date/has_start_date.sum()})\n"
   ]
  },
  {
   "cell_type": "markdown",
   "metadata": {},
   "source": [
    "results start data insolvency from court publication on active insolvents:\n",
    "                        count\tpct\n",
    "start_date_insolvency\t\t\n",
    "False\t                973\t    0.055676\n",
    "True\t                16503\t0.944324"
   ]
  },
  {
   "cell_type": "markdown",
   "metadata": {},
   "source": [
    "### Result discussion\n",
    "It appears that a small portion of unknown start dates is caused by the left censoring of data: the initial publication relating to the start of the default was not included in the dataset, CIR began slowly in 2010 and only fully around 2014.\n",
    "\n",
    "But the analysis shown below suggests otherwise, most cases without start date are from the years 2014-2015. Needs further analysis, many cases are transferred to another court.\n",
    "\n",
    "Other sources for the start date are:\n",
    "1. start date administrator\n",
    "2. start date address insolvent"
   ]
  },
  {
   "cell_type": "markdown",
   "metadata": {},
   "source": [
    "### how do cases start out"
   ]
  },
  {
   "cell_type": "code",
   "execution_count": null,
   "metadata": {},
   "outputs": [],
   "source": [
    "sql = \"\"\"\n",
    "create temp table publication_types (type_code varchar, description  varchar);\n",
    "insert into publication_types (type_code, description) values\n",
    "  ('1100', 'uitspraak faillissement in hoger beroep'),\n",
    "  ('1200', 'uitspraak faillissement in cassatie'),\n",
    "  ('1300', 'uitspraak faillissement'),\n",
    "  ('1301', 'uitspraak faillissement door tussentijdse beëindiging schuldsanering'),\n",
    "  ('1302', 'uitspraak faillissement tijdens schuldsanering'),\n",
    "  ('1303', 'uitspraak faillissement door ontbinding akkoord in schuldsanering '),\n",
    "  ('1304', 'heropening faillissement door ontbinding akkoord in faillissement'),\n",
    "  ('1305', 'uitspraak faillissement door ontbinding akkoord in surseance'),\n",
    "  ('1306', 'uitspraak faillissement na beëindiging surseance '),\n",
    "  ('3313', 'Beëindiging door omzetting in faillissement');\n",
    "with available_insolvents as \n",
    "    (select * from insolvents where person_legal_personality = 'rechtspersoon' and type = 'F'\n",
    "     --and is_removed is False and (end_findability > current_date or end_findability is null)\n",
    "     ),\n",
    "with_start_date_ins as (select * from insolvents where start_date_insolvency is not NULL)\n",
    "  select pub.type_code, pt.description, count(*)\n",
    "    from with_start_date_ins ins\n",
    "      join publications pub on ins.id = pub.insolvent_id\n",
    "      join publication_types pt on pt.type_code = pub.type_code\n",
    "    where pub.type_code in ('1100', '1200', '1300', '1301', '1302', '1303', '1304', '1305', '1306', '3313')\n",
    "  group by 1, 2\n",
    "order by count desc;\n",
    "\"\"\"\n",
    "df = pd.read_sql(sql, con)\n",
    "df.style"
   ]
  },
  {
   "cell_type": "markdown",
   "metadata": {},
   "source": [
    "#### Results\n",
    "We can determine how cases start out. This can be sliced to a period, court, etc.<br>\n",
    "Using a stacked area graph it can be shown how cases endings change over time."
   ]
  },
  {
   "cell_type": "markdown",
   "metadata": {},
   "source": [
    "### how do cases end"
   ]
  },
  {
   "cell_type": "code",
   "execution_count": null,
   "metadata": {},
   "outputs": [],
   "source": [
    "sql = \"\"\"\n",
    "create temp table publication_types (type_code varchar, description  varchar);\n",
    "insert into publication_types (type_code, description) values\n",
    "('1102', 'vernietiging faillissement in hoger beroep'),\n",
    "('1202', 'vernietiging faillissement in cassatie'),\n",
    "('1316', 'opheffing faillissement wegens gebrek aan baten'),\n",
    "('1317', 'einde faillissement door verbindende uitdelingslijst'),\n",
    "('1318', 'einde faillissement door goedkeuring akkoord'),\n",
    "('1319', 'einde faillissement door verbindende uitdelingslijst na verzet'),\n",
    "('1320', 'vernietiging faillissement na verzet'),\n",
    "('1324', 'einde faillissement door voldoen van alle schulden'),\n",
    "('1333', 'Faillissement omgezet in schuldsanering');\n",
    "\n",
    "with available_insolvents as \n",
    "    (select * from insolvents where person_legal_personality = 'rechtspersoon' and type='F'\n",
    "     --and is_removed is False and (end_findability > current_date or end_findability is null)\n",
    "     ),\n",
    "with_end_date_ins as (select * from insolvents where end_date_insolvency is not NULL)\n",
    "  select pub.type_code, pt.description, count(*)\n",
    "    from with_end_date_ins ins\n",
    "      join publications pub on ins.id = pub.insolvent_id\n",
    "      join publication_types pt on pt.type_code = pub.type_code\n",
    "    where pub.type_code in ('1102', '1202', '1316', '1317', '1318', '1319', '1320', '1324', '1333')\n",
    "  group by 1, 2\n",
    "order by count desc;\n",
    "\"\"\"\n",
    "df = pd.read_sql(sql, con)\n",
    "df.style.set_properties()"
   ]
  },
  {
   "cell_type": "markdown",
   "metadata": {
    "collapsed": true
   },
   "source": [
    "## Intermediate states\n",
    "Apart from beginning and end state many intermediate states can be identified from the data. One example is the moment of setting the verification meeting for which a timing constraint is set by the law.\n",
    "\n",
    "### when are verification meetings set\n",
    "Verfification meetings are supposed to be schedules (not held) within 14 days after the publication of bankruptcy. This demand is seen as a dead letter to be changed with the new law from 2019-1-1 onwards. From the distribution is can be seen that this deadline is almost never met, on the contrary, it appears breached up to a point that it needs further inspection."
   ]
  },
  {
   "cell_type": "code",
   "execution_count": null,
   "metadata": {},
   "outputs": [],
   "source": [
    "sql = \"\"\"\n",
    "with available_insolvents as\n",
    "  (select * from insolvents where person_legal_personality = 'rechtspersoon' and type='F'\n",
    "                             and start_date_insolvency is not null\n",
    "                             and is_removed is False\n",
    "                             and (end_findability > current_date or end_findability is null)\n",
    "                             --limit 1000\n",
    "  ),\n",
    "  min_pub_dates as (select case_number, (select min(p.date) from publications p\n",
    "                                             join available_insolvents i2 on p.insolvent_id = i2.id\n",
    "                                             where i2.id = i1.id\n",
    "                                               and p.type_code in ('1309', '1310', '1325', '1326',\n",
    "                              '2310', '2311', '2312', '2313', '2314', '2315', '2316', '2317', '2318',\n",
    "                              '2338', '2339', '2340', '2341', '2342', '2343', '2344', '2345', '2346', '2347')\n",
    "                                             ) as min_pub_date,\n",
    "                           start_date_insolvency\n",
    "                    from available_insolvents i1)\n",
    "select start_date_insolvency, case_number, min_pub_date - start_date_insolvency as days_after_start\n",
    "from min_pub_dates where min_pub_date is not null\n",
    "order by 1 desc, 2, 3 desc;\"\"\"\n",
    "df = pd.read_sql(sql, con)"
   ]
  },
  {
   "cell_type": "code",
   "execution_count": null,
   "metadata": {},
   "outputs": [],
   "source": [
    "df.days_after_start.plot.hist(bins=50);"
   ]
  },
  {
   "cell_type": "code",
   "execution_count": null,
   "metadata": {},
   "outputs": [],
   "source": [
    "# see recent breaches\n",
    "df[df.start_date_insolvency > datetime.date(2016, 1, 1)].plot.hist(bins=50)\n",
    "\n",
    "# this data is right censored, cases which not yet had a verification meeting publication are not seen."
   ]
  },
  {
   "cell_type": "code",
   "execution_count": null,
   "metadata": {},
   "outputs": [],
   "source": [
    "# see recent breaches\n",
    "import datetime\n",
    "df[df.start_date_insolvency > datetime.date(2016, 1, 1)].sort_values(by=['days_after_start'], ascending=False).head(20)"
   ]
  },
  {
   "cell_type": "code",
   "execution_count": null,
   "metadata": {},
   "outputs": [],
   "source": [
    "# pull a file e.g. the second\n",
    "sql = \"\"\"\n",
    "select case_number, date, type_code, description, start_date_insolvency\n",
    "from insolvents i join publications p on i.id = p.insolvent_id\n",
    "where case_number = 'F.03/16/31'\n",
    "order by date;\n",
    "\"\"\"\n",
    "pd.read_sql(sql, con).style"
   ]
  },
  {
   "cell_type": "code",
   "execution_count": null,
   "metadata": {},
   "outputs": [],
   "source": []
  }
 ],
 "metadata": {
  "kernelspec": {
   "display_name": "is-ds-thesis",
   "language": "python",
   "name": "is-ds-thesis"
  },
  "language_info": {
   "codemirror_mode": {
    "name": "ipython",
    "version": 3
   },
   "file_extension": ".py",
   "mimetype": "text/x-python",
   "name": "python",
   "nbconvert_exporter": "python",
   "pygments_lexer": "ipython3",
   "version": "3.6.3"
  }
 },
 "nbformat": 4,
 "nbformat_minor": 2
}
