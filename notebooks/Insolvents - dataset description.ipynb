{
 "cells": [
  {
   "cell_type": "markdown",
   "metadata": {},
   "source": [
    "#### Setup"
   ]
  },
  {
   "cell_type": "code",
   "execution_count": 67,
   "metadata": {},
   "outputs": [
    {
     "name": "stdout",
     "output_type": "stream",
     "text": [
      "3.7.2 (default, Mar  4 2019, 17:13:23) \n",
      "[Clang 10.0.0 (clang-1000.10.44.4)]\n",
      "/Users/Tom/.pyenv/versions/3.7.2/bin/python3.7\n"
     ]
    }
   ],
   "source": [
    "import sys\n",
    "print(sys.version)\n",
    "print(sys.executable)"
   ]
  },
  {
   "cell_type": "code",
   "execution_count": 68,
   "metadata": {
    "code_folding": []
   },
   "outputs": [
    {
     "name": "stdout",
     "output_type": "stream",
     "text": [
      "CONNECTION ESTABLISHED\n"
     ]
    }
   ],
   "source": [
    "#import pdb; pdb.set_trace()\n",
    "\n",
    "%matplotlib inline  \n",
    "import pandas as pd\n",
    "import numpy as np\n",
    "import matplotlib.pyplot as plt\n",
    "\n",
    "import os\n",
    "import re\n",
    "import json\n",
    "import psycopg2\n",
    "from sqlalchemy.engine.url import URL\n",
    "\n",
    "# connection to the database\n",
    "# connection string for use in pandas:\n",
    "con = str(URL(drivername='postgresql', \n",
    "              username=os.environ['DB_QIR_USERNAME'], \n",
    "              password=os.environ['DB_QIR_PASSWORD'], \n",
    "              host='localhost', \n",
    "              database='qir'))\n",
    "\n",
    "# cursor for use with psycopg2\n",
    "conn = psycopg2.connect(con)\n",
    "cur = conn.cursor()  \n",
    "print('CONNECTION ESTABLISHED')"
   ]
  },
  {
   "cell_type": "markdown",
   "metadata": {},
   "source": [
    "# Dataset demarcation by legal type and insolvency type\n",
    "insolvencies can be of different types:\n",
    "- Schuldsanering (R) = debt restructering\n",
    "- Surseance (S) = suspension of payments\n",
    "- Fallissement (F) = insolvency\n",
    "\n",
    "and can involve a (person_legal_personality)\n",
    "- rechtspersoon \n",
    "- natuurlijk persoon\n",
    "\n",
    "For the thesis we are interested in companies in bankrupcty, the F/rechtspersoon combination. **51392** cases.  \n",
    "For this purpose we created the insolvent view: **company_bankrupt_insolvents_view**"
   ]
  },
  {
   "cell_type": "code",
   "execution_count": 36,
   "metadata": {
    "code_folding": []
   },
   "outputs": [
    {
     "data": {
      "text/html": [
       "<div>\n",
       "<style scoped>\n",
       "    .dataframe tbody tr th:only-of-type {\n",
       "        vertical-align: middle;\n",
       "    }\n",
       "\n",
       "    .dataframe tbody tr th {\n",
       "        vertical-align: top;\n",
       "    }\n",
       "\n",
       "    .dataframe thead th {\n",
       "        text-align: right;\n",
       "    }\n",
       "</style>\n",
       "<table border=\"1\" class=\"dataframe\">\n",
       "  <thead>\n",
       "    <tr style=\"text-align: right;\">\n",
       "      <th>person_legal_personality</th>\n",
       "      <th>natuurlijk persoon</th>\n",
       "      <th>rechtspersoon</th>\n",
       "    </tr>\n",
       "    <tr>\n",
       "      <th>insolvency_type</th>\n",
       "      <th></th>\n",
       "      <th></th>\n",
       "    </tr>\n",
       "  </thead>\n",
       "  <tbody>\n",
       "    <tr>\n",
       "      <th>F</th>\n",
       "      <td>18582</td>\n",
       "      <td>51392</td>\n",
       "    </tr>\n",
       "    <tr>\n",
       "      <th>R</th>\n",
       "      <td>98185</td>\n",
       "      <td>11</td>\n",
       "    </tr>\n",
       "    <tr>\n",
       "      <th>S</th>\n",
       "      <td>88</td>\n",
       "      <td>1817</td>\n",
       "    </tr>\n",
       "  </tbody>\n",
       "</table>\n",
       "</div>"
      ],
      "text/plain": [
       "person_legal_personality  natuurlijk persoon  rechtspersoon\n",
       "insolvency_type                                            \n",
       "F                                      18582          51392\n",
       "R                                      98185             11\n",
       "S                                         88           1817"
      ]
     },
     "execution_count": 36,
     "metadata": {},
     "output_type": "execute_result"
    }
   ],
   "source": [
    "sql = \"\"\"select left(case_number, 1) as insolvency_type, person_legal_personality from insolvents\n",
    "         where insolvency_type in ('F', 'R', 'S');\"\"\"  # D is custom insolvent\n",
    "df = pd.read_sql(sql, con)\n",
    "\n",
    "pd.pivot_table(df, values='insolvency_type', \n",
    "                   index=['insolvency_type'],\n",
    "                   columns=['person_legal_personality'], aggfunc=lambda x: len(x))\n"
   ]
  },
  {
   "cell_type": "markdown",
   "metadata": {
    "heading_collapsed": true
   },
   "source": [
    "## reasons for excluding bankruptcies of natural persons with a business"
   ]
  },
  {
   "cell_type": "code",
   "execution_count": 107,
   "metadata": {
    "code_folding": [
     0
    ],
    "hidden": true
   },
   "outputs": [
    {
     "data": {
      "text/html": [
       "<div>\n",
       "<style scoped>\n",
       "    .dataframe tbody tr th:only-of-type {\n",
       "        vertical-align: middle;\n",
       "    }\n",
       "\n",
       "    .dataframe tbody tr th {\n",
       "        vertical-align: top;\n",
       "    }\n",
       "\n",
       "    .dataframe thead th {\n",
       "        text-align: right;\n",
       "    }\n",
       "</style>\n",
       "<table border=\"1\" class=\"dataframe\">\n",
       "  <thead>\n",
       "    <tr style=\"text-align: right;\">\n",
       "      <th></th>\n",
       "      <th>count</th>\n",
       "      <th>zakelijk</th>\n",
       "    </tr>\n",
       "  </thead>\n",
       "  <tbody>\n",
       "    <tr>\n",
       "      <th>0</th>\n",
       "      <td>7142</td>\n",
       "      <td>False</td>\n",
       "    </tr>\n",
       "    <tr>\n",
       "      <th>1</th>\n",
       "      <td>11400</td>\n",
       "      <td>True</td>\n",
       "    </tr>\n",
       "  </tbody>\n",
       "</table>\n",
       "</div>"
      ],
      "text/plain": [
       "   count  zakelijk\n",
       "0   7142     False\n",
       "1  11400      True"
      ]
     },
     "execution_count": 107,
     "metadata": {},
     "output_type": "execute_result"
    }
   ],
   "source": [
    "# faillissement natuurlijke personen, split zakelijk / prive\n",
    "sql = \"\"\"\n",
    "select count(distinct i.id),  bn.id is not null as zakelijk\n",
    "from insolvents i left join business_names bn on i.id = bn.insolvent_id\n",
    "where person_legal_personality = 'natuurlijk persoon' and left(case_number, 1) = 'F'\n",
    "group by zakelijk;\n",
    "\"\"\"\n",
    "\n",
    "pd.read_sql(sql, con)\n"
   ]
  },
  {
   "cell_type": "code",
   "execution_count": 108,
   "metadata": {
    "code_folding": [
     0
    ],
    "hidden": true
   },
   "outputs": [
    {
     "data": {
      "text/html": [
       "<div>\n",
       "<style scoped>\n",
       "    .dataframe tbody tr th:only-of-type {\n",
       "        vertical-align: middle;\n",
       "    }\n",
       "\n",
       "    .dataframe tbody tr th {\n",
       "        vertical-align: top;\n",
       "    }\n",
       "\n",
       "    .dataframe thead th {\n",
       "        text-align: right;\n",
       "    }\n",
       "</style>\n",
       "<table border=\"1\" class=\"dataframe\">\n",
       "  <thead>\n",
       "    <tr style=\"text-align: right;\">\n",
       "      <th></th>\n",
       "      <th>count</th>\n",
       "    </tr>\n",
       "  </thead>\n",
       "  <tbody>\n",
       "    <tr>\n",
       "      <th>0</th>\n",
       "      <td>6</td>\n",
       "    </tr>\n",
       "  </tbody>\n",
       "</table>\n",
       "</div>"
      ],
      "text/plain": [
       "   count\n",
       "0      6"
      ]
     },
     "execution_count": 108,
     "metadata": {},
     "output_type": "execute_result"
    }
   ],
   "source": [
    "# hardly any reports associated with natural persons bankruptcies\n",
    "sql = \"\"\"\n",
    "with cte_natural_person_bankruptcy as (select distinct i.id\n",
    "                                       from insolvents i\n",
    "                                              left join business_names bn on i.id = bn.insolvent_id\n",
    "                                       where person_legal_personality = 'natuurlijk persoon'\n",
    "                                         and left(case_number, 1) = 'F'\n",
    "                                         and bn.id is not null)\n",
    "select count(*)\n",
    "from cte_natural_person_bankruptcy i join reports r on i.id = r.insolvent_id;\n",
    "\"\"\"\n",
    "pd.read_sql(sql, con)"
   ]
  },
  {
   "cell_type": "code",
   "execution_count": 111,
   "metadata": {
    "code_folding": [],
    "hidden": true
   },
   "outputs": [
    {
     "data": {
      "text/html": [
       "<div>\n",
       "<style scoped>\n",
       "    .dataframe tbody tr th:only-of-type {\n",
       "        vertical-align: middle;\n",
       "    }\n",
       "\n",
       "    .dataframe tbody tr th {\n",
       "        vertical-align: top;\n",
       "    }\n",
       "\n",
       "    .dataframe thead th {\n",
       "        text-align: right;\n",
       "    }\n",
       "</style>\n",
       "<table border=\"1\" class=\"dataframe\">\n",
       "  <thead>\n",
       "    <tr style=\"text-align: right;\">\n",
       "      <th></th>\n",
       "      <th>case_number</th>\n",
       "      <th>person_family_name</th>\n",
       "      <th>name</th>\n",
       "    </tr>\n",
       "  </thead>\n",
       "  <tbody>\n",
       "    <tr>\n",
       "      <th>0</th>\n",
       "      <td>S.07/11/22</td>\n",
       "      <td>BREMER</td>\n",
       "      <td>BREMER SCHOEN- EN SLEUTELMAKERIJ</td>\n",
       "    </tr>\n",
       "    <tr>\n",
       "      <th>1</th>\n",
       "      <td>S.07/11/23</td>\n",
       "      <td>KNUIMAN e/v BREMER</td>\n",
       "      <td>BREMER SCHOEN- EN SLEUTELMAKERIJ</td>\n",
       "    </tr>\n",
       "  </tbody>\n",
       "</table>\n",
       "</div>"
      ],
      "text/plain": [
       "  case_number  person_family_name                              name\n",
       "0  S.07/11/22              BREMER  BREMER SCHOEN- EN SLEUTELMAKERIJ\n",
       "1  S.07/11/23  KNUIMAN e/v BREMER  BREMER SCHOEN- EN SLEUTELMAKERIJ"
      ]
     },
     "execution_count": 111,
     "metadata": {},
     "output_type": "execute_result"
    }
   ],
   "source": [
    "# multiple natural persons own one business, complicating matters\n",
    "sql = \"\"\"\n",
    "select case_number, i.person_family_name, bn.name\n",
    "from insolvents i join business_names bn on i.id = bn.insolvent_id\n",
    "where i.id in (34481, 34483)\n",
    "\"\"\"\n",
    "pd.read_sql(sql, con)"
   ]
  },
  {
   "cell_type": "markdown",
   "metadata": {
    "hidden": true
   },
   "source": [
    "### natural persons in bankruptcy with reports are actually rechtspersonen"
   ]
  },
  {
   "cell_type": "code",
   "execution_count": 121,
   "metadata": {
    "hidden": true
   },
   "outputs": [
    {
     "data": {
      "text/html": [
       "<div>\n",
       "<style scoped>\n",
       "    .dataframe tbody tr th:only-of-type {\n",
       "        vertical-align: middle;\n",
       "    }\n",
       "\n",
       "    .dataframe tbody tr th {\n",
       "        vertical-align: top;\n",
       "    }\n",
       "\n",
       "    .dataframe thead th {\n",
       "        text-align: right;\n",
       "    }\n",
       "</style>\n",
       "<table border=\"1\" class=\"dataframe\">\n",
       "  <thead>\n",
       "    <tr style=\"text-align: right;\">\n",
       "      <th></th>\n",
       "      <th>case_number</th>\n",
       "      <th>identification</th>\n",
       "    </tr>\n",
       "  </thead>\n",
       "  <tbody>\n",
       "    <tr>\n",
       "      <th>0</th>\n",
       "      <td>F.05/16/370</td>\n",
       "      <td>05_gel_16_370_F_V_01_B</td>\n",
       "    </tr>\n",
       "    <tr>\n",
       "      <th>1</th>\n",
       "      <td>F.05/16/370</td>\n",
       "      <td>05_gel_16_370_F_V_02</td>\n",
       "    </tr>\n",
       "    <tr>\n",
       "      <th>2</th>\n",
       "      <td>F.03/14/423</td>\n",
       "      <td>03_lim_14_423_F_V_02</td>\n",
       "    </tr>\n",
       "    <tr>\n",
       "      <th>3</th>\n",
       "      <td>F.03/14/423</td>\n",
       "      <td>03_lim_14_423_F_V_01_B</td>\n",
       "    </tr>\n",
       "    <tr>\n",
       "      <th>4</th>\n",
       "      <td>F.16/18/178</td>\n",
       "      <td>16_mne_18_178_F_V_01</td>\n",
       "    </tr>\n",
       "    <tr>\n",
       "      <th>5</th>\n",
       "      <td>F.16/15/371</td>\n",
       "      <td>16_mne_15_371_F_V_01</td>\n",
       "    </tr>\n",
       "  </tbody>\n",
       "</table>\n",
       "</div>"
      ],
      "text/plain": [
       "   case_number          identification\n",
       "0  F.05/16/370  05_gel_16_370_F_V_01_B\n",
       "1  F.05/16/370    05_gel_16_370_F_V_02\n",
       "2  F.03/14/423    03_lim_14_423_F_V_02\n",
       "3  F.03/14/423  03_lim_14_423_F_V_01_B\n",
       "4  F.16/18/178    16_mne_18_178_F_V_01\n",
       "5  F.16/15/371    16_mne_15_371_F_V_01"
      ]
     },
     "execution_count": 121,
     "metadata": {},
     "output_type": "execute_result"
    }
   ],
   "source": [
    "sql = \"\"\"\n",
    "with cte_natural_person_bankruptcy as (select distinct i.id, case_number\n",
    "                                       from insolvents i\n",
    "                                              left join business_names bn on i.id = bn.insolvent_id\n",
    "                                       where person_legal_personality = 'natuurlijk persoon'\n",
    "                                         and left(case_number, 1) = 'F'\n",
    "                                         and bn.id is not null)\n",
    "select i.case_number, r.identification\n",
    "from cte_natural_person_bankruptcy i join reports r on i.id = r.insolvent_id;\n",
    "\"\"\"\n",
    "pd.read_sql(sql, con)"
   ]
  },
  {
   "cell_type": "markdown",
   "metadata": {
    "hidden": true
   },
   "source": [
    "The following natural person bankruptcies are actually businesses:\n",
    "- F.05/16/370 = Grip op Media Rijssen B.V.\n",
    "- F.03/14/423 = Bemelmans-Jakobs Beheer B.V.\n",
    "- F.16/18/178 = L. Janssens Ontwikkeling Advies en Beheer B.V.\n",
    "- F.16/15/371 = Sushi Qube One B.V."
   ]
  },
  {
   "cell_type": "code",
   "execution_count": 125,
   "metadata": {
    "hidden": true
   },
   "outputs": [
    {
     "data": {
      "text/html": [
       "<div>\n",
       "<style scoped>\n",
       "    .dataframe tbody tr th:only-of-type {\n",
       "        vertical-align: middle;\n",
       "    }\n",
       "\n",
       "    .dataframe tbody tr th {\n",
       "        vertical-align: top;\n",
       "    }\n",
       "\n",
       "    .dataframe thead th {\n",
       "        text-align: right;\n",
       "    }\n",
       "</style>\n",
       "<table border=\"1\" class=\"dataframe\">\n",
       "  <thead>\n",
       "    <tr style=\"text-align: right;\">\n",
       "      <th></th>\n",
       "      <th>count</th>\n",
       "    </tr>\n",
       "  </thead>\n",
       "  <tbody>\n",
       "    <tr>\n",
       "      <th>0</th>\n",
       "      <td>0</td>\n",
       "    </tr>\n",
       "  </tbody>\n",
       "</table>\n",
       "</div>"
      ],
      "text/plain": [
       "   count\n",
       "0      0"
      ]
     },
     "execution_count": 125,
     "metadata": {},
     "output_type": "execute_result"
    }
   ],
   "source": [
    "#  check if any BVs are found in natural person insolvents - note % escapes\n",
    "sql = \"\"\"\n",
    "select count(*) \n",
    "from insolvents \n",
    "where person_legal_personality = 'natuurlijk persoon' \n",
    "   and person_family_name ilike '%%b.v%%';\"\"\"\n",
    "pd.read_sql(sql, con)"
   ]
  },
  {
   "cell_type": "markdown",
   "metadata": {},
   "source": [
    "# Deduplication of insolvencies with two case numbers\n",
    "There are a number of reasons found why insolvent companies can have more than one insolvency case number:\n",
    "1. Due to a data error when the serial number is padded with a zero: e.g. F.01/16/0056\n",
    "1. Due to the change of courts (Herinrichting Gerechtelijke Kaart) insolvencies were administered under another case number.\n",
    "2. When a case is passed to another court it obtains a new case number.\n",
    "\n",
    "\n",
    "Due to these reasons publications and reports of the same insolvency may be spread over different case numbers.\n",
    "The system needs to re-associate the publications and reports to the new case number and leave a trace to the old case number.\n",
    "\n",
    "The old case numbers without any publication or report can then be disregarded for the analysis."
   ]
  },
  {
   "cell_type": "code",
   "execution_count": 53,
   "metadata": {},
   "outputs": [
    {
     "data": {
      "text/html": [
       "<div>\n",
       "<style scoped>\n",
       "    .dataframe tbody tr th:only-of-type {\n",
       "        vertical-align: middle;\n",
       "    }\n",
       "\n",
       "    .dataframe tbody tr th {\n",
       "        vertical-align: top;\n",
       "    }\n",
       "\n",
       "    .dataframe thead th {\n",
       "        text-align: right;\n",
       "    }\n",
       "</style>\n",
       "<table border=\"1\" class=\"dataframe\">\n",
       "  <thead>\n",
       "    <tr style=\"text-align: right;\">\n",
       "      <th></th>\n",
       "      <th>padded_cnt</th>\n",
       "    </tr>\n",
       "  </thead>\n",
       "  <tbody>\n",
       "    <tr>\n",
       "      <th>0</th>\n",
       "      <td>43</td>\n",
       "    </tr>\n",
       "  </tbody>\n",
       "</table>\n",
       "</div>"
      ],
      "text/plain": [
       "   padded_cnt\n",
       "0          43"
      ]
     },
     "execution_count": 53,
     "metadata": {},
     "output_type": "execute_result"
    }
   ],
   "source": [
    "# case 1: case padded zero\n",
    "sql = \"\"\"\n",
    "select count(case_number) as padded_cnt\n",
    "from insolvents\n",
    "  where left(substring(case_number from '/(\\d{1,4})$'), 1) = '0'\n",
    "    and left(case_number, 1) = 'F' \n",
    "    and person_legal_personality = 'rechtspersoon';\n",
    "\"\"\"\n",
    "pd.read_sql(sql, con)"
   ]
  },
  {
   "cell_type": "code",
   "execution_count": 43,
   "metadata": {},
   "outputs": [
    {
     "data": {
      "text/html": [
       "<div>\n",
       "<style scoped>\n",
       "    .dataframe tbody tr th:only-of-type {\n",
       "        vertical-align: middle;\n",
       "    }\n",
       "\n",
       "    .dataframe tbody tr th {\n",
       "        vertical-align: top;\n",
       "    }\n",
       "\n",
       "    .dataframe thead th {\n",
       "        text-align: right;\n",
       "    }\n",
       "</style>\n",
       "<table border=\"1\" class=\"dataframe\">\n",
       "  <thead>\n",
       "    <tr style=\"text-align: right;\">\n",
       "      <th></th>\n",
       "      <th>migrated_cnt</th>\n",
       "    </tr>\n",
       "  </thead>\n",
       "  <tbody>\n",
       "    <tr>\n",
       "      <th>0</th>\n",
       "      <td>1010</td>\n",
       "    </tr>\n",
       "  </tbody>\n",
       "</table>\n",
       "</div>"
      ],
      "text/plain": [
       "   migrated_cnt\n",
       "0          1010"
      ]
     },
     "execution_count": 43,
     "metadata": {},
     "output_type": "execute_result"
    }
   ],
   "source": [
    "# case 2: case HGK migration.\n",
    "# match case numbers using chamber of commerce or when missing the company name.\n",
    "sql = \"\"\"\n",
    "select count(case_number) as migrated_cnt\n",
    "from insolvents\n",
    "  where substring(case_number from '^[D|F|S|R]\\.\\d{2}/\\d{1,4}$') is not null\n",
    "    and left(case_number, 1) = 'F' \n",
    "    and person_legal_personality = 'rechtspersoon';\n",
    "\"\"\"\n",
    "pd.read_sql(sql, con)\n",
    "\n",
    "# two cases with typos in kvk that did not match earlier"
   ]
  },
  {
   "cell_type": "code",
   "execution_count": 95,
   "metadata": {},
   "outputs": [
    {
     "data": {
      "text/html": [
       "<div>\n",
       "<style scoped>\n",
       "    .dataframe tbody tr th:only-of-type {\n",
       "        vertical-align: middle;\n",
       "    }\n",
       "\n",
       "    .dataframe tbody tr th {\n",
       "        vertical-align: top;\n",
       "    }\n",
       "\n",
       "    .dataframe thead th {\n",
       "        text-align: right;\n",
       "    }\n",
       "</style>\n",
       "<table border=\"1\" class=\"dataframe\">\n",
       "  <thead>\n",
       "    <tr style=\"text-align: right;\">\n",
       "      <th></th>\n",
       "      <th>transferred_cnt</th>\n",
       "    </tr>\n",
       "  </thead>\n",
       "  <tbody>\n",
       "    <tr>\n",
       "      <th>0</th>\n",
       "      <td>2691</td>\n",
       "    </tr>\n",
       "  </tbody>\n",
       "</table>\n",
       "</div>"
      ],
      "text/plain": [
       "   transferred_cnt\n",
       "0             2691"
      ]
     },
     "execution_count": 95,
     "metadata": {},
     "output_type": "execute_result"
    }
   ],
   "source": [
    "# case 3: case transferred to another court\n",
    "# new cases should have a insolvency start publication\n",
    "sql = \"\"\"select count(distinct case_number) as transferred_cnt\n",
    "from company_bankrupt_insolvents_view i join publications p on i.id = p.insolvent_id \n",
    "where type_code = '1334'\n",
    "       or (type_code = '1323' and (description like '%%overgedragen%%'\n",
    "                                or description like '%%verdere publicaties worden verricht%%'));\"\"\"\n",
    "pd.read_sql(sql, con)"
   ]
  },
  {
   "cell_type": "code",
   "execution_count": 72,
   "metadata": {},
   "outputs": [
    {
     "name": "stdout",
     "output_type": "stream",
     "text": [
      "number of cases before deduplication: 51392\n",
      "number of cases after  deduplication: 47608\n"
     ]
    }
   ],
   "source": [
    "# before dedup\n",
    "sql = \"\"\"select count(*) from company_bankrupt_insolvents_view;\"\"\"\n",
    "print(\"number of cases before deduplication: %d\" % pd.read_sql(sql, con).iloc[0,0])\n",
    "\n",
    "# after dedup\n",
    "sql = \"\"\"select count(*) from company_bankrupt_deduped_insolvents_view;\"\"\"\n",
    "print(\"number of cases after  deduplication: %d\" % pd.read_sql(sql, con).iloc[0,0])"
   ]
  },
  {
   "cell_type": "markdown",
   "metadata": {},
   "source": [
    "# Process Mining of Insolvency Processes\n",
    "Using process mining we like to get information on the flow of insolvency cases through the court system:\n",
    "\n",
    "First we like to annotate the start and end date\n",
    "\n",
    "Secondly we like to know the start and end status, e.g. how the insolvency started and ended\n",
    "\n",
    "In further work we like to annotate intermediate states of interest\n"
   ]
  },
  {
   "cell_type": "markdown",
   "metadata": {},
   "source": [
    "## Start year analysis using case number\n",
    "The start year can be derived from the case number:\n",
    "1. old format: F.**13**/123\n",
    "2. new format: F.19/**13**/123\n",
    "\n",
    "The year is 20**13** and can be extracted from the case number after determining the format in use."
   ]
  },
  {
   "cell_type": "code",
   "execution_count": 100,
   "metadata": {},
   "outputs": [
    {
     "data": {
      "text/plain": [
       "<matplotlib.axes._subplots.AxesSubplot at 0x11486eb00>"
      ]
     },
     "execution_count": 100,
     "metadata": {},
     "output_type": "execute_result"
    },
    {
     "data": {
      "image/png": "[encoded data removed]",
      "text/plain": [
       "<Figure size 1080x360 with 1 Axes>"
      ]
     },
     "metadata": {
      "needs_background": "light"
     },
     "output_type": "display_data"
    }
   ],
   "source": [
    "sql = \"\"\"\n",
    "with cte_year_start as (\n",
    "    select substring(case_number from '[D|F|S|R]\\.\\d{2}/(\\d{1,4})*') as year,\n",
    "           count(*) as cnt\n",
    "    from company_bankrupt_deduped_insolvents_view\n",
    "    group by year\n",
    ")    \n",
    "select case when year::int > 50 then concat('19', year)  -- set breakpoint between 19 (now) and 60 (first observation)\n",
    "       else concat('20', year) end as year,\n",
    "       cnt\n",
    "from cte_year_start\n",
    "order by year;\"\"\"\n",
    "df = pd.read_sql(sql, con).set_index(\"year\")\n",
    "df.plot.bar(figsize=(15, 5))"
   ]
  },
  {
   "cell_type": "markdown",
   "metadata": {},
   "source": [
    "## set start and end date insolvency using publication.type_code\n",
    "The exact start date can be derived from the following data: \n",
    "\n",
    "1. the court publication description and type code\n",
    "2. the start date of the first administrator receiver\n",
    "3. the start date of the first insolvent address\n",
    "\n",
    "This field is derived from the publication type code. Certain type codes indicate the start of the insolvency, others the end. Example:\n",
    "\n",
    "- 1100: uitspraak faillissement in hoger beroep op ...\n",
    "- 1316: opheffing faillissement wegens gebrek aan baten op ...\n"
   ]
  },
  {
   "cell_type": "markdown",
   "metadata": {},
   "source": [
    "## completeness start date\n",
    "We measure the start date.  \n",
    "Ideally it is 100%, there should always be one except in the case of legacy inflow:\n",
    "\n",
    "1. inflow legacy: insolvency started before 01-01-2005 and not all publications in this case are within this register. 975 cases, ca. 2% is missing a start date publication.\n",
    "\n",
    "There remain 356 cases without explainable missing start date, less than 1%\n"
   ]
  },
  {
   "cell_type": "code",
   "execution_count": 97,
   "metadata": {},
   "outputs": [
    {
     "data": {
      "text/html": [
       "<div>\n",
       "<style scoped>\n",
       "    .dataframe tbody tr th:only-of-type {\n",
       "        vertical-align: middle;\n",
       "    }\n",
       "\n",
       "    .dataframe tbody tr th {\n",
       "        vertical-align: top;\n",
       "    }\n",
       "\n",
       "    .dataframe thead th {\n",
       "        text-align: right;\n",
       "    }\n",
       "</style>\n",
       "<table border=\"1\" class=\"dataframe\">\n",
       "  <thead>\n",
       "    <tr style=\"text-align: right;\">\n",
       "      <th></th>\n",
       "      <th>has_start_date</th>\n",
       "      <th>is_inflow_legacy</th>\n",
       "      <th>cnt</th>\n",
       "      <th>pct</th>\n",
       "    </tr>\n",
       "  </thead>\n",
       "  <tbody>\n",
       "    <tr>\n",
       "      <th>0</th>\n",
       "      <td>False</td>\n",
       "      <td>False</td>\n",
       "      <td>356</td>\n",
       "      <td>0.747773</td>\n",
       "    </tr>\n",
       "    <tr>\n",
       "      <th>1</th>\n",
       "      <td>False</td>\n",
       "      <td>True</td>\n",
       "      <td>578</td>\n",
       "      <td>1.214082</td>\n",
       "    </tr>\n",
       "    <tr>\n",
       "      <th>2</th>\n",
       "      <td>True</td>\n",
       "      <td>False</td>\n",
       "      <td>46277</td>\n",
       "      <td>97.204251</td>\n",
       "    </tr>\n",
       "    <tr>\n",
       "      <th>3</th>\n",
       "      <td>True</td>\n",
       "      <td>True</td>\n",
       "      <td>397</td>\n",
       "      <td>0.833893</td>\n",
       "    </tr>\n",
       "  </tbody>\n",
       "</table>\n",
       "</div>"
      ],
      "text/plain": [
       "   has_start_date  is_inflow_legacy    cnt        pct\n",
       "0           False             False    356   0.747773\n",
       "1           False              True    578   1.214082\n",
       "2            True             False  46277  97.204251\n",
       "3            True              True    397   0.833893"
      ]
     },
     "metadata": {},
     "output_type": "display_data"
    }
   ],
   "source": [
    "sql = \"\"\"\n",
    "select start_date_insolvency is not null as has_start_date, is_inflow_legacy, count(*) as cnt\n",
    "from company_bankrupt_deduped_insolvents_view\n",
    "group by 1, 2;\"\"\"\n",
    "df = pd.read_sql(sql, con)\n",
    "df['pct'] = df.cnt / df.cnt.sum() * 100\n",
    "display(df)"
   ]
  },
  {
   "cell_type": "markdown",
   "metadata": {},
   "source": [
    "## case duration\n",
    "case duration distribution for ended cases"
   ]
  },
  {
   "cell_type": "code",
   "execution_count": null,
   "metadata": {},
   "outputs": [],
   "source": [
    "sql = \"\"\"select start_dat\n",
    "\"\"\""
   ]
  },
  {
   "cell_type": "markdown",
   "metadata": {},
   "source": [
    "## how do cases start out"
   ]
  },
  {
   "cell_type": "code",
   "execution_count": 114,
   "metadata": {},
   "outputs": [
    {
     "data": {
      "text/html": [
       "<div>\n",
       "<style scoped>\n",
       "    .dataframe tbody tr th:only-of-type {\n",
       "        vertical-align: middle;\n",
       "    }\n",
       "\n",
       "    .dataframe tbody tr th {\n",
       "        vertical-align: top;\n",
       "    }\n",
       "\n",
       "    .dataframe thead th {\n",
       "        text-align: right;\n",
       "    }\n",
       "</style>\n",
       "<table border=\"1\" class=\"dataframe\">\n",
       "  <thead>\n",
       "    <tr style=\"text-align: right;\">\n",
       "      <th></th>\n",
       "      <th>type_code</th>\n",
       "      <th>description</th>\n",
       "      <th>cnt</th>\n",
       "      <th>pct</th>\n",
       "    </tr>\n",
       "  </thead>\n",
       "  <tbody>\n",
       "    <tr>\n",
       "      <th>0</th>\n",
       "      <td>1300</td>\n",
       "      <td>uitspraak faillissement</td>\n",
       "      <td>43664</td>\n",
       "      <td>93.388942</td>\n",
       "    </tr>\n",
       "    <tr>\n",
       "      <th>1</th>\n",
       "      <td>1306</td>\n",
       "      <td>uitspraak faillissement na beëindiging surseance</td>\n",
       "      <td>2941</td>\n",
       "      <td>6.290236</td>\n",
       "    </tr>\n",
       "    <tr>\n",
       "      <th>2</th>\n",
       "      <td>1100</td>\n",
       "      <td>uitspraak faillissement in hoger beroep</td>\n",
       "      <td>142</td>\n",
       "      <td>0.303711</td>\n",
       "    </tr>\n",
       "    <tr>\n",
       "      <th>3</th>\n",
       "      <td>1304</td>\n",
       "      <td>heropening faillissement door ontbinding akkoo...</td>\n",
       "      <td>6</td>\n",
       "      <td>0.012833</td>\n",
       "    </tr>\n",
       "    <tr>\n",
       "      <th>4</th>\n",
       "      <td>1301</td>\n",
       "      <td>uitspraak faillissement door tussentijdse beëi...</td>\n",
       "      <td>2</td>\n",
       "      <td>0.004278</td>\n",
       "    </tr>\n",
       "  </tbody>\n",
       "</table>\n",
       "</div>"
      ],
      "text/plain": [
       "  type_code                                        description    cnt  \\\n",
       "0      1300                            uitspraak faillissement  43664   \n",
       "1      1306  uitspraak faillissement na beëindiging surseance    2941   \n",
       "2      1100            uitspraak faillissement in hoger beroep    142   \n",
       "3      1304  heropening faillissement door ontbinding akkoo...      6   \n",
       "4      1301  uitspraak faillissement door tussentijdse beëi...      2   \n",
       "\n",
       "         pct  \n",
       "0  93.388942  \n",
       "1   6.290236  \n",
       "2   0.303711  \n",
       "3   0.012833  \n",
       "4   0.004278  "
      ]
     },
     "execution_count": 114,
     "metadata": {},
     "output_type": "execute_result"
    }
   ],
   "source": [
    "# for cases with a start publication\n",
    "sql = \"\"\"\n",
    "create temp table tmp_publication_types (type_code varchar, description  varchar);\n",
    "insert into tmp_publication_types (type_code, description) values\n",
    "  ('1100', 'uitspraak faillissement in hoger beroep'),\n",
    "  ('1200', 'uitspraak faillissement in cassatie'),\n",
    "  ('1300', 'uitspraak faillissement'),\n",
    "  ('1301', 'uitspraak faillissement door tussentijdse beëindiging schuldsanering'),\n",
    "  ('1302', 'uitspraak faillissement tijdens schuldsanering'),\n",
    "  ('1303', 'uitspraak faillissement door ontbinding akkoord in schuldsanering '),\n",
    "  ('1304', 'heropening faillissement door ontbinding akkoord in faillissement'),\n",
    "  ('1305', 'uitspraak faillissement door ontbinding akkoord in surseance'),\n",
    "  ('1306', 'uitspraak faillissement na beëindiging surseance '),\n",
    "  ('3313', 'Beëindiging door omzetting in faillissement');\n",
    "\n",
    "select pub.type_code, pt.description, count(*) as cnt\n",
    "from company_bankrupt_deduped_insolvents_view ins\n",
    "    join publications pub on ins.id = pub.insolvent_id\n",
    "    join tmp_publication_types pt on pt.type_code = pub.type_code\n",
    "group by 1, 2\n",
    "order by cnt desc;\n",
    "\"\"\"\n",
    "df = pd.read_sql(sql, con)\n",
    "df['pct'] = df.cnt / df.cnt.sum() * 100\n",
    "df\n"
   ]
  },
  {
   "cell_type": "markdown",
   "metadata": {},
   "source": [
    "#### Results\n",
    "We can determine how cases start out. This can be sliced to a period, court, etc.<br>\n",
    "Using a stacked area graph it can be shown how cases endings change over time.\n",
    "\n",
    "F cases previously in S can also be identified using previous_case_number"
   ]
  },
  {
   "cell_type": "markdown",
   "metadata": {},
   "source": [
    "## how do cases end"
   ]
  },
  {
   "cell_type": "code",
   "execution_count": 118,
   "metadata": {},
   "outputs": [
    {
     "data": {
      "text/html": [
       "<div>\n",
       "<style scoped>\n",
       "    .dataframe tbody tr th:only-of-type {\n",
       "        vertical-align: middle;\n",
       "    }\n",
       "\n",
       "    .dataframe tbody tr th {\n",
       "        vertical-align: top;\n",
       "    }\n",
       "\n",
       "    .dataframe thead th {\n",
       "        text-align: right;\n",
       "    }\n",
       "</style>\n",
       "<table border=\"1\" class=\"dataframe\">\n",
       "  <thead>\n",
       "    <tr style=\"text-align: right;\">\n",
       "      <th></th>\n",
       "      <th>type_code</th>\n",
       "      <th>description</th>\n",
       "      <th>cnt</th>\n",
       "      <th>pct</th>\n",
       "    </tr>\n",
       "  </thead>\n",
       "  <tbody>\n",
       "    <tr>\n",
       "      <th>0</th>\n",
       "      <td>1316</td>\n",
       "      <td>opheffing faillissement wegens gebrek aan baten</td>\n",
       "      <td>27239</td>\n",
       "      <td>75.904252</td>\n",
       "    </tr>\n",
       "    <tr>\n",
       "      <th>1</th>\n",
       "      <td>1317</td>\n",
       "      <td>einde faillissement door verbindende uitdeling...</td>\n",
       "      <td>7984</td>\n",
       "      <td>22.248231</td>\n",
       "    </tr>\n",
       "    <tr>\n",
       "      <th>2</th>\n",
       "      <td>1320</td>\n",
       "      <td>vernietiging faillissement na verzet</td>\n",
       "      <td>347</td>\n",
       "      <td>0.966951</td>\n",
       "    </tr>\n",
       "    <tr>\n",
       "      <th>3</th>\n",
       "      <td>1318</td>\n",
       "      <td>einde faillissement door goedkeuring akkoord</td>\n",
       "      <td>159</td>\n",
       "      <td>0.443070</td>\n",
       "    </tr>\n",
       "    <tr>\n",
       "      <th>4</th>\n",
       "      <td>1102</td>\n",
       "      <td>vernietiging faillissement in hoger beroep</td>\n",
       "      <td>92</td>\n",
       "      <td>0.256367</td>\n",
       "    </tr>\n",
       "    <tr>\n",
       "      <th>5</th>\n",
       "      <td>1319</td>\n",
       "      <td>einde faillissement door verbindende uitdeling...</td>\n",
       "      <td>46</td>\n",
       "      <td>0.128184</td>\n",
       "    </tr>\n",
       "    <tr>\n",
       "      <th>6</th>\n",
       "      <td>1333</td>\n",
       "      <td>Faillissement omgezet in schuldsanering</td>\n",
       "      <td>8</td>\n",
       "      <td>0.022293</td>\n",
       "    </tr>\n",
       "    <tr>\n",
       "      <th>7</th>\n",
       "      <td>1324</td>\n",
       "      <td>einde faillissement door voldoen van alle schu...</td>\n",
       "      <td>7</td>\n",
       "      <td>0.019506</td>\n",
       "    </tr>\n",
       "    <tr>\n",
       "      <th>8</th>\n",
       "      <td>1202</td>\n",
       "      <td>vernietiging faillissement in cassatie</td>\n",
       "      <td>4</td>\n",
       "      <td>0.011146</td>\n",
       "    </tr>\n",
       "  </tbody>\n",
       "</table>\n",
       "</div>"
      ],
      "text/plain": [
       "  type_code                                        description    cnt  \\\n",
       "0      1316    opheffing faillissement wegens gebrek aan baten  27239   \n",
       "1      1317  einde faillissement door verbindende uitdeling...   7984   \n",
       "2      1320               vernietiging faillissement na verzet    347   \n",
       "3      1318       einde faillissement door goedkeuring akkoord    159   \n",
       "4      1102         vernietiging faillissement in hoger beroep     92   \n",
       "5      1319  einde faillissement door verbindende uitdeling...     46   \n",
       "6      1333            Faillissement omgezet in schuldsanering      8   \n",
       "7      1324  einde faillissement door voldoen van alle schu...      7   \n",
       "8      1202             vernietiging faillissement in cassatie      4   \n",
       "\n",
       "         pct  \n",
       "0  75.904252  \n",
       "1  22.248231  \n",
       "2   0.966951  \n",
       "3   0.443070  \n",
       "4   0.256367  \n",
       "5   0.128184  \n",
       "6   0.022293  \n",
       "7   0.019506  \n",
       "8   0.011146  "
      ]
     },
     "execution_count": 118,
     "metadata": {},
     "output_type": "execute_result"
    }
   ],
   "source": [
    "sql = \"\"\"\n",
    "create temp table tmp_publication_types (type_code varchar, description  varchar);\n",
    "insert into tmp_publication_types (type_code, description) values\n",
    "('1102', 'vernietiging faillissement in hoger beroep'),\n",
    "('1202', 'vernietiging faillissement in cassatie'),\n",
    "('1316', 'opheffing faillissement wegens gebrek aan baten'),\n",
    "('1317', 'einde faillissement door verbindende uitdelingslijst'),\n",
    "('1318', 'einde faillissement door goedkeuring akkoord'),\n",
    "('1319', 'einde faillissement door verbindende uitdelingslijst na verzet'),\n",
    "('1320', 'vernietiging faillissement na verzet'),\n",
    "('1324', 'einde faillissement door voldoen van alle schulden'),\n",
    "('1333', 'Faillissement omgezet in schuldsanering');\n",
    "\n",
    "\n",
    "select pub.type_code, pt.description, count(*) as cnt\n",
    "from company_bankrupt_deduped_insolvents_view ins\n",
    "    join publications pub on ins.id = pub.insolvent_id\n",
    "    join tmp_publication_types pt on pt.type_code = pub.type_code\n",
    "group by 1, 2\n",
    "order by cnt desc;\n",
    "\"\"\"\n",
    "df = pd.read_sql(sql, con)\n",
    "df['pct'] = df.cnt / df.cnt.sum() * 100\n",
    "df"
   ]
  },
  {
   "cell_type": "markdown",
   "metadata": {},
   "source": [
    "*like air the insolvencies ending contain a 20% good part and a 80% useless part*"
   ]
  },
  {
   "cell_type": "markdown",
   "metadata": {
    "collapsed": true
   },
   "source": [
    "## Intermediate states\n",
    "Apart from beginning and end state many intermediate states can be identified from the data. One example is the moment of setting the verification meeting for which a timing constraint is set by the law.\n",
    "\n",
    "### when are verification meetings set\n",
    "Verfification meetings are supposed to be schedules (not held) within 14 days after the publication of bankruptcy. This demand is seen as a dead letter to be changed with the new law from 2019-1-1 onwards. From the distribution is can be seen that this deadline is almost never met, on the contrary, it appears breached up to a point that it needs further inspection."
   ]
  },
  {
   "cell_type": "code",
   "execution_count": 120,
   "metadata": {},
   "outputs": [],
   "source": [
    "sql = \"\"\"\n",
    "p.type_code in ('1309', '1310', '1325', '1326',\n",
    "                              '2310', '2311', '2312', '2313', '2314', '2315', '2316', '2317', '2318',\n",
    "                              '2338', '2339', '2340', '2341', '2342', '2343', '2344', '2345', '2346', '2347')\n",
    "                                             \n",
    "df = pd.read_sql(sql, con)"
   ]
  },
  {
   "cell_type": "code",
   "execution_count": null,
   "metadata": {},
   "outputs": [],
   "source": [
    "df.days_after_start.plot.hist(bins=50);"
   ]
  },
  {
   "cell_type": "code",
   "execution_count": null,
   "metadata": {},
   "outputs": [],
   "source": [
    "# see recent breaches\n",
    "df[df.start_date_insolvency > datetime.date(2016, 1, 1)].plot.hist(bins=50)\n",
    "\n",
    "# this data is right censored, cases which not yet had a verification meeting publication are not seen."
   ]
  },
  {
   "cell_type": "code",
   "execution_count": null,
   "metadata": {},
   "outputs": [],
   "source": [
    "# see recent breaches\n",
    "import datetime\n",
    "df[df.start_date_insolvency > datetime.date(2016, 1, 1)].sort_values(by=['days_after_start'], ascending=False).head(20)"
   ]
  },
  {
   "cell_type": "code",
   "execution_count": null,
   "metadata": {},
   "outputs": [],
   "source": [
    "# pull a file e.g. the second\n",
    "sql = \"\"\"\n",
    "select case_number, date, type_code, description, start_date_insolvency\n",
    "from insolvents i join publications p on i.id = p.insolvent_id\n",
    "where case_number = 'F.03/16/31'\n",
    "order by date;\n",
    "\"\"\"\n",
    "pd.read_sql(sql, con).style"
   ]
  },
  {
   "cell_type": "markdown",
   "metadata": {},
   "source": [
    "# Data Completeness Measures\n",
    "\n",
    "- completeness of publications, insolvents and reports on CIR in dataset\n",
    "- completeness of start date publications\n",
    "- ? completeness of end date publications (for ended insolvencies)\n",
    "- completeness of KvK number in company insolvents\n",
    "- completeness of Administrator\n",
    "- completeness of Judge"
   ]
  },
  {
   "cell_type": "markdown",
   "metadata": {},
   "source": [
    "# Data Consistency Measueres\n",
    "- insolvents should have at least one publication\n",
    "- insolvents should have no more than one start date publication\n",
    "- no orphans:\n",
    "    - all reports are linked to one insolvent\n",
    "    - all publications are linked to one insolvent\n"
   ]
  },
  {
   "cell_type": "code",
   "execution_count": null,
   "metadata": {},
   "outputs": [],
   "source": []
  }
 ],
 "metadata": {
  "kernelspec": {
   "display_name": "Python 3",
   "language": "python",
   "name": "python3"
  },
  "language_info": {
   "codemirror_mode": {
    "name": "ipython",
    "version": 3
   },
   "file_extension": ".py",
   "mimetype": "text/x-python",
   "name": "python",
   "nbconvert_exporter": "python",
   "pygments_lexer": "ipython3",
   "version": "3.7.2"
  }
 },
 "nbformat": 4,
 "nbformat_minor": 2
}
