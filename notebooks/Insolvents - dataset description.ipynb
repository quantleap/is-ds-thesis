{
 "cells": [
  {
   "cell_type": "markdown",
   "metadata": {},
   "source": [
    "#### Setup"
   ]
  },
  {
   "cell_type": "code",
   "execution_count": 21,
   "metadata": {},
   "outputs": [
    {
     "name": "stdout",
     "output_type": "stream",
     "text": [
      "CONNECTION ESTABLISHED\n"
     ]
    }
   ],
   "source": [
    "#import pdb; pdb.set_trace()\n",
    "\n",
    "%matplotlib inline  \n",
    "import pandas as pd\n",
    "import matplotlib.pyplot as plt\n",
    "import os\n",
    "import re\n",
    "import json\n",
    "import psycopg2\n",
    "from sqlalchemy.engine.url import URL\n",
    "\n",
    "# connection to the database\n",
    "# connection string for use in pandas:\n",
    "con = str(URL(drivername='postgresql', \n",
    "              username=os.environ['DB_QIR_USERNAME'], \n",
    "              password=os.environ['DB_QIR_PASSWORD'], \n",
    "              #host='www.quantleap.nl', \n",
    "              host='localhost', \n",
    "              database='qir'))\n",
    "\n",
    "# cursor for use with psycopg2\n",
    "conn = psycopg2.connect(con)\n",
    "cur = conn.cursor()  \n",
    "print('CONNECTION ESTABLISHED')"
   ]
  },
  {
   "cell_type": "markdown",
   "metadata": {},
   "source": [
    "# Process Mining of Insolvency Processes\n",
    "Using process mining we like to get information on the flow of insolvency cases through the court system. \n",
    "There are two sources where the state of the insolvency case is logged:\n",
    "\n",
    "1. structured: in the court publication description and type code\n",
    "2. unstructuctured: a variety of information in the progress reports\n",
    "\n",
    "\n",
    "# set start date insolvency using publication.type_code\n",
    "This field is derived from the publication type code. Certain type codes indicate the start of the insolvency, other the end.\n",
    "\n",
    "\n",
    "## start date insolvency completeness"
   ]
  },
  {
   "cell_type": "code",
   "execution_count": 5,
   "metadata": {
    "collapsed": true
   },
   "outputs": [],
   "source": [
    "sql = \"\"\"select * from insolvents \n",
    "             where person_legal_personality = 'rechtspersoon' \n",
    "                   --and is_removed is False \n",
    "                   --and (end_findability is null or end_findability > current_date);\"\"\"\n",
    "df_available_insolvents = pd.read_sql(sql, con)\n"
   ]
  },
  {
   "cell_type": "code",
   "execution_count": 6,
   "metadata": {},
   "outputs": [
    {
     "data": {
      "text/html": [
       "<div>\n",
       "<style>\n",
       "    .dataframe thead tr:only-child th {\n",
       "        text-align: right;\n",
       "    }\n",
       "\n",
       "    .dataframe thead th {\n",
       "        text-align: left;\n",
       "    }\n",
       "\n",
       "    .dataframe tbody tr th {\n",
       "        vertical-align: top;\n",
       "    }\n",
       "</style>\n",
       "<table border=\"1\" class=\"dataframe\">\n",
       "  <thead>\n",
       "    <tr style=\"text-align: right;\">\n",
       "      <th></th>\n",
       "      <th>count</th>\n",
       "      <th>pct</th>\n",
       "    </tr>\n",
       "    <tr>\n",
       "      <th>start_date_insolvency</th>\n",
       "      <th></th>\n",
       "      <th></th>\n",
       "    </tr>\n",
       "  </thead>\n",
       "  <tbody>\n",
       "    <tr>\n",
       "      <th>False</th>\n",
       "      <td>3934</td>\n",
       "      <td>0.077554</td>\n",
       "    </tr>\n",
       "    <tr>\n",
       "      <th>True</th>\n",
       "      <td>46792</td>\n",
       "      <td>0.922446</td>\n",
       "    </tr>\n",
       "  </tbody>\n",
       "</table>\n",
       "</div>"
      ],
      "text/plain": [
       "                       count       pct\n",
       "start_date_insolvency                 \n",
       "False                   3934  0.077554\n",
       "True                   46792  0.922446"
      ]
     },
     "execution_count": 6,
     "metadata": {},
     "output_type": "execute_result"
    }
   ],
   "source": [
    "s = df_available_insolvents.start_date_insolvency.notnull()\n",
    "has_start_date = s.groupby(s).size()\n",
    "pd.DataFrame({'count': has_start_date, 'pct': has_start_date/has_start_date.sum()})\n"
   ]
  },
  {
   "cell_type": "markdown",
   "metadata": {},
   "source": [
    "### Result discussion\n",
    "It appears that a small portion of unknown start dates is caused by the left censoring of data: the initial publication relating to the start of the default was not included in the dataset, CIR began slowly in 2010 and only fully around 2014.\n",
    "\n",
    "But the analysis shown below suggests otherwise, most cases without start date are from the years 2014-2015. Needs further analysis, many cases are transferred to another court."
   ]
  },
  {
   "cell_type": "code",
   "execution_count": 15,
   "metadata": {},
   "outputs": [
    {
     "data": {
      "text/html": [
       "<div>\n",
       "<style>\n",
       "    .dataframe thead tr:only-child th {\n",
       "        text-align: right;\n",
       "    }\n",
       "\n",
       "    .dataframe thead th {\n",
       "        text-align: left;\n",
       "    }\n",
       "\n",
       "    .dataframe tbody tr th {\n",
       "        vertical-align: top;\n",
       "    }\n",
       "</style>\n",
       "<table border=\"1\" class=\"dataframe\">\n",
       "  <thead>\n",
       "    <tr style=\"text-align: right;\">\n",
       "      <th></th>\n",
       "      <th>year_first_available_publication</th>\n",
       "      <th>count</th>\n",
       "    </tr>\n",
       "  </thead>\n",
       "  <tbody>\n",
       "    <tr>\n",
       "      <th>0</th>\n",
       "      <td>2005</td>\n",
       "      <td>22</td>\n",
       "    </tr>\n",
       "    <tr>\n",
       "      <th>1</th>\n",
       "      <td>2006</td>\n",
       "      <td>55</td>\n",
       "    </tr>\n",
       "    <tr>\n",
       "      <th>2</th>\n",
       "      <td>2007</td>\n",
       "      <td>28</td>\n",
       "    </tr>\n",
       "    <tr>\n",
       "      <th>3</th>\n",
       "      <td>2008</td>\n",
       "      <td>86</td>\n",
       "    </tr>\n",
       "    <tr>\n",
       "      <th>4</th>\n",
       "      <td>2009</td>\n",
       "      <td>145</td>\n",
       "    </tr>\n",
       "    <tr>\n",
       "      <th>5</th>\n",
       "      <td>2010</td>\n",
       "      <td>132</td>\n",
       "    </tr>\n",
       "    <tr>\n",
       "      <th>6</th>\n",
       "      <td>2011</td>\n",
       "      <td>117</td>\n",
       "    </tr>\n",
       "    <tr>\n",
       "      <th>7</th>\n",
       "      <td>2012</td>\n",
       "      <td>58</td>\n",
       "    </tr>\n",
       "    <tr>\n",
       "      <th>8</th>\n",
       "      <td>2013</td>\n",
       "      <td>347</td>\n",
       "    </tr>\n",
       "    <tr>\n",
       "      <th>9</th>\n",
       "      <td>2014</td>\n",
       "      <td>717</td>\n",
       "    </tr>\n",
       "    <tr>\n",
       "      <th>10</th>\n",
       "      <td>2015</td>\n",
       "      <td>657</td>\n",
       "    </tr>\n",
       "    <tr>\n",
       "      <th>11</th>\n",
       "      <td>2016</td>\n",
       "      <td>475</td>\n",
       "    </tr>\n",
       "    <tr>\n",
       "      <th>12</th>\n",
       "      <td>2017</td>\n",
       "      <td>446</td>\n",
       "    </tr>\n",
       "    <tr>\n",
       "      <th>13</th>\n",
       "      <td>2018</td>\n",
       "      <td>193</td>\n",
       "    </tr>\n",
       "    <tr>\n",
       "      <th>14</th>\n",
       "      <td>None</td>\n",
       "      <td>456</td>\n",
       "    </tr>\n",
       "  </tbody>\n",
       "</table>\n",
       "</div>"
      ],
      "text/plain": [
       "   year_first_available_publication  count\n",
       "0                              2005     22\n",
       "1                              2006     55\n",
       "2                              2007     28\n",
       "3                              2008     86\n",
       "4                              2009    145\n",
       "5                              2010    132\n",
       "6                              2011    117\n",
       "7                              2012     58\n",
       "8                              2013    347\n",
       "9                              2014    717\n",
       "10                             2015    657\n",
       "11                             2016    475\n",
       "12                             2017    446\n",
       "13                             2018    193\n",
       "14                             None    456"
      ]
     },
     "execution_count": 15,
     "metadata": {},
     "output_type": "execute_result"
    }
   ],
   "source": [
    "sql = \"\"\"with available_insolvents as \n",
    "    (select * from insolvents where person_legal_personality = 'rechtspersoon' \n",
    "     --and is_removed is False and (end_findability > current_date or end_findability is null)\n",
    "     ),\n",
    "  no_start_date_ins as (select * from available_insolvents where start_date_insolvency is NULL),\n",
    "  min_pub_dates as (select case_number, (select pub.date from publications pub\n",
    "                                             join insolvents ins on pub.insolvent_id = ins.id\n",
    "                                             where ins.case_number = no_start_date_ins.case_number\n",
    "                                             order by pub.date asc\n",
    "                                             limit 1) as min_pub_date\n",
    "                    from no_start_date_ins),\n",
    "  overgedragen as (select distinct i.id, i.case_number from no_start_date_ins i join publications p on p.insolvent_id = i.id\n",
    "                   where p.type_code = '1334')\n",
    "select to_char(min_pub_date, 'YYYY') as year_first_available_publication, count(*) from min_pub_dates\n",
    "group by 1\n",
    "order by 1;\"\"\"\n",
    "pd.read_sql(sql, con)"
   ]
  },
  {
   "cell_type": "markdown",
   "metadata": {},
   "source": [
    "### how do cases start out"
   ]
  },
  {
   "cell_type": "code",
   "execution_count": 51,
   "metadata": {},
   "outputs": [
    {
     "data": {
      "text/html": [
       "<style  type=\"text/css\" >\n",
       "</style>  \n",
       "<table id=\"T_e49c28f8_8507_11e8_b5cb_f40f243770f7\" > \n",
       "<thead>    <tr> \n",
       "        <th class=\"blank level0\" ></th> \n",
       "        <th class=\"col_heading level0 col0\" >type_code</th> \n",
       "        <th class=\"col_heading level0 col1\" >description</th> \n",
       "        <th class=\"col_heading level0 col2\" >count</th> \n",
       "    </tr></thead> \n",
       "<tbody>    <tr> \n",
       "        <th id=\"T_e49c28f8_8507_11e8_b5cb_f40f243770f7level0_row0\" class=\"row_heading level0 row0\" >0</th> \n",
       "        <td id=\"T_e49c28f8_8507_11e8_b5cb_f40f243770f7row0_col0\" class=\"data row0 col0\" >1300</td> \n",
       "        <td id=\"T_e49c28f8_8507_11e8_b5cb_f40f243770f7row0_col1\" class=\"data row0 col1\" >uitspraak faillissement</td> \n",
       "        <td id=\"T_e49c28f8_8507_11e8_b5cb_f40f243770f7row0_col2\" class=\"data row0 col2\" >57504</td> \n",
       "    </tr>    <tr> \n",
       "        <th id=\"T_e49c28f8_8507_11e8_b5cb_f40f243770f7level0_row1\" class=\"row_heading level0 row1\" >1</th> \n",
       "        <td id=\"T_e49c28f8_8507_11e8_b5cb_f40f243770f7row1_col0\" class=\"data row1 col0\" >1306</td> \n",
       "        <td id=\"T_e49c28f8_8507_11e8_b5cb_f40f243770f7row1_col1\" class=\"data row1 col1\" >uitspraak faillissement na beëindiging surseance </td> \n",
       "        <td id=\"T_e49c28f8_8507_11e8_b5cb_f40f243770f7row1_col2\" class=\"data row1 col2\" >2960</td> \n",
       "    </tr>    <tr> \n",
       "        <th id=\"T_e49c28f8_8507_11e8_b5cb_f40f243770f7level0_row2\" class=\"row_heading level0 row2\" >2</th> \n",
       "        <td id=\"T_e49c28f8_8507_11e8_b5cb_f40f243770f7row2_col0\" class=\"data row2 col0\" >1301</td> \n",
       "        <td id=\"T_e49c28f8_8507_11e8_b5cb_f40f243770f7row2_col1\" class=\"data row2 col1\" >uitspraak faillissement door tussentijdse beëindiging schuldsanering</td> \n",
       "        <td id=\"T_e49c28f8_8507_11e8_b5cb_f40f243770f7row2_col2\" class=\"data row2 col2\" >2113</td> \n",
       "    </tr>    <tr> \n",
       "        <th id=\"T_e49c28f8_8507_11e8_b5cb_f40f243770f7level0_row3\" class=\"row_heading level0 row3\" >3</th> \n",
       "        <td id=\"T_e49c28f8_8507_11e8_b5cb_f40f243770f7row3_col0\" class=\"data row3 col0\" >3313</td> \n",
       "        <td id=\"T_e49c28f8_8507_11e8_b5cb_f40f243770f7row3_col1\" class=\"data row3 col1\" >Beëindiging door omzetting in faillissement</td> \n",
       "        <td id=\"T_e49c28f8_8507_11e8_b5cb_f40f243770f7row3_col2\" class=\"data row3 col2\" >1103</td> \n",
       "    </tr>    <tr> \n",
       "        <th id=\"T_e49c28f8_8507_11e8_b5cb_f40f243770f7level0_row4\" class=\"row_heading level0 row4\" >4</th> \n",
       "        <td id=\"T_e49c28f8_8507_11e8_b5cb_f40f243770f7row4_col0\" class=\"data row4 col0\" >1100</td> \n",
       "        <td id=\"T_e49c28f8_8507_11e8_b5cb_f40f243770f7row4_col1\" class=\"data row4 col1\" >uitspraak faillissement in hoger beroep</td> \n",
       "        <td id=\"T_e49c28f8_8507_11e8_b5cb_f40f243770f7row4_col2\" class=\"data row4 col2\" >266</td> \n",
       "    </tr>    <tr> \n",
       "        <th id=\"T_e49c28f8_8507_11e8_b5cb_f40f243770f7level0_row5\" class=\"row_heading level0 row5\" >5</th> \n",
       "        <td id=\"T_e49c28f8_8507_11e8_b5cb_f40f243770f7row5_col0\" class=\"data row5 col0\" >1302</td> \n",
       "        <td id=\"T_e49c28f8_8507_11e8_b5cb_f40f243770f7row5_col1\" class=\"data row5 col1\" >uitspraak faillissement tijdens schuldsanering</td> \n",
       "        <td id=\"T_e49c28f8_8507_11e8_b5cb_f40f243770f7row5_col2\" class=\"data row5 col2\" >234</td> \n",
       "    </tr>    <tr> \n",
       "        <th id=\"T_e49c28f8_8507_11e8_b5cb_f40f243770f7level0_row6\" class=\"row_heading level0 row6\" >6</th> \n",
       "        <td id=\"T_e49c28f8_8507_11e8_b5cb_f40f243770f7row6_col0\" class=\"data row6 col0\" >1304</td> \n",
       "        <td id=\"T_e49c28f8_8507_11e8_b5cb_f40f243770f7row6_col1\" class=\"data row6 col1\" >heropening faillissement door ontbinding akkoord in faillissement</td> \n",
       "        <td id=\"T_e49c28f8_8507_11e8_b5cb_f40f243770f7row6_col2\" class=\"data row6 col2\" >7</td> \n",
       "    </tr>    <tr> \n",
       "        <th id=\"T_e49c28f8_8507_11e8_b5cb_f40f243770f7level0_row7\" class=\"row_heading level0 row7\" >7</th> \n",
       "        <td id=\"T_e49c28f8_8507_11e8_b5cb_f40f243770f7row7_col0\" class=\"data row7 col0\" >1200</td> \n",
       "        <td id=\"T_e49c28f8_8507_11e8_b5cb_f40f243770f7row7_col1\" class=\"data row7 col1\" >uitspraak faillissement in cassatie</td> \n",
       "        <td id=\"T_e49c28f8_8507_11e8_b5cb_f40f243770f7row7_col2\" class=\"data row7 col2\" >3</td> \n",
       "    </tr></tbody> \n",
       "</table> "
      ],
      "text/plain": [
       "<pandas.io.formats.style.Styler at 0x115117080>"
      ]
     },
     "execution_count": 51,
     "metadata": {},
     "output_type": "execute_result"
    }
   ],
   "source": [
    "sql = \"\"\"\n",
    "create temp table publication_types (type_code varchar, description  varchar);\n",
    "insert into publication_types (type_code, description) values\n",
    "  ('1100', 'uitspraak faillissement in hoger beroep'),\n",
    "  ('1200', 'uitspraak faillissement in cassatie'),\n",
    "  ('1300', 'uitspraak faillissement'),\n",
    "  ('1301', 'uitspraak faillissement door tussentijdse beëindiging schuldsanering'),\n",
    "  ('1302', 'uitspraak faillissement tijdens schuldsanering'),\n",
    "  ('1303', 'uitspraak faillissement door ontbinding akkoord in schuldsanering '),\n",
    "  ('1304', 'heropening faillissement door ontbinding akkoord in faillissement'),\n",
    "  ('1305', 'uitspraak faillissement door ontbinding akkoord in surseance'),\n",
    "  ('1306', 'uitspraak faillissement na beëindiging surseance '),\n",
    "  ('3313', 'Beëindiging door omzetting in faillissement');\n",
    "with available_insolvents as \n",
    "    (select * from insolvents where person_legal_personality = 'rechtspersoon' \n",
    "     --and is_removed is False and (end_findability > current_date or end_findability is null)\n",
    "     ),\n",
    "with_start_date_ins as (select * from insolvents where start_date_insolvency is not NULL)\n",
    "  select pub.type_code, pt.description, count(*)\n",
    "    from with_start_date_ins ins\n",
    "      join publications pub on ins.id = pub.insolvent_id\n",
    "      join publication_types pt on pt.type_code = pub.type_code\n",
    "    where pub.type_code in ('1100', '1200', '1300', '1301', '1302', '1303', '1304', '1305', '1306', '3313')\n",
    "  group by 1, 2\n",
    "order by count desc;\n",
    "\"\"\"\n",
    "df = pd.read_sql(sql, con)\n",
    "df.style"
   ]
  },
  {
   "cell_type": "markdown",
   "metadata": {},
   "source": [
    "#### Results\n",
    "We can determine how cases start out. This can be sliced to a period, court, etc.<br>\n",
    "Using a stacked area graph it can be shown how cases endings change over time."
   ]
  },
  {
   "cell_type": "markdown",
   "metadata": {},
   "source": [
    "### how do cases end"
   ]
  },
  {
   "cell_type": "code",
   "execution_count": 16,
   "metadata": {},
   "outputs": [
    {
     "data": {
      "text/html": [
       "<style  type=\"text/css\" >\n",
       "</style>  \n",
       "<table id=\"T_9794d342_84ef_11e8_a3f9_f40f243770f7\" > \n",
       "<thead>    <tr> \n",
       "        <th class=\"blank level0\" ></th> \n",
       "        <th class=\"col_heading level0 col0\" >type_code</th> \n",
       "        <th class=\"col_heading level0 col1\" >description</th> \n",
       "        <th class=\"col_heading level0 col2\" >count</th> \n",
       "    </tr></thead> \n",
       "<tbody>    <tr> \n",
       "        <th id=\"T_9794d342_84ef_11e8_a3f9_f40f243770f7level0_row0\" class=\"row_heading level0 row0\" >0</th> \n",
       "        <td id=\"T_9794d342_84ef_11e8_a3f9_f40f243770f7row0_col0\" class=\"data row0 col0\" >1316</td> \n",
       "        <td id=\"T_9794d342_84ef_11e8_a3f9_f40f243770f7row0_col1\" class=\"data row0 col1\" >opheffing faillissement wegens gebrek aan baten</td> \n",
       "        <td id=\"T_9794d342_84ef_11e8_a3f9_f40f243770f7row0_col2\" class=\"data row0 col2\" >31525</td> \n",
       "    </tr>    <tr> \n",
       "        <th id=\"T_9794d342_84ef_11e8_a3f9_f40f243770f7level0_row1\" class=\"row_heading level0 row1\" >1</th> \n",
       "        <td id=\"T_9794d342_84ef_11e8_a3f9_f40f243770f7row1_col0\" class=\"data row1 col0\" >1317</td> \n",
       "        <td id=\"T_9794d342_84ef_11e8_a3f9_f40f243770f7row1_col1\" class=\"data row1 col1\" >einde faillissement door verbindende uitdelingslijst</td> \n",
       "        <td id=\"T_9794d342_84ef_11e8_a3f9_f40f243770f7row1_col2\" class=\"data row1 col2\" >10571</td> \n",
       "    </tr>    <tr> \n",
       "        <th id=\"T_9794d342_84ef_11e8_a3f9_f40f243770f7level0_row2\" class=\"row_heading level0 row2\" >2</th> \n",
       "        <td id=\"T_9794d342_84ef_11e8_a3f9_f40f243770f7row2_col0\" class=\"data row2 col0\" >1333</td> \n",
       "        <td id=\"T_9794d342_84ef_11e8_a3f9_f40f243770f7row2_col1\" class=\"data row2 col1\" >Faillissement omgezet in schuldsanering</td> \n",
       "        <td id=\"T_9794d342_84ef_11e8_a3f9_f40f243770f7row2_col2\" class=\"data row2 col2\" >3133</td> \n",
       "    </tr>    <tr> \n",
       "        <th id=\"T_9794d342_84ef_11e8_a3f9_f40f243770f7level0_row3\" class=\"row_heading level0 row3\" >3</th> \n",
       "        <td id=\"T_9794d342_84ef_11e8_a3f9_f40f243770f7row3_col0\" class=\"data row3 col0\" >1318</td> \n",
       "        <td id=\"T_9794d342_84ef_11e8_a3f9_f40f243770f7row3_col1\" class=\"data row3 col1\" >einde faillissement door goedkeuring akkoord</td> \n",
       "        <td id=\"T_9794d342_84ef_11e8_a3f9_f40f243770f7row3_col2\" class=\"data row3 col2\" >814</td> \n",
       "    </tr>    <tr> \n",
       "        <th id=\"T_9794d342_84ef_11e8_a3f9_f40f243770f7level0_row4\" class=\"row_heading level0 row4\" >4</th> \n",
       "        <td id=\"T_9794d342_84ef_11e8_a3f9_f40f243770f7row4_col0\" class=\"data row4 col0\" >1320</td> \n",
       "        <td id=\"T_9794d342_84ef_11e8_a3f9_f40f243770f7row4_col1\" class=\"data row4 col1\" >vernietiging faillissement na verzet</td> \n",
       "        <td id=\"T_9794d342_84ef_11e8_a3f9_f40f243770f7row4_col2\" class=\"data row4 col2\" >727</td> \n",
       "    </tr>    <tr> \n",
       "        <th id=\"T_9794d342_84ef_11e8_a3f9_f40f243770f7level0_row5\" class=\"row_heading level0 row5\" >5</th> \n",
       "        <td id=\"T_9794d342_84ef_11e8_a3f9_f40f243770f7row5_col0\" class=\"data row5 col0\" >1102</td> \n",
       "        <td id=\"T_9794d342_84ef_11e8_a3f9_f40f243770f7row5_col1\" class=\"data row5 col1\" >vernietiging faillissement in hoger beroep</td> \n",
       "        <td id=\"T_9794d342_84ef_11e8_a3f9_f40f243770f7row5_col2\" class=\"data row5 col2\" >214</td> \n",
       "    </tr>    <tr> \n",
       "        <th id=\"T_9794d342_84ef_11e8_a3f9_f40f243770f7level0_row6\" class=\"row_heading level0 row6\" >6</th> \n",
       "        <td id=\"T_9794d342_84ef_11e8_a3f9_f40f243770f7row6_col0\" class=\"data row6 col0\" >1319</td> \n",
       "        <td id=\"T_9794d342_84ef_11e8_a3f9_f40f243770f7row6_col1\" class=\"data row6 col1\" >einde faillissement door verbindende uitdelingslijst na verzet</td> \n",
       "        <td id=\"T_9794d342_84ef_11e8_a3f9_f40f243770f7row6_col2\" class=\"data row6 col2\" >39</td> \n",
       "    </tr>    <tr> \n",
       "        <th id=\"T_9794d342_84ef_11e8_a3f9_f40f243770f7level0_row7\" class=\"row_heading level0 row7\" >7</th> \n",
       "        <td id=\"T_9794d342_84ef_11e8_a3f9_f40f243770f7row7_col0\" class=\"data row7 col0\" >1324</td> \n",
       "        <td id=\"T_9794d342_84ef_11e8_a3f9_f40f243770f7row7_col1\" class=\"data row7 col1\" >einde faillissement door voldoen van alle schulden</td> \n",
       "        <td id=\"T_9794d342_84ef_11e8_a3f9_f40f243770f7row7_col2\" class=\"data row7 col2\" >9</td> \n",
       "    </tr>    <tr> \n",
       "        <th id=\"T_9794d342_84ef_11e8_a3f9_f40f243770f7level0_row8\" class=\"row_heading level0 row8\" >8</th> \n",
       "        <td id=\"T_9794d342_84ef_11e8_a3f9_f40f243770f7row8_col0\" class=\"data row8 col0\" >1202</td> \n",
       "        <td id=\"T_9794d342_84ef_11e8_a3f9_f40f243770f7row8_col1\" class=\"data row8 col1\" >vernietiging faillissement in cassatie</td> \n",
       "        <td id=\"T_9794d342_84ef_11e8_a3f9_f40f243770f7row8_col2\" class=\"data row8 col2\" >6</td> \n",
       "    </tr></tbody> \n",
       "</table> "
      ],
      "text/plain": [
       "<pandas.io.formats.style.Styler at 0x115b4bba8>"
      ]
     },
     "execution_count": 16,
     "metadata": {},
     "output_type": "execute_result"
    }
   ],
   "source": [
    "sql = \"\"\"\n",
    "create temp table publication_types (type_code varchar, description  varchar);\n",
    "insert into publication_types (type_code, description) values\n",
    "('1102', 'vernietiging faillissement in hoger beroep'),\n",
    "('1202', 'vernietiging faillissement in cassatie'),\n",
    "('1316', 'opheffing faillissement wegens gebrek aan baten'),\n",
    "('1317', 'einde faillissement door verbindende uitdelingslijst'),\n",
    "('1318', 'einde faillissement door goedkeuring akkoord'),\n",
    "('1319', 'einde faillissement door verbindende uitdelingslijst na verzet'),\n",
    "('1320', 'vernietiging faillissement na verzet'),\n",
    "('1324', 'einde faillissement door voldoen van alle schulden'),\n",
    "('1333', 'Faillissement omgezet in schuldsanering');\n",
    "\n",
    "with available_insolvents as \n",
    "    (select * from insolvents where person_legal_personality = 'rechtspersoon' \n",
    "     --and is_removed is False and (end_findability > current_date or end_findability is null)\n",
    "     ),\n",
    "with_end_date_ins as (select * from insolvents where end_date_insolvency is not NULL)\n",
    "  select pub.type_code, pt.description, count(*)\n",
    "    from with_end_date_ins ins\n",
    "      join publications pub on ins.id = pub.insolvent_id\n",
    "      join publication_types pt on pt.type_code = pub.type_code\n",
    "    where pub.type_code in ('1102', '1202', '1316', '1317', '1318', '1319', '1320', '1324', '1333')\n",
    "  group by 1, 2\n",
    "order by count desc;\n",
    "\"\"\"\n",
    "df = pd.read_sql(sql, con)\n",
    "df.style.set_properties()"
   ]
  },
  {
   "cell_type": "markdown",
   "metadata": {
    "collapsed": true
   },
   "source": [
    "## Intermediate states\n",
    "Apart from beginning and end state many intermediate states can be identified from the data. One example is the moment of setting the verification meeting for which a timing constraint is set by the law.\n",
    "\n",
    "### when are verification meetings set\n",
    "Verfification meetings are supposed to be schedules (not held) within 14 days after the publication of bankruptcy. This demand is seen as a dead letter to be changed with the new law from 2019-1-1 onwards. From the distribution is can be seen that this deadline is almost never met, on the contrary, it appears breached up to a point that it needs further inspection."
   ]
  },
  {
   "cell_type": "code",
   "execution_count": 37,
   "metadata": {
    "collapsed": true
   },
   "outputs": [],
   "source": [
    "sql = \"\"\"\n",
    "with available_insolvents as\n",
    "  (select * from insolvents where person_legal_personality = 'rechtspersoon'\n",
    "                             and start_date_insolvency is not null\n",
    "                             and is_removed is False\n",
    "                             and (end_findability > current_date or end_findability is null)\n",
    "                             --limit 1000\n",
    "  ),\n",
    "  min_pub_dates as (select case_number, (select min(p.date) from publications p\n",
    "                                             join available_insolvents i2 on p.insolvent_id = i2.id\n",
    "                                             where i2.id = i1.id\n",
    "                                               and p.type_code in ('1309', '1310', '1325', '1326',\n",
    "                              '2310', '2311', '2312', '2313', '2314', '2315', '2316', '2317', '2318',\n",
    "                              '2338', '2339', '2340', '2341', '2342', '2343', '2344', '2345', '2346', '2347')\n",
    "                                             ) as min_pub_date,\n",
    "                           start_date_insolvency\n",
    "                    from available_insolvents i1)\n",
    "select start_date_insolvency, case_number, min_pub_date - start_date_insolvency as days_after_start\n",
    "from min_pub_dates where min_pub_date is not null\n",
    "order by 1 desc, 2, 3 desc;\"\"\"\n",
    "df = pd.read_sql(sql, con)"
   ]
  },
  {
   "cell_type": "code",
   "execution_count": 38,
   "metadata": {},
   "outputs": [
    {
     "data": {
      "text/plain": [
       "<matplotlib.axes._subplots.AxesSubplot at 0x11600b668>"
      ]
     },
     "execution_count": 38,
     "metadata": {},
     "output_type": "execute_result"
    },
    {
     "data": {
      "image/png": "[encoded data removed]",
      "text/plain": [
       "<matplotlib.figure.Figure at 0x115c3b5c0>"
      ]
     },
     "metadata": {},
     "output_type": "display_data"
    }
   ],
   "source": [
    "df.days_after_start.plot.hist(bins=50)"
   ]
  },
  {
   "cell_type": "code",
   "execution_count": 45,
   "metadata": {},
   "outputs": [
    {
     "data": {
      "text/plain": [
       "<matplotlib.axes._subplots.AxesSubplot at 0x1176b7908>"
      ]
     },
     "execution_count": 45,
     "metadata": {},
     "output_type": "execute_result"
    },
    {
     "data": {
      "image/png": "[encoded data removed]",
      "text/plain": [
       "<matplotlib.figure.Figure at 0x115fe1fd0>"
      ]
     },
     "metadata": {},
     "output_type": "display_data"
    }
   ],
   "source": [
    "# see recent breaches\n",
    "df[df.start_date_insolvency > datetime.date(2016, 1, 1)].plot.hist(bins=50)\n",
    "\n",
    "# this data is right censored, cases which not yet had a verification meeting publication are not seen."
   ]
  },
  {
   "cell_type": "code",
   "execution_count": 46,
   "metadata": {},
   "outputs": [
    {
     "data": {
      "text/html": [
       "<div>\n",
       "<style>\n",
       "    .dataframe thead tr:only-child th {\n",
       "        text-align: right;\n",
       "    }\n",
       "\n",
       "    .dataframe thead th {\n",
       "        text-align: left;\n",
       "    }\n",
       "\n",
       "    .dataframe tbody tr th {\n",
       "        vertical-align: top;\n",
       "    }\n",
       "</style>\n",
       "<table border=\"1\" class=\"dataframe\">\n",
       "  <thead>\n",
       "    <tr style=\"text-align: right;\">\n",
       "      <th></th>\n",
       "      <th>start_date_insolvency</th>\n",
       "      <th>case_number</th>\n",
       "      <th>days_after_start</th>\n",
       "    </tr>\n",
       "  </thead>\n",
       "  <tbody>\n",
       "    <tr>\n",
       "      <th>130</th>\n",
       "      <td>2016-01-19</td>\n",
       "      <td>F.13/16/28</td>\n",
       "      <td>895</td>\n",
       "    </tr>\n",
       "    <tr>\n",
       "      <th>126</th>\n",
       "      <td>2016-01-26</td>\n",
       "      <td>F.03/16/31</td>\n",
       "      <td>875</td>\n",
       "    </tr>\n",
       "    <tr>\n",
       "      <th>124</th>\n",
       "      <td>2016-02-02</td>\n",
       "      <td>F.09/16/61</td>\n",
       "      <td>819</td>\n",
       "    </tr>\n",
       "    <tr>\n",
       "      <th>125</th>\n",
       "      <td>2016-02-02</td>\n",
       "      <td>F.09/16/65</td>\n",
       "      <td>793</td>\n",
       "    </tr>\n",
       "    <tr>\n",
       "      <th>121</th>\n",
       "      <td>2016-02-09</td>\n",
       "      <td>F.10/16/97</td>\n",
       "      <td>784</td>\n",
       "    </tr>\n",
       "    <tr>\n",
       "      <th>115</th>\n",
       "      <td>2016-03-08</td>\n",
       "      <td>F.16/16/164</td>\n",
       "      <td>764</td>\n",
       "    </tr>\n",
       "    <tr>\n",
       "      <th>84</th>\n",
       "      <td>2016-06-14</td>\n",
       "      <td>F.05/16/398</td>\n",
       "      <td>738</td>\n",
       "    </tr>\n",
       "    <tr>\n",
       "      <th>85</th>\n",
       "      <td>2016-06-14</td>\n",
       "      <td>F.05/16/399</td>\n",
       "      <td>738</td>\n",
       "    </tr>\n",
       "    <tr>\n",
       "      <th>111</th>\n",
       "      <td>2016-03-15</td>\n",
       "      <td>F.09/16/161</td>\n",
       "      <td>728</td>\n",
       "    </tr>\n",
       "    <tr>\n",
       "      <th>83</th>\n",
       "      <td>2016-06-15</td>\n",
       "      <td>F.15/16/241</td>\n",
       "      <td>728</td>\n",
       "    </tr>\n",
       "    <tr>\n",
       "      <th>93</th>\n",
       "      <td>2016-05-31</td>\n",
       "      <td>F.10/16/284</td>\n",
       "      <td>707</td>\n",
       "    </tr>\n",
       "    <tr>\n",
       "      <th>100</th>\n",
       "      <td>2016-05-03</td>\n",
       "      <td>F.10/16/253</td>\n",
       "      <td>700</td>\n",
       "    </tr>\n",
       "    <tr>\n",
       "      <th>75</th>\n",
       "      <td>2016-08-02</td>\n",
       "      <td>F.09/16/367</td>\n",
       "      <td>682</td>\n",
       "    </tr>\n",
       "    <tr>\n",
       "      <th>120</th>\n",
       "      <td>2016-02-16</td>\n",
       "      <td>F.09/16/85</td>\n",
       "      <td>673</td>\n",
       "    </tr>\n",
       "    <tr>\n",
       "      <th>102</th>\n",
       "      <td>2016-04-19</td>\n",
       "      <td>F.05/16/260</td>\n",
       "      <td>667</td>\n",
       "    </tr>\n",
       "    <tr>\n",
       "      <th>110</th>\n",
       "      <td>2016-03-15</td>\n",
       "      <td>F.09/16/160</td>\n",
       "      <td>667</td>\n",
       "    </tr>\n",
       "    <tr>\n",
       "      <th>113</th>\n",
       "      <td>2016-03-15</td>\n",
       "      <td>F.17/16/50</td>\n",
       "      <td>666</td>\n",
       "    </tr>\n",
       "    <tr>\n",
       "      <th>101</th>\n",
       "      <td>2016-04-26</td>\n",
       "      <td>F.05/16/276</td>\n",
       "      <td>665</td>\n",
       "    </tr>\n",
       "    <tr>\n",
       "      <th>86</th>\n",
       "      <td>2016-06-14</td>\n",
       "      <td>F.05/16/401</td>\n",
       "      <td>664</td>\n",
       "    </tr>\n",
       "    <tr>\n",
       "      <th>92</th>\n",
       "      <td>2016-06-07</td>\n",
       "      <td>F.15/16/227</td>\n",
       "      <td>659</td>\n",
       "    </tr>\n",
       "  </tbody>\n",
       "</table>\n",
       "</div>"
      ],
      "text/plain": [
       "    start_date_insolvency  case_number  days_after_start\n",
       "130            2016-01-19   F.13/16/28               895\n",
       "126            2016-01-26   F.03/16/31               875\n",
       "124            2016-02-02   F.09/16/61               819\n",
       "125            2016-02-02   F.09/16/65               793\n",
       "121            2016-02-09   F.10/16/97               784\n",
       "115            2016-03-08  F.16/16/164               764\n",
       "84             2016-06-14  F.05/16/398               738\n",
       "85             2016-06-14  F.05/16/399               738\n",
       "111            2016-03-15  F.09/16/161               728\n",
       "83             2016-06-15  F.15/16/241               728\n",
       "93             2016-05-31  F.10/16/284               707\n",
       "100            2016-05-03  F.10/16/253               700\n",
       "75             2016-08-02  F.09/16/367               682\n",
       "120            2016-02-16   F.09/16/85               673\n",
       "102            2016-04-19  F.05/16/260               667\n",
       "110            2016-03-15  F.09/16/160               667\n",
       "113            2016-03-15   F.17/16/50               666\n",
       "101            2016-04-26  F.05/16/276               665\n",
       "86             2016-06-14  F.05/16/401               664\n",
       "92             2016-06-07  F.15/16/227               659"
      ]
     },
     "execution_count": 46,
     "metadata": {},
     "output_type": "execute_result"
    }
   ],
   "source": [
    "# see recent breaches\n",
    "import datetime\n",
    "df[df.start_date_insolvency > datetime.date(2016, 1, 1)].sort_values(by=['days_after_start'], ascending=False).head(20)"
   ]
  },
  {
   "cell_type": "code",
   "execution_count": 50,
   "metadata": {},
   "outputs": [
    {
     "data": {
      "text/html": [
       "<style  type=\"text/css\" >\n",
       "</style>  \n",
       "<table id=\"T_dab5515c_8507_11e8_afdb_f40f243770f7\" > \n",
       "<thead>    <tr> \n",
       "        <th class=\"blank level0\" ></th> \n",
       "        <th class=\"col_heading level0 col0\" >case_number</th> \n",
       "        <th class=\"col_heading level0 col1\" >date</th> \n",
       "        <th class=\"col_heading level0 col2\" >type_code</th> \n",
       "        <th class=\"col_heading level0 col3\" >description</th> \n",
       "        <th class=\"col_heading level0 col4\" >start_date_insolvency</th> \n",
       "    </tr></thead> \n",
       "<tbody>    <tr> \n",
       "        <th id=\"T_dab5515c_8507_11e8_afdb_f40f243770f7level0_row0\" class=\"row_heading level0 row0\" >0</th> \n",
       "        <td id=\"T_dab5515c_8507_11e8_afdb_f40f243770f7row0_col0\" class=\"data row0 col0\" >F.03/16/31</td> \n",
       "        <td id=\"T_dab5515c_8507_11e8_afdb_f40f243770f7row0_col1\" class=\"data row0 col1\" >2016-01-28</td> \n",
       "        <td id=\"T_dab5515c_8507_11e8_afdb_f40f243770f7row0_col2\" class=\"data row0 col2\" >1300</td> \n",
       "        <td id=\"T_dab5515c_8507_11e8_afdb_f40f243770f7row0_col3\" class=\"data row0 col3\" >Uitspraak faillissement op 26 januari 2016</td> \n",
       "        <td id=\"T_dab5515c_8507_11e8_afdb_f40f243770f7row0_col4\" class=\"data row0 col4\" >2016-01-26</td> \n",
       "    </tr>    <tr> \n",
       "        <th id=\"T_dab5515c_8507_11e8_afdb_f40f243770f7level0_row1\" class=\"row_heading level0 row1\" >1</th> \n",
       "        <td id=\"T_dab5515c_8507_11e8_afdb_f40f243770f7row1_col0\" class=\"data row1 col0\" >F.03/16/31</td> \n",
       "        <td id=\"T_dab5515c_8507_11e8_afdb_f40f243770f7row1_col1\" class=\"data row1 col1\" >2016-11-24</td> \n",
       "        <td id=\"T_dab5515c_8507_11e8_afdb_f40f243770f7row1_col2\" class=\"data row1 col2\" >1307</td> \n",
       "        <td id=\"T_dab5515c_8507_11e8_afdb_f40f243770f7row1_col3\" class=\"data row1 col3\" >vervanging curator mr. B.P.J. Tillemans door mr. J.T.J. Gorissen</td> \n",
       "        <td id=\"T_dab5515c_8507_11e8_afdb_f40f243770f7row1_col4\" class=\"data row1 col4\" >2016-01-26</td> \n",
       "    </tr>    <tr> \n",
       "        <th id=\"T_dab5515c_8507_11e8_afdb_f40f243770f7level0_row2\" class=\"row_heading level0 row2\" >2</th> \n",
       "        <td id=\"T_dab5515c_8507_11e8_afdb_f40f243770f7row2_col0\" class=\"data row2 col0\" >F.03/16/31</td> \n",
       "        <td id=\"T_dab5515c_8507_11e8_afdb_f40f243770f7row2_col1\" class=\"data row2 col1\" >2017-05-08</td> \n",
       "        <td id=\"T_dab5515c_8507_11e8_afdb_f40f243770f7row2_col2\" class=\"data row2 col2\" >1328</td> \n",
       "        <td id=\"T_dab5515c_8507_11e8_afdb_f40f243770f7row2_col3\" class=\"data row2 col3\" >vervanging rechter-commissaris mr. M.E.M.W. Nuijts  door mr. J.J. Groen.</td> \n",
       "        <td id=\"T_dab5515c_8507_11e8_afdb_f40f243770f7row2_col4\" class=\"data row2 col4\" >2016-01-26</td> \n",
       "    </tr>    <tr> \n",
       "        <th id=\"T_dab5515c_8507_11e8_afdb_f40f243770f7level0_row3\" class=\"row_heading level0 row3\" >3</th> \n",
       "        <td id=\"T_dab5515c_8507_11e8_afdb_f40f243770f7row3_col0\" class=\"data row3 col0\" >F.03/16/31</td> \n",
       "        <td id=\"T_dab5515c_8507_11e8_afdb_f40f243770f7row3_col1\" class=\"data row3 col1\" >2018-06-19</td> \n",
       "        <td id=\"T_dab5515c_8507_11e8_afdb_f40f243770f7row3_col2\" class=\"data row3 col2\" >1309</td> \n",
       "        <td id=\"T_dab5515c_8507_11e8_afdb_f40f243770f7row3_col3\" class=\"data row3 col3\" >Verificatievergadering: op 26 juni 2018 om 11:30</td> \n",
       "        <td id=\"T_dab5515c_8507_11e8_afdb_f40f243770f7row3_col4\" class=\"data row3 col4\" >2016-01-26</td> \n",
       "    </tr></tbody> \n",
       "</table> "
      ],
      "text/plain": [
       "<pandas.io.formats.style.Styler at 0x11704b208>"
      ]
     },
     "execution_count": 50,
     "metadata": {},
     "output_type": "execute_result"
    }
   ],
   "source": [
    "# pull a file e.g. the second\n",
    "sql = \"\"\"\n",
    "select case_number, date, type_code, description, start_date_insolvency\n",
    "from insolvents i join publications p on i.id = p.insolvent_id\n",
    "where case_number = 'F.03/16/31'\n",
    "order by date;\n",
    "\"\"\"\n",
    "pd.read_sql(sql, con).style"
   ]
  },
  {
   "cell_type": "code",
   "execution_count": null,
   "metadata": {
    "collapsed": true
   },
   "outputs": [],
   "source": []
  }
 ],
 "metadata": {
  "kernelspec": {
   "display_name": "is-ds-thesis",
   "language": "python",
   "name": "is-ds-thesis"
  },
  "language_info": {
   "codemirror_mode": {
    "name": "ipython",
    "version": 3
   },
   "file_extension": ".py",
   "mimetype": "text/x-python",
   "name": "python",
   "nbconvert_exporter": "python",
   "pygments_lexer": "ipython3",
   "version": "3.6.3"
  }
 },
 "nbformat": 4,
 "nbformat_minor": 2
}
