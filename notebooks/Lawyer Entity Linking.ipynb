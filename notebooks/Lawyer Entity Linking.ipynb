{
 "cells": [
  {
   "cell_type": "markdown",
   "metadata": {},
   "source": [
    "# Lawyer Entity Linking"
   ]
  },
  {
   "cell_type": "markdown",
   "metadata": {},
   "source": [
    "#### Setup"
   ]
  },
  {
   "cell_type": "code",
   "execution_count": 2,
   "metadata": {},
   "outputs": [
    {
     "name": "stdout",
     "output_type": "stream",
     "text": [
      "CONNECTION ESTABLISHED\n"
     ]
    }
   ],
   "source": [
    "#import pdb; pdb.set_trace()\n",
    "\n",
    "%matplotlib inline  \n",
    "import pandas as pd\n",
    "import numpy as np\n",
    "import matplotlib.pyplot as plt\n",
    "import os\n",
    "import re\n",
    "import json\n",
    "import psycopg2\n",
    "from sqlalchemy.engine.url import URL\n",
    "\n",
    "# connection to the database\n",
    "# connection string for use in pandas:\n",
    "con = str(URL(drivername='postgresql', \n",
    "              username=os.environ['DB_QIR_USERNAME'], \n",
    "              password=os.environ['DB_QIR_PASSWORD'], \n",
    "              host='www.quantleap.nl', \n",
    "              #host='localhost', \n",
    "              database='qir'))\n",
    "\n",
    "# cursor for use with psycopg2\n",
    "conn = psycopg2.connect(con)\n",
    "cur = conn.cursor()  \n",
    "print('CONNECTION ESTABLISHED')"
   ]
  },
  {
   "cell_type": "code",
   "execution_count": 27,
   "metadata": {},
   "outputs": [
    {
     "data": {
      "text/plain": [
       "500"
      ]
     },
     "execution_count": 27,
     "metadata": {},
     "output_type": "execute_result"
    }
   ],
   "source": [
    "pd.set_option(\"display.max_rows\", 500)\n",
    "pd.get_option(\"display.max_rows\")"
   ]
  },
  {
   "cell_type": "code",
   "execution_count": 3,
   "metadata": {},
   "outputs": [],
   "source": [
    "df = pd.read_sql(\"\"\"select aa.id, source, cir_initials, cir_full_family_name, bar_code, full_name, \n",
    "                    has_same_normalized_name, is_verified from administrator_associations aa \n",
    "                    join nova_lawyers n on aa.nova_lawyer_id = n.id\n",
    "                    order by source, cir_full_family_name, cir_initials\"\"\", con)\n"
   ]
  },
  {
   "cell_type": "code",
   "execution_count": 4,
   "metadata": {},
   "outputs": [
    {
     "data": {
      "text/html": [
       "<div>\n",
       "<style scoped>\n",
       "    .dataframe tbody tr th:only-of-type {\n",
       "        vertical-align: middle;\n",
       "    }\n",
       "\n",
       "    .dataframe tbody tr th {\n",
       "        vertical-align: top;\n",
       "    }\n",
       "\n",
       "    .dataframe thead th {\n",
       "        text-align: right;\n",
       "    }\n",
       "</style>\n",
       "<table border=\"1\" class=\"dataframe\">\n",
       "  <thead>\n",
       "    <tr style=\"text-align: right;\">\n",
       "      <th></th>\n",
       "      <th>id</th>\n",
       "      <th>source</th>\n",
       "      <th>cir_initials</th>\n",
       "      <th>cir_full_family_name</th>\n",
       "      <th>bar_code</th>\n",
       "      <th>full_name</th>\n",
       "      <th>has_same_normalized_name</th>\n",
       "      <th>is_verified</th>\n",
       "    </tr>\n",
       "  </thead>\n",
       "  <tbody>\n",
       "    <tr>\n",
       "      <th>0</th>\n",
       "      <td>2113</td>\n",
       "      <td>advocatenzoeken</td>\n",
       "      <td>r.j.g.</td>\n",
       "      <td>abeln</td>\n",
       "      <td>A20770</td>\n",
       "      <td>Mr. R.J.G. Abeln</td>\n",
       "      <td>True</td>\n",
       "      <td>True</td>\n",
       "    </tr>\n",
       "    <tr>\n",
       "      <th>1</th>\n",
       "      <td>2114</td>\n",
       "      <td>advocatenzoeken</td>\n",
       "      <td>h.p.</td>\n",
       "      <td>abma</td>\n",
       "      <td>A26396</td>\n",
       "      <td>Mr. H.P. Abma</td>\n",
       "      <td>True</td>\n",
       "      <td>True</td>\n",
       "    </tr>\n",
       "    <tr>\n",
       "      <th>2</th>\n",
       "      <td>2120</td>\n",
       "      <td>advocatenzoeken</td>\n",
       "      <td>s.w.h.</td>\n",
       "      <td>arends</td>\n",
       "      <td>A20574</td>\n",
       "      <td>Mr. S.W.H. Arends</td>\n",
       "      <td>True</td>\n",
       "      <td>True</td>\n",
       "    </tr>\n",
       "    <tr>\n",
       "      <th>3</th>\n",
       "      <td>2131</td>\n",
       "      <td>advocatenzoeken</td>\n",
       "      <td>n.</td>\n",
       "      <td>bakker</td>\n",
       "      <td>A13296</td>\n",
       "      <td>Mr. Niels Bakker</td>\n",
       "      <td>False</td>\n",
       "      <td>False</td>\n",
       "    </tr>\n",
       "    <tr>\n",
       "      <th>4</th>\n",
       "      <td>2682</td>\n",
       "      <td>advocatenzoeken</td>\n",
       "      <td>r.a.</td>\n",
       "      <td>baltes</td>\n",
       "      <td>A16624</td>\n",
       "      <td>de heer mr. R.A. Baltes</td>\n",
       "      <td>True</td>\n",
       "      <td>True</td>\n",
       "    </tr>\n",
       "  </tbody>\n",
       "</table>\n",
       "</div>"
      ],
      "text/plain": [
       "     id           source cir_initials cir_full_family_name bar_code  \\\n",
       "0  2113  advocatenzoeken       r.j.g.                abeln   A20770   \n",
       "1  2114  advocatenzoeken         h.p.                 abma   A26396   \n",
       "2  2120  advocatenzoeken       s.w.h.               arends   A20574   \n",
       "3  2131  advocatenzoeken           n.               bakker   A13296   \n",
       "4  2682  advocatenzoeken         r.a.               baltes   A16624   \n",
       "\n",
       "                 full_name  has_same_normalized_name  is_verified  \n",
       "0         Mr. R.J.G. Abeln                      True         True  \n",
       "1            Mr. H.P. Abma                      True         True  \n",
       "2        Mr. S.W.H. Arends                      True         True  \n",
       "3         Mr. Niels Bakker                     False        False  \n",
       "4  de heer mr. R.A. Baltes                      True         True  "
      ]
     },
     "execution_count": 4,
     "metadata": {},
     "output_type": "execute_result"
    }
   ],
   "source": [
    "df.head()"
   ]
  },
  {
   "cell_type": "code",
   "execution_count": 5,
   "metadata": {},
   "outputs": [
    {
     "name": "stdout",
     "output_type": "stream",
     "text": [
      "1563\n"
     ]
    },
    {
     "data": {
      "text/plain": [
       "source\n",
       "advocatenzoeken     280\n",
       "manual              149\n",
       "nova               1134\n",
       "Name: id, dtype: int64"
      ]
     },
     "execution_count": 5,
     "metadata": {},
     "output_type": "execute_result"
    }
   ],
   "source": [
    "print(len(df))\n",
    "df.groupby(['source']).count()['id']"
   ]
  },
  {
   "cell_type": "code",
   "execution_count": 6,
   "metadata": {},
   "outputs": [
    {
     "data": {
      "text/plain": [
       "Index(['id', 'source', 'cir_initials', 'cir_full_family_name', 'bar_code',\n",
       "       'full_name', 'has_same_normalized_name', 'is_verified'],\n",
       "      dtype='object')"
      ]
     },
     "execution_count": 6,
     "metadata": {},
     "output_type": "execute_result"
    }
   ],
   "source": [
    "df.columns"
   ]
  },
  {
   "cell_type": "code",
   "execution_count": 7,
   "metadata": {},
   "outputs": [],
   "source": [
    "pt = pd.pivot_table(df, values='id', index=['source'],\n",
    "...                     columns=['has_same_normalized_name'], aggfunc=len)"
   ]
  },
  {
   "cell_type": "code",
   "execution_count": 8,
   "metadata": {},
   "outputs": [
    {
     "data": {
      "text/html": [
       "<div>\n",
       "<style scoped>\n",
       "    .dataframe tbody tr th:only-of-type {\n",
       "        vertical-align: middle;\n",
       "    }\n",
       "\n",
       "    .dataframe tbody tr th {\n",
       "        vertical-align: top;\n",
       "    }\n",
       "\n",
       "    .dataframe thead th {\n",
       "        text-align: right;\n",
       "    }\n",
       "</style>\n",
       "<table border=\"1\" class=\"dataframe\">\n",
       "  <thead>\n",
       "    <tr style=\"text-align: right;\">\n",
       "      <th>has_same_normalized_name</th>\n",
       "      <th>False</th>\n",
       "      <th>True</th>\n",
       "    </tr>\n",
       "    <tr>\n",
       "      <th>source</th>\n",
       "      <th></th>\n",
       "      <th></th>\n",
       "    </tr>\n",
       "  </thead>\n",
       "  <tbody>\n",
       "    <tr>\n",
       "      <th>advocatenzoeken</th>\n",
       "      <td>31.0</td>\n",
       "      <td>249.0</td>\n",
       "    </tr>\n",
       "    <tr>\n",
       "      <th>manual</th>\n",
       "      <td>149.0</td>\n",
       "      <td>NaN</td>\n",
       "    </tr>\n",
       "    <tr>\n",
       "      <th>nova</th>\n",
       "      <td>76.0</td>\n",
       "      <td>1058.0</td>\n",
       "    </tr>\n",
       "  </tbody>\n",
       "</table>\n",
       "</div>"
      ],
      "text/plain": [
       "has_same_normalized_name  False   True \n",
       "source                                 \n",
       "advocatenzoeken            31.0   249.0\n",
       "manual                    149.0     NaN\n",
       "nova                       76.0  1058.0"
      ]
     },
     "execution_count": 8,
     "metadata": {},
     "output_type": "execute_result"
    }
   ],
   "source": [
    "pt"
   ]
  },
  {
   "cell_type": "code",
   "execution_count": 9,
   "metadata": {},
   "outputs": [
    {
     "data": {
      "text/plain": [
       "Index([False, True], dtype='object', name='has_same_normalized_name')"
      ]
     },
     "execution_count": 9,
     "metadata": {},
     "output_type": "execute_result"
    }
   ],
   "source": [
    "pt.columns"
   ]
  },
  {
   "cell_type": "code",
   "execution_count": 10,
   "metadata": {},
   "outputs": [
    {
     "data": {
      "text/plain": [
       "Index(['advocatenzoeken', 'manual', 'nova'], dtype='object', name='source')"
      ]
     },
     "execution_count": 10,
     "metadata": {},
     "output_type": "execute_result"
    }
   ],
   "source": [
    "pt.index"
   ]
  },
  {
   "cell_type": "markdown",
   "metadata": {},
   "source": [
    "## which administrators have been taken of their case in current active cases"
   ]
  },
  {
   "cell_type": "code",
   "execution_count": 13,
   "metadata": {},
   "outputs": [
    {
     "data": {
      "text/html": [
       "<div>\n",
       "<style scoped>\n",
       "    .dataframe tbody tr th:only-of-type {\n",
       "        vertical-align: middle;\n",
       "    }\n",
       "\n",
       "    .dataframe tbody tr th {\n",
       "        vertical-align: top;\n",
       "    }\n",
       "\n",
       "    .dataframe thead th {\n",
       "        text-align: right;\n",
       "    }\n",
       "</style>\n",
       "<table border=\"1\" class=\"dataframe\">\n",
       "  <thead>\n",
       "    <tr style=\"text-align: right;\">\n",
       "      <th></th>\n",
       "      <th>nova_lawyer_id</th>\n",
       "      <th>full_name</th>\n",
       "      <th>full_name</th>\n",
       "      <th>count</th>\n",
       "    </tr>\n",
       "  </thead>\n",
       "  <tbody>\n",
       "    <tr>\n",
       "      <th>0</th>\n",
       "      <td>989</td>\n",
       "      <td>de heer mr. L.C. de Jong</td>\n",
       "      <td>Roest Crollius De Jong Advocaten</td>\n",
       "      <td>111</td>\n",
       "    </tr>\n",
       "    <tr>\n",
       "      <th>1</th>\n",
       "      <td>1579</td>\n",
       "      <td>Mr. S.H.F. Hoppenbrouwers</td>\n",
       "      <td>Holla Advocaten</td>\n",
       "      <td>52</td>\n",
       "    </tr>\n",
       "    <tr>\n",
       "      <th>2</th>\n",
       "      <td>1265</td>\n",
       "      <td>mevrouw mr. K.M.J.R. Maessen</td>\n",
       "      <td>De Voort Advocaten|Mediators</td>\n",
       "      <td>48</td>\n",
       "    </tr>\n",
       "    <tr>\n",
       "      <th>3</th>\n",
       "      <td>1522</td>\n",
       "      <td>Mr. Louis Deterink</td>\n",
       "      <td>Deterink Advocaten en Notarissen N.V.</td>\n",
       "      <td>45</td>\n",
       "    </tr>\n",
       "    <tr>\n",
       "      <th>4</th>\n",
       "      <td>1213</td>\n",
       "      <td>de heer mr. B.W.G.P. Meijs</td>\n",
       "      <td>Thuis Partners Advocaten</td>\n",
       "      <td>32</td>\n",
       "    </tr>\n",
       "    <tr>\n",
       "      <th>5</th>\n",
       "      <td>646</td>\n",
       "      <td>de heer mr. J.A.D.M. Daniels</td>\n",
       "      <td>Daniels Huisman Advocaten</td>\n",
       "      <td>32</td>\n",
       "    </tr>\n",
       "    <tr>\n",
       "      <th>6</th>\n",
       "      <td>1259</td>\n",
       "      <td>de heer mr. E. Douma</td>\n",
       "      <td>Alderse Baas Advocaten</td>\n",
       "      <td>29</td>\n",
       "    </tr>\n",
       "    <tr>\n",
       "      <th>7</th>\n",
       "      <td>448</td>\n",
       "      <td>mevrouw mr. A.M.T. Weersink</td>\n",
       "      <td>Hekkelman Advocaten N.V.</td>\n",
       "      <td>28</td>\n",
       "    </tr>\n",
       "    <tr>\n",
       "      <th>8</th>\n",
       "      <td>1022</td>\n",
       "      <td>de heer mr. P.C.H.H. Kager</td>\n",
       "      <td>KVH Beheer BV</td>\n",
       "      <td>23</td>\n",
       "    </tr>\n",
       "    <tr>\n",
       "      <th>9</th>\n",
       "      <td>1667</td>\n",
       "      <td>Mr. E.J. Rotshuizen</td>\n",
       "      <td>Rotshuizen Geense Advocaten</td>\n",
       "      <td>20</td>\n",
       "    </tr>\n",
       "    <tr>\n",
       "      <th>10</th>\n",
       "      <td>1700</td>\n",
       "      <td>Mr. J.A. Tiesing</td>\n",
       "      <td>RST Advocaten</td>\n",
       "      <td>19</td>\n",
       "    </tr>\n",
       "    <tr>\n",
       "      <th>11</th>\n",
       "      <td>1019</td>\n",
       "      <td>de heer mr. W.H.J.M. Haafkes</td>\n",
       "      <td>Haafkes Nijkamp &amp; Van Gurp B.V.</td>\n",
       "      <td>18</td>\n",
       "    </tr>\n",
       "    <tr>\n",
       "      <th>12</th>\n",
       "      <td>783</td>\n",
       "      <td>mevrouw mr. A.S. van Hilten</td>\n",
       "      <td>DVDW Advocaten</td>\n",
       "      <td>18</td>\n",
       "    </tr>\n",
       "    <tr>\n",
       "      <th>13</th>\n",
       "      <td>1654</td>\n",
       "      <td>Mr. H.J. Overes</td>\n",
       "      <td>BoutOveres Advocaten</td>\n",
       "      <td>18</td>\n",
       "    </tr>\n",
       "    <tr>\n",
       "      <th>14</th>\n",
       "      <td>1707</td>\n",
       "      <td>Mr. F.W. Udo</td>\n",
       "      <td>Adelmeijer Hoyng Advocaten</td>\n",
       "      <td>18</td>\n",
       "    </tr>\n",
       "    <tr>\n",
       "      <th>15</th>\n",
       "      <td>719</td>\n",
       "      <td>de heer mr. F.C.H.M. van der Stap</td>\n",
       "      <td>Lawwise Advocaten</td>\n",
       "      <td>18</td>\n",
       "    </tr>\n",
       "    <tr>\n",
       "      <th>16</th>\n",
       "      <td>1573</td>\n",
       "      <td>Mr. R.M. Hilbrink</td>\n",
       "      <td>DV advocaten B.V.</td>\n",
       "      <td>17</td>\n",
       "    </tr>\n",
       "    <tr>\n",
       "      <th>17</th>\n",
       "      <td>1537</td>\n",
       "      <td>Mr. W.L. Eikendal</td>\n",
       "      <td>Boels Zanders Advocaten</td>\n",
       "      <td>16</td>\n",
       "    </tr>\n",
       "    <tr>\n",
       "      <th>18</th>\n",
       "      <td>1651</td>\n",
       "      <td>Mr. T.H. Otten</td>\n",
       "      <td>Houthoff Buruma</td>\n",
       "      <td>16</td>\n",
       "    </tr>\n",
       "    <tr>\n",
       "      <th>19</th>\n",
       "      <td>1179</td>\n",
       "      <td>de heer mr. P. Beerens</td>\n",
       "      <td>Ploum</td>\n",
       "      <td>16</td>\n",
       "    </tr>\n",
       "  </tbody>\n",
       "</table>\n",
       "</div>"
      ],
      "text/plain": [
       "    nova_lawyer_id                          full_name  \\\n",
       "0              989           de heer mr. L.C. de Jong   \n",
       "1             1579          Mr. S.H.F. Hoppenbrouwers   \n",
       "2             1265       mevrouw mr. K.M.J.R. Maessen   \n",
       "3             1522                 Mr. Louis Deterink   \n",
       "4             1213         de heer mr. B.W.G.P. Meijs   \n",
       "5              646       de heer mr. J.A.D.M. Daniels   \n",
       "6             1259               de heer mr. E. Douma   \n",
       "7              448        mevrouw mr. A.M.T. Weersink   \n",
       "8             1022         de heer mr. P.C.H.H. Kager   \n",
       "9             1667                Mr. E.J. Rotshuizen   \n",
       "10            1700                   Mr. J.A. Tiesing   \n",
       "11            1019       de heer mr. W.H.J.M. Haafkes   \n",
       "12             783        mevrouw mr. A.S. van Hilten   \n",
       "13            1654                    Mr. H.J. Overes   \n",
       "14            1707                       Mr. F.W. Udo   \n",
       "15             719  de heer mr. F.C.H.M. van der Stap   \n",
       "16            1573                  Mr. R.M. Hilbrink   \n",
       "17            1537                  Mr. W.L. Eikendal   \n",
       "18            1651                     Mr. T.H. Otten   \n",
       "19            1179             de heer mr. P. Beerens   \n",
       "\n",
       "                                full_name  count  \n",
       "0        Roest Crollius De Jong Advocaten    111  \n",
       "1                         Holla Advocaten     52  \n",
       "2            De Voort Advocaten|Mediators     48  \n",
       "3   Deterink Advocaten en Notarissen N.V.     45  \n",
       "4                Thuis Partners Advocaten     32  \n",
       "5               Daniels Huisman Advocaten     32  \n",
       "6                  Alderse Baas Advocaten     29  \n",
       "7                Hekkelman Advocaten N.V.     28  \n",
       "8                           KVH Beheer BV     23  \n",
       "9             Rotshuizen Geense Advocaten     20  \n",
       "10                          RST Advocaten     19  \n",
       "11        Haafkes Nijkamp & Van Gurp B.V.     18  \n",
       "12                         DVDW Advocaten     18  \n",
       "13                   BoutOveres Advocaten     18  \n",
       "14             Adelmeijer Hoyng Advocaten     18  \n",
       "15                      Lawwise Advocaten     18  \n",
       "16                      DV advocaten B.V.     17  \n",
       "17                Boels Zanders Advocaten     16  \n",
       "18                        Houthoff Buruma     16  \n",
       "19                                  Ploum     16  "
      ]
     },
     "execution_count": 13,
     "metadata": {},
     "output_type": "execute_result"
    }
   ],
   "source": [
    "# which administrators in current active cases stopped working on the case\n",
    "\n",
    "df = pd.read_sql(\"\"\"select nl.id as nova_lawyer_id, nl.full_name, firm.full_name, count(*) from active_company_bankrupt_insolvents_view i\n",
    "  join administrators_receivers ar on ar.insolvent_id = i.id\n",
    "  join nova_lawyers nl on ar.nova_lawyer_id = nl.id\n",
    "  join nova_law_firms firm on nl.law_firm_id = firm.id\n",
    "  where ar.date_end is not null\n",
    "    and nl.full_name != 'ONBEKEND'\n",
    "group by 1, 2, 3\n",
    "order by 4 desc\n",
    "limit 20;\"\"\", con)\n",
    "df  # print(df.to_csv())"
   ]
  },
  {
   "cell_type": "code",
   "execution_count": 19,
   "metadata": {},
   "outputs": [
    {
     "data": {
      "text/plain": [
       "{'type': 'person',\n",
       " 'full_name': 'de heer mr. L.C. de Jong',\n",
       " 'full_address': 'Westdam 3-e 3441 GA WOERDEN - Nederland',\n",
       " 'lat': '52.0880124000',\n",
       " 'lng': '4.8823695000',\n",
       " 'oath': '1991-10-16 00:00:00',\n",
       " 'oath_first': '1991-10-16 00:00:00',\n",
       " 'district': 'Midden-Nederland',\n",
       " 'rechtsgebieden': '{\"Huurrecht\":[\"Huurrecht - algemeen\",\"Huur van woonruimte\",\"Verhuur van woonruimte\",\"Huur van bedrijfsruimte\",\"Verhuur van bedrijfsruimte\"],\"Insolventierecht\\\\/Beslag- en executierecht\":[\"Faillissementsrecht – curator\",\"Faillissementsrecht – schuldenaar\",\"Faillissementsrecht - schuldeiser\",\"Surséance van betaling\",\"Beslag- en executierecht\"],\"Ondernemingsrecht\":[\"Ondernemingsrecht - algemeen\",\"Vennootschapsrecht\",\"Rechtspersonenrecht\",\"Fusies en overnames\"],\"Personen-, familie-, erfrecht\":[\"Personenrecht - algemeen\",\"Familierecht - algemeen\",\"Echtscheidingen, alimentatiezaken, omgangsregelingen\",\"Echtscheidingen met huwelijkse voorwaarden\",\"Familiezaken met internationale aspecten\",\"Boedelscheidingen\",\"Beëindiging samenwonen\",\"Beëindiging geregistreerd partnerschap\",\"Erfrecht - algemeen\"],\"Verbintenissenrecht\":[\"Verbintenissenrecht - algemeen\",\"Contractenrecht\",\"Onrechtmatige daad\"]}',\n",
       " 'association': 'Vereniging Insolventierecht Advocaten (INSOLAD)',\n",
       " 'has_tr_beslissingen': '0',\n",
       " 'kga': None,\n",
       " 'cc': '0',\n",
       " 'cc_start': None,\n",
       " 'cc_end': None,\n",
       " 'suspended': '0',\n",
       " 'is_gedetacheerd': '0',\n",
       " 'udprofile': 'ADVOCAAT',\n",
       " 'barcode': 'A08610',\n",
       " 'kantoor_barcode': 'K11479',\n",
       " 'patron_barcode': None,\n",
       " 'patron_fullname': None}"
      ]
     },
     "execution_count": 19,
     "metadata": {},
     "output_type": "execute_result"
    }
   ],
   "source": [
    "# lawyer details\n",
    "sql = \"\"\"select json_data from nova_lawyers where id = {id}\"\"\".format(id=989)\n",
    "details = pd.read_sql(sql, con)['json_data'][0]\n",
    "json.loads(details)\n"
   ]
  },
  {
   "cell_type": "code",
   "execution_count": 29,
   "metadata": {},
   "outputs": [
    {
     "name": "stdout",
     "output_type": "stream",
     "text": [
      ",case_number,start_date_insolvency,end_date_insolvency,date_end\n",
      "0,F.16/18/303,2018-07-03,,2018-07-03\n",
      "1,F.16/18/302,2018-07-03,,2018-07-03\n",
      "2,F.16/18/301,2018-07-03,,2018-07-03\n",
      "3,F.13/16/356,2016-08-11,,2017-10-13\n",
      "4,F.13/16/358,2016-08-11,,2017-10-13\n",
      "5,F.13/16/357,2016-08-11,,2017-10-13\n",
      "6,F.16/16/396,2016-07-12,,2017-10-10\n",
      "7,F.16/12/562,2012-09-21,,2017-10-10\n",
      "8,F.16/11/21,2011-01-13,,2017-10-10\n",
      "9,F.16/13/406,2013-04-19,,2017-10-10\n",
      "\n"
     ]
    }
   ],
   "source": [
    "# display cases of which lawyer is taken:\n",
    "sql = \"\"\"select case_number, start_date_insolvency, end_date_insolvency, ar.date_end from \n",
    "         insolvents i join administrators_receivers ar on ar.insolvent_id = i.id\n",
    "         where nova_lawyer_id = {nova_lawyer_id}\n",
    "             and ar.date_end is not null\n",
    "             order by ar.date_end desc;\"\"\".format(nova_lawyer_id=989)\n",
    "print(pd.read_sql(sql, con)[:10].to_csv())\n"
   ]
  },
  {
   "cell_type": "code",
   "execution_count": 35,
   "metadata": {},
   "outputs": [
    {
     "data": {
      "text/html": [
       "<div>\n",
       "<style scoped>\n",
       "    .dataframe tbody tr th:only-of-type {\n",
       "        vertical-align: middle;\n",
       "    }\n",
       "\n",
       "    .dataframe tbody tr th {\n",
       "        vertical-align: top;\n",
       "    }\n",
       "\n",
       "    .dataframe thead th {\n",
       "        text-align: right;\n",
       "    }\n",
       "</style>\n",
       "<table border=\"1\" class=\"dataframe\">\n",
       "  <thead>\n",
       "    <tr style=\"text-align: right;\">\n",
       "      <th></th>\n",
       "      <th>date</th>\n",
       "      <th>description</th>\n",
       "    </tr>\n",
       "  </thead>\n",
       "  <tbody>\n",
       "    <tr>\n",
       "      <th>0</th>\n",
       "      <td>2017-12-14</td>\n",
       "      <td>Opheffing faillissement wegens gebrek aan bate...</td>\n",
       "    </tr>\n",
       "    <tr>\n",
       "      <th>1</th>\n",
       "      <td>2017-10-04</td>\n",
       "      <td>vervanging curator mr. C. de Jong door</td>\n",
       "    </tr>\n",
       "  </tbody>\n",
       "</table>\n",
       "</div>"
      ],
      "text/plain": [
       "         date                                        description\n",
       "0  2017-12-14  Opheffing faillissement wegens gebrek aan bate...\n",
       "1  2017-10-04            vervanging curator mr. C. de Jong door "
      ]
     },
     "execution_count": 35,
     "metadata": {},
     "output_type": "execute_result"
    }
   ],
   "source": [
    "# check publications of case\n",
    "sql = \"\"\"select date, description from \n",
    "         publications p join insolvents i on p.insolvent_id = i.id\n",
    "         where i.case_number = '{case_number}'\n",
    "             order by date desc;\"\"\".format(case_number='F.13/09/353')\n",
    "pd.read_sql(sql, con)\n",
    "\n"
   ]
  },
  {
   "cell_type": "code",
   "execution_count": 78,
   "metadata": {},
   "outputs": [
    {
     "name": "stdout",
     "output_type": "stream",
     "text": [
      ",full_name,full_name,count\n",
      "0,mevrouw mr. K.M.J.R. Maessen,De Voort Advocaten|Mediators,11\n",
      "1,mevrouw mr. A.S. van Hilten,DVDW Advocaten,10\n",
      "2,de heer mr. E. Douma,Alderse Baas Advocaten,10\n",
      "3,Mr. R.M. Hilbrink,DV advocaten B.V.,8\n",
      "4,Mr. A.C.A. Klerks - Valks,Turnaround Advocaten,7\n",
      "5,Mr. A.R. de Vries - Oosterveld,TeekensKarstens advocaten notarissen,7\n",
      "6,Mr. Roel Jonker,Van Diepen Van der Kroef Advocaten,7\n",
      "7,de heer mr. F.J.B. Buitenhuis,Delissen Martens advocaten belastingadviseurs mediation,6\n",
      "8,mevrouw mr. M. Waijers,NS Groep N.V. / NS Legal,6\n",
      "9,Mr. R.A. van Wijk,Lexington Advocaten,5\n",
      "10,Mr. Y.C.M. Heruer,Okkerse & Schop Advocaten,5\n",
      "11,de heer mr. L.C. de Jong,Roest Crollius De Jong Advocaten,5\n",
      "12,de heer mr. P. Beerens,Ploum,5\n",
      "13,Mr. S.F.M. ten Berge,DVDW Advocaten,5\n",
      "14,Mr. W.L. Eikendal,Boels Zanders Advocaten,5\n",
      "15,Mr. J.H. Steverink,Stellicher advocaten,5\n",
      "16,Mr. T.H. Otten,Houthoff Buruma,5\n",
      "17,Mr. M. Eefting,Loyens & Loeff N.V.,4\n",
      "18,Mr. J.H. Hemmes,Hemmes & Flipse Advocaten,4\n",
      "19,de heer mr. W.B. van Rookhuijzen,HJF Advocaten B.V.,4\n",
      "20,Mr. J.H. Niemans,Robers Advocaten Mediators,4\n",
      "21,mevrouw mr. C.L.P.J. Crombag,Daniels Huisman Advocaten,4\n",
      "22,Mr. G.T.C. van Apeldoorn,Blauw Tekstra Uding Advocaten,4\n",
      "23,de heer mr. G. Kuijper,Advocatenkantoor Blenheim,4\n",
      "24,de heer mr. A.J. Nederhoed,DVDW advocaten,4\n",
      "25,de heer mr. J. Smael,Ten Holter Noordam advocaten,3\n",
      "26,mevrouw mr. M. de Jong,Van Diepen Van der Kroef Advocaten,3\n",
      "27,Mr. F. Daemen,Poelmann van den Broek Advocaten,3\n",
      "28,de heer mr. P.J.F.M. de Kerf,Jaegers & Soons Advocaten-Belastingkundigen,3\n",
      "29,Mr. T.E.A. Detmar,Machiels Advocaten,3\n",
      "30,de heer mr. M.J. Roest Crollius,Roest & Recht ,3\n",
      "31,de heer mr. W.H.J.M. Haafkes,Haafkes Nijkamp & Van Gurp B.V.,3\n",
      "32,de heer mr. K. Donkers,VDT Advocaten,3\n",
      "33,de heer mr. N.J.H. Leferink,Brouwer Legal,2\n",
      "34,de heer mr. E. Hoogendam,Degenaar Hoogendam Colombijn Advocaten,2\n",
      "35,Mr. M.C. Hees,Boekel De Nerée N.V.,2\n",
      "36,de heer mr. Y.C. Tonino,FIZ advocaten B.V.,2\n",
      "37,de heer mr. L.P.J.M. van Woensel,NOVO Advocaten,2\n",
      "38,Mr. C. van Meines,La Gro Advocaten,2\n",
      "39,Mr. V.C.A. Eschauzier - van Wijk,Jaegers & Soons Advocaten-Belastingkundigen,2\n",
      "40,mevrouw mr. A.I. Mekes,La Gro Advocaten,2\n",
      "41,de heer mr. C.W.J. de Bont,Geurink & Partners B.V.,2\n",
      "42,de heer mr. P.R.W. Schaink,Florent,2\n",
      "43,Mr. M.G. Oud - Elfferich,Groen Caubo Montessori Advocaten,2\n",
      "44,de heer mr. M.C.J. Peeters,Boels Zanders Advocaten,2\n",
      "45,de heer mr. J.J.C.M. Willemen,Haans Advocaten Bergen op Zoom B.V.,2\n",
      "46,mevrouw mr. M. Haasjes,HJF Advocaten B.V.,2\n",
      "47,mevrouw mr. A.E.A. Smit- Giesen,Russell Advocaten B.V.,2\n",
      "48,Mr. M.G.E. ter Hart,Daan Advocatuur,2\n",
      "49,de heer mr. M.F. Masman,Dommerholt Advocaten N.V.,1\n",
      "\n"
     ]
    }
   ],
   "source": [
    "# which administrators in current active cases stopped working on the case - for cases after 1/1/2017\n",
    "\n",
    "df = pd.read_sql(\"\"\"select nl.full_name, firm.full_name, count(*) from active_company_bankrupt_insolvents_view i\n",
    "  join administrators_receivers ar on ar.insolvent_id = i.id\n",
    "  join nova_lawyers nl on ar.nova_lawyer_id = nl.id\n",
    "  join nova_law_firms firm on nl.law_firm_id = firm.id\n",
    "  where ar.date_end is not null\n",
    "    and nl.full_name != 'ONBEKEND'\n",
    "    and i.start_date_insolvency > '2017-01-01'\n",
    "group by 1, 2\n",
    "order by 3 desc\n",
    "limit 50;\"\"\", con)\n",
    "print(df.to_csv())\n"
   ]
  },
  {
   "cell_type": "code",
   "execution_count": null,
   "metadata": {},
   "outputs": [],
   "source": []
  }
 ],
 "metadata": {
  "kernelspec": {
   "display_name": "is-ds-thesis",
   "language": "python",
   "name": "is-ds-thesis"
  },
  "language_info": {
   "codemirror_mode": {
    "name": "ipython",
    "version": 3
   },
   "file_extension": ".py",
   "mimetype": "text/x-python",
   "name": "python",
   "nbconvert_exporter": "python",
   "pygments_lexer": "ipython3",
   "version": "3.6.3"
  }
 },
 "nbformat": 4,
 "nbformat_minor": 2
}
