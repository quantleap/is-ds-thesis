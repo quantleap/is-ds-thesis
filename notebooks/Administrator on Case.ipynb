{
 "cells": [
  {
   "cell_type": "markdown",
   "metadata": {},
   "source": [
    "# Setup"
   ]
  },
  {
   "cell_type": "code",
   "execution_count": 2,
   "metadata": {},
   "outputs": [],
   "source": [
    "%load_ext autoreload\n",
    "%autoreload 2"
   ]
  },
  {
   "cell_type": "code",
   "execution_count": 2,
   "metadata": {},
   "outputs": [
    {
     "name": "stdout",
     "output_type": "stream",
     "text": [
      "adding /Users/Tom/Dropbox/datascience/_thesis/is-ds-thesis\n"
     ]
    }
   ],
   "source": [
    "# append project root to sys.path to import modules\n",
    "from pathlib import Path\n",
    "import sys\n",
    "project_dir = str(Path.cwd().parent)\n",
    "if project_dir not in sys.path:\n",
    "    print('adding %s' % project_dir)\n",
    "    sys.path.append(project_dir)"
   ]
  },
  {
   "cell_type": "markdown",
   "metadata": {},
   "source": [
    "# Administrator on Case\n",
    "CIR keeps records historical records for administrators working on an insolvency case. This is interesting for two applications:\n",
    "\n",
    "1. The start date of the insolvency is not given by CIR. Already a process is in place that derives the start date from the court publication description for certain publication types. But, not all cases have such a publication so the first start date of an Administrator employment indicates the start of the insolvency. This can be checked with existing start dates.\n",
    "2. The investigative journalist has interest in knowing which administrators are taken from their case by the court. The removal of an administrator is recorded in the employment history as well as in court publications. This information could be extracted and presented in an informative manner."
   ]
  },
  {
   "cell_type": "code",
   "execution_count": 3,
   "metadata": {},
   "outputs": [
    {
     "name": "stdout",
     "output_type": "stream",
     "text": [
      "17339 active insolvents\n"
     ]
    }
   ],
   "source": [
    "from model.common import get_active_bankrupt_insolvents\n",
    "insolvents = get_active_bankrupt_insolvents()\n",
    "print('%d active insolvents' % len(insolvents))"
   ]
  },
  {
   "cell_type": "markdown",
   "metadata": {},
   "source": [
    "## Start date insolvency"
   ]
  },
  {
   "cell_type": "code",
   "execution_count": 20,
   "metadata": {},
   "outputs": [
    {
     "name": "stdout",
     "output_type": "stream",
     "text": [
      "16503 known, 973 unknown, 0.944324 pct known\n"
     ]
    }
   ],
   "source": [
    "# pct known\n",
    "insolvents_wo_start = [i for i in insolvents if i.start_date_insolvency is None]\n",
    "insolvents_w_start = [i for i in insolvents if i.start_date_insolvency is not None]\n",
    "print('%d known, %d unknown, %f pct known' % (len(insolvents_w_start), len(insolvents_wo_start), \n",
    "                                              len(insolvents_w_start) / len(insolvents)))"
   ]
  },
  {
   "cell_type": "code",
   "execution_count": null,
   "metadata": {},
   "outputs": [],
   "source": []
  }
 ],
 "metadata": {
  "kernelspec": {
   "display_name": "is-ds-thesis",
   "language": "python",
   "name": "is-ds-thesis"
  },
  "language_info": {
   "codemirror_mode": {
    "name": "ipython",
    "version": 3
   },
   "file_extension": ".py",
   "mimetype": "text/x-python",
   "name": "python",
   "nbconvert_exporter": "python",
   "pygments_lexer": "ipython3",
   "version": "3.6.3"
  }
 },
 "nbformat": 4,
 "nbformat_minor": 2
}
