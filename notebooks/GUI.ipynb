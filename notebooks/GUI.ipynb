{
 "cells": [
  {
   "cell_type": "code",
   "execution_count": 1,
   "metadata": {
    "code_folding": []
   },
   "outputs": [
    {
     "data": {
      "text/html": [
       "<script>\n",
       "  function code_toggle() {\n",
       "    if (code_shown){\n",
       "      $('div.input').hide('500');\n",
       "      $('#toggleButton').val('Show Code')\n",
       "    } else {\n",
       "      $('div.input').show('500');\n",
       "      $('#toggleButton').val('Hide Code')\n",
       "    }\n",
       "    code_shown = !code_shown\n",
       "  }\n",
       "\n",
       "  $( document ).ready(function(){\n",
       "    code_shown=false;\n",
       "    $('div.input').hide()\n",
       "  });\n",
       "</script>\n",
       "<form action=\"javascript:code_toggle()\"><input type=\"submit\" id=\"toggleButton\" value=\"Show Code\"></form>"
      ],
      "text/plain": [
       "<IPython.core.display.HTML object>"
      ]
     },
     "metadata": {},
     "output_type": "display_data"
    }
   ],
   "source": [
    "%%html\n",
    "<script>\n",
    "  function code_toggle() {\n",
    "    if (code_shown){\n",
    "      $('div.input').hide('500');\n",
    "      $('#toggleButton').val('Show Code')\n",
    "    } else {\n",
    "      $('div.input').show('500');\n",
    "      $('#toggleButton').val('Hide Code')\n",
    "    }\n",
    "    code_shown = !code_shown\n",
    "  }\n",
    "\n",
    "  $( document ).ready(function(){\n",
    "    code_shown=false;\n",
    "    $('div.input').hide()\n",
    "  });\n",
    "</script>\n",
    "<form action=\"javascript:code_toggle()\"><input type=\"submit\" id=\"toggleButton\" value=\"Show Code\"></form>\n"
   ]
  },
  {
   "cell_type": "code",
   "execution_count": 4,
   "metadata": {
    "code_folding": []
   },
   "outputs": [],
   "source": [
    "# database connection\n",
    "import os\n",
    "import psycopg2\n",
    "from sqlalchemy.engine.url import URL\n",
    "\n",
    "# connection to the database\n",
    "# connection string for use in pandas:\n",
    "con = str(URL(drivername='postgresql', \n",
    "              username=os.environ['DB_QIR_USERNAME'], \n",
    "              password=os.environ['DB_QIR_PASSWORD'], \n",
    "              host='www.quantleap.nl', \n",
    "              database='qir'))\n",
    "\n",
    "# cursor for use with psycopg2\n",
    "conn = psycopg2.connect(con)\n",
    "cur = conn.cursor()\n",
    "\n",
    "# todo: use NamedTupleCursor"
   ]
  },
  {
   "cell_type": "code",
   "execution_count": 10,
   "metadata": {
    "code_folding": []
   },
   "outputs": [],
   "source": [
    "import ipywidgets as widgets\n",
    "from ipywidgets import Layout\n",
    "from IPython.display import display\n",
    "\n",
    "class ReportTextSearcher(object):\n",
    "    def __init__(self):\n",
    "        self.sections = ['--- Gehele verslag',\n",
    "                         '0.0 Introduction', \n",
    "                         '1.7 Oorzaak faillissement', \n",
    "                         '7.6 Paulianeus handelen', \n",
    "                         '8.1 Boedelvorderingen']\n",
    "        \n",
    "        self.results = []\n",
    "        \n",
    "        # widgets, more clear to define that to access by container tuple\n",
    "        self.w_search_terms = widgets.Text(description='Zoektermen', value='rabobank abn amro')\n",
    "        self.w_section = widgets.Dropdown(options=self.sections, description='hoofdstuk')\n",
    "        self.w_button = widgets.Button(description='Zoek', layout={'margin': '5px 0px 0px 90px', 'width': '212px'})\n",
    "        self.w_limit = widgets.IntSlider(value=10, min=10, max=200, step=10, description='limit')\n",
    "        self.w_result_no = widgets.IntSlider(value='1', min='1', description='view result', disabled=True)\n",
    "        self.w_result = widgets.Textarea(layout={'width': '90%', 'height': '100px', 'margin': '5px 0'}) \n",
    "        self.w_out = widgets.Output()\n",
    "        \n",
    "        # container of widgets\n",
    "        self.container = widgets.VBox([\n",
    "            self.w_search_terms,\n",
    "            self.w_section,\n",
    "            self.w_limit,\n",
    "            self.w_button,\n",
    "            self.w_out,\n",
    "            self.w_result,\n",
    "            self.w_result_no\n",
    "        ])\n",
    "        \n",
    "        # register callbacks\n",
    "        self.w_button.on_click(self._search)\n",
    "        self.w_result_no.observe(self._view_result, 'value')\n",
    "        \n",
    "        #import pdb; pdb.set_trace()\n",
    "        \n",
    "    def render(self):\n",
    "        display(self.container)\n",
    "\n",
    "    def _render_results(self):\n",
    "        # process results\n",
    "        self.w_out.append_stdout('{:d} resultaten gevonden'.format(len(self.results)))\n",
    "        self.w_result_no.max = len(self.results)\n",
    "        \n",
    "        if len(self.results) > 0:\n",
    "            # show first result\n",
    "            self.w_result_no.disabled = False\n",
    "            self.w_result_no.value = 1\n",
    "            self.w_result.value = self.results[0][1]\n",
    "        \n",
    "    # call backs\n",
    "    def _view_result(self, change):\n",
    "        result = self.results[self.w_result_no.value -1]\n",
    "        self.w_result.value = result[1]\n",
    "        \n",
    "    def _search(self, button):\n",
    "        # reset\n",
    "        self.w_result.value = ''\n",
    "        self.w_out.clear_output()\n",
    "        self.w_result_no.disabled = True\n",
    "        \n",
    "        # search\n",
    "        field = 'content'\n",
    "        query_terms = 'rabobank abn amro'\n",
    "        \n",
    "        sql = \"\"\"WITH eligible_reports AS (\n",
    "                     SELECT identification, {field} AS content\n",
    "                     FROM reports rep join insolvents ins on rep.insolvent_id = ins.id\n",
    "                     WHERE publication_date BETWEEN '2014-01-01' AND '2017-12-31'\n",
    "                         AND ins.is_removed = FALSE)\n",
    "                 SELECT identification, {field} as content\n",
    "                 FROM eligible_reports\n",
    "                 WHERE to_tsvector('dutch', {field}) @@ plainto_tsquery('dutch', '{query_terms}') LIMIT {limit};\"\"\".format(field=field, query_terms=query_terms, limit=self.w_limit.value)\n",
    "        \n",
    "        #print(sql)\n",
    "        cur.execute(sql)\n",
    "        self.results = cur.fetchall()\n",
    "        \n",
    "        self._render_results()"
   ]
  },
  {
   "cell_type": "code",
   "execution_count": 11,
   "metadata": {
    "scrolled": true
   },
   "outputs": [
    {
     "data": {
      "application/vnd.jupyter.widget-view+json": {
       "model_id": "343b3d7d34bf4ed3a59b74deeff7c8f0",
       "version_major": 2,
       "version_minor": 0
      },
      "text/plain": [
       "VBox(children=(Text(value='rabobank abn amro', description='Zoektermen'), Dropdown(description='hoofdstuk', op…"
      ]
     },
     "metadata": {},
     "output_type": "display_data"
    }
   ],
   "source": [
    "search = ReportTextSearcher()\n",
    "search.render()"
   ]
  },
  {
   "cell_type": "code",
   "execution_count": null,
   "metadata": {},
   "outputs": [],
   "source": [
    "cur.close()"
   ]
  },
  {
   "cell_type": "markdown",
   "metadata": {},
   "source": [
    "# Postgres and full text search support\n",
    "\n",
    "Postgres supports normalization and lemmatization for the Dutch language.\n"
   ]
  },
  {
   "cell_type": "code",
   "execution_count": null,
   "metadata": {
    "collapsed": true
   },
   "outputs": [],
   "source": []
  }
 ],
 "metadata": {
  "kernelspec": {
   "display_name": "is-ds-thesis",
   "language": "python",
   "name": "is-ds-thesis"
  },
  "language_info": {
   "codemirror_mode": {
    "name": "ipython",
    "version": 3
   },
   "file_extension": ".py",
   "mimetype": "text/x-python",
   "name": "python",
   "nbconvert_exporter": "python",
   "pygments_lexer": "ipython3",
   "version": "3.6.3"
  }
 },
 "nbformat": 4,
 "nbformat_minor": 2
}
