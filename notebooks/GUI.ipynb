{
 "cells": [
  {
   "cell_type": "code",
   "execution_count": 1,
   "metadata": {
    "code_folding": []
   },
   "outputs": [
    {
     "data": {
      "text/html": [
       "<script>\n",
       "  function code_toggle() {\n",
       "    if (code_shown){\n",
       "      $('div.input').hide('500');\n",
       "      $('#toggleButton').val('Show Code')\n",
       "    } else {\n",
       "      $('div.input').show('500');\n",
       "      $('#toggleButton').val('Hide Code')\n",
       "    }\n",
       "    code_shown = !code_shown\n",
       "  }\n",
       "\n",
       "  $( document ).ready(function(){\n",
       "    code_shown=false;\n",
       "    $('div.input').hide()\n",
       "  });\n",
       "</script>\n",
       "<form action=\"javascript:code_toggle()\"><input type=\"submit\" id=\"toggleButton\" value=\"Show Code\"></form>"
      ],
      "text/plain": [
       "<IPython.core.display.HTML object>"
      ]
     },
     "metadata": {},
     "output_type": "display_data"
    }
   ],
   "source": [
    "%%html\n",
    "<script>\n",
    "  function code_toggle() {\n",
    "    if (code_shown){\n",
    "      $('div.input').hide('500');\n",
    "      $('#toggleButton').val('Show Code')\n",
    "    } else {\n",
    "      $('div.input').show('500');\n",
    "      $('#toggleButton').val('Hide Code')\n",
    "    }\n",
    "    code_shown = !code_shown\n",
    "  }\n",
    "\n",
    "  $( document ).ready(function(){\n",
    "    code_shown=false;\n",
    "    $('div.input').hide()\n",
    "  });\n",
    "</script>\n",
    "<form action=\"javascript:code_toggle()\"><input type=\"submit\" id=\"toggleButton\" value=\"Show Code\"></form>\n"
   ]
  },
  {
   "cell_type": "code",
   "execution_count": 1,
   "metadata": {
    "code_folding": []
   },
   "outputs": [
    {
     "name": "stderr",
     "output_type": "stream",
     "text": [
      "/Users/Tom/Dropbox/datascience/_thesis/is-ds-thesis/venv/lib/python3.6/site-packages/psycopg2/__init__.py:144: UserWarning: The psycopg2 wheel package will be renamed from release 2.8; in order to keep installing from binary please use \"pip install psycopg2-binary\" instead. For details see: <http://initd.org/psycopg/docs/install.html#binary-install-from-pypi>.\n",
      "  \"\"\")\n"
     ]
    }
   ],
   "source": [
    "# database connection\n",
    "import os\n",
    "import psycopg2\n",
    "from sqlalchemy.engine.url import URL\n",
    "\n",
    "# connection to the database\n",
    "# connection string for use in pandas:\n",
    "con = str(URL(drivername='postgresql', \n",
    "              username=os.environ['DB_QIR_USERNAME'], \n",
    "              password=os.environ['DB_QIR_PASSWORD'], \n",
    "              # host='www.quantleap.nl', \n",
    "              host='localhost', \n",
    "              database='qir'))\n",
    "\n",
    "# cursor for use with psycopg2\n",
    "conn = psycopg2.connect(con)\n",
    "cur = conn.cursor()\n",
    "\n",
    "# todo: use NamedTupleCursor"
   ]
  },
  {
   "cell_type": "code",
   "execution_count": 2,
   "metadata": {
    "code_folding": [],
    "collapsed": true
   },
   "outputs": [],
   "source": [
    "import ipywidgets as widgets\n",
    "from ipywidgets import Layout\n",
    "from IPython.display import display\n",
    "\n",
    "class ReportTextSearcher(object):\n",
    "    def __init__(self):\n",
    "        self.sections = ['--- Gehele verslag',\n",
    "                         '0.0 Introduction', \n",
    "                         '1.7 Oorzaak faillissement', \n",
    "                         '7.6 Paulianeus handelen', \n",
    "                         '8.1 Boedelvorderingen']\n",
    "        \n",
    "        self.results = []\n",
    "        \n",
    "        # widgets, more clear to define that to access by container tuple\n",
    "        self.w_query_terms = widgets.Text(description='zoektermen')\n",
    "        self.w_section = widgets.Dropdown(options=self.sections, description='sectie')\n",
    "        self.w_button = widgets.Button(description='Zoek', layout={'margin': '5px 0px 0px 90px', 'width': '212px'})\n",
    "        self.w_limit = widgets.IntSlider(value=10, min=10, max=200, step=10, description='limiet')\n",
    "        self.w_result_no = widgets.IntSlider(value='1', min='1', description='bekijk #', disabled=True)\n",
    "        #self.w_result = widgets.HTML()\n",
    "        self.w_out = widgets.Output()\n",
    "        \n",
    "        # container of widgets\n",
    "        self.container = widgets.VBox([\n",
    "            widgets.HTML('<h1>Rapporten doorzoeken</h1>'),\n",
    "            self.w_query_terms,\n",
    "            self.w_section,\n",
    "            self.w_limit,\n",
    "            self.w_button,\n",
    "            self.w_result_no,\n",
    "            self.w_out \n",
    "            #self.w_result\n",
    "        ])\n",
    "        \n",
    "        # register callbacks\n",
    "        self.w_button.on_click(self._search)\n",
    "        self.w_result_no.observe(self._change_result, 'value')\n",
    "        \n",
    "        #import pdb; pdb.set_trace()\n",
    "        \n",
    "    def render(self):\n",
    "        display(self.container)\n",
    "\n",
    "    def _render_results(self):\n",
    "        # process results\n",
    "        self.w_result_no.max = len(self.results)\n",
    "        \n",
    "        if len(self.results) > 0:\n",
    "            # show first result\n",
    "            self.w_result_no.disabled = False\n",
    "            self.w_result_no.value = 1\n",
    "            self.w_out.append_stdout(self.results[0][1])\n",
    "        \n",
    "    # call backs\n",
    "    def _change_result(self, change):\n",
    "        #self.w_out.clear_output(wait=True)\n",
    "        result = self.results[self.w_result_no.value - 1][1]\n",
    "        self.w_out.append_stdout(result)\n",
    "\n",
    "    def _get_result_tag(self, content):\n",
    "        return \"<p style='border: 1px solid grey; padding: 10px; background-color: Azure;'>{}</p>\".format(content)\n",
    "    \n",
    "    def _search(self, button):\n",
    "        # reset\n",
    "        self.w_result_no.disabled = True\n",
    "        \n",
    "        # search\n",
    "        field = 'content'\n",
    "        \n",
    "        sql = \"\"\"WITH eligible_reports AS (\n",
    "                     SELECT identification, {field} AS content\n",
    "                     FROM reports rep join insolvents ins on rep.insolvent_id = ins.id\n",
    "                     WHERE publication_date BETWEEN '2014-01-01' AND '2017-12-31'\n",
    "                         AND ins.is_removed = FALSE)\n",
    "                 SELECT identification, {field} as content\n",
    "                 FROM eligible_reports\n",
    "                 WHERE to_tsvector('dutch', {field}) @@ plainto_tsquery('dutch', '{query_terms}') LIMIT {limit};\"\"\".format(field=field, query_terms=self.w_query_terms.value, limit=self.w_limit.value)\n",
    "        \n",
    "        cur.execute(sql)\n",
    "        self.results = cur.fetchall()\n",
    "        self._render_results()"
   ]
  },
  {
   "cell_type": "code",
   "execution_count": 3,
   "metadata": {},
   "outputs": [
    {
     "data": {
      "application/vnd.jupyter.widget-view+json": {
       "model_id": "7291327c4f684e92ab293d8a0cf3d592",
       "version_major": 2,
       "version_minor": 0
      },
      "text/plain": [
       "VBox(children=(HTML(value='<h1>Rapporten doorzoeken</h1>'), Text(value='', description='zoektermen'), Dropdown…"
      ]
     },
     "metadata": {},
     "output_type": "display_data"
    }
   ],
   "source": [
    "search = ReportTextSearcher()\n",
    "search.render()"
   ]
  },
  {
   "cell_type": "code",
   "execution_count": null,
   "metadata": {
    "collapsed": true
   },
   "outputs": [],
   "source": [
    "# vergelijk ES en postgres functionaliteit\n",
    "# query parsing, meerdere secties tegelijk - patent search total recall\n",
    "# permanent identifier naar reproduceerbare content.! voor discussie. wetenschappelijke\n",
    "# mysociety\n",
    "# persona - use cases  evaluatie taak. verschil met huidige situatie.\n",
    "\n",
    "\n",
    "# skeleton verslag met bullet points van alles wat er doen is.\n",
    "# .."
   ]
  }
 ],
 "metadata": {
  "kernelspec": {
   "display_name": "is-ds-thesis",
   "language": "python",
   "name": "is-ds-thesis"
  },
  "language_info": {
   "codemirror_mode": {
    "name": "ipython",
    "version": 3
   },
   "file_extension": ".py",
   "mimetype": "text/x-python",
   "name": "python",
   "nbconvert_exporter": "python",
   "pygments_lexer": "ipython3",
   "version": "3.6.3"
  }
 },
 "nbformat": 4,
 "nbformat_minor": 2
}
