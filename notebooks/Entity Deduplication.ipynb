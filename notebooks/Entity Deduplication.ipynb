{
 "cells": [
  {
   "cell_type": "markdown",
   "metadata": {},
   "source": [
    "# Setup"
   ]
  },
  {
   "cell_type": "code",
   "execution_count": 1,
   "metadata": {},
   "outputs": [
    {
     "name": "stdout",
     "output_type": "stream",
     "text": [
      "CONNECTION ESTABLISHED\n"
     ]
    },
    {
     "name": "stderr",
     "output_type": "stream",
     "text": [
      "/Users/Tom/Dropbox/datascience/_thesis/is-ds-thesis/venv/lib/python3.6/site-packages/psycopg2/__init__.py:144: UserWarning: The psycopg2 wheel package will be renamed from release 2.8; in order to keep installing from binary please use \"pip install psycopg2-binary\" instead. For details see: <http://initd.org/psycopg/docs/install.html#binary-install-from-pypi>.\n",
      "  \"\"\")\n"
     ]
    }
   ],
   "source": [
    "#import pdb; pdb.set_trace()\n",
    "\n",
    "%matplotlib inline  \n",
    "import pandas as pd\n",
    "import os\n",
    "import re\n",
    "import json\n",
    "\n",
    "# connection to the database\n",
    "import os\n",
    "from sqlalchemy import create_engine\n",
    "\n",
    "# set username/password here:\n",
    "db = {'username': 'dbusr',  #os.environ['USERNAME_11323671'],\n",
    "      'password': 'dbpw',  #os.environ['PASSWORD_11323671'],\n",
    "      'host': 'localhost',  # 'quantleap.nl:5432',\n",
    "      'catalog': 'qir'}\n",
    "\n",
    "con = 'postgresql://{username}:{password}@{host}/{catalog}'.format(**db)\n",
    "engine = create_engine(con, echo=True)\n",
    "print('CONNECTION ESTABLISHED')"
   ]
  },
  {
   "cell_type": "markdown",
   "metadata": {},
   "source": [
    "# Judges"
   ]
  },
  {
   "cell_type": "markdown",
   "metadata": {},
   "source": [
    "## Example of non normalized judge names:\n",
    " \n",
    " - \"mr. W.J.  Geurts - de Veld\"\n",
    " - \"mr. W.J. Geurts - de Veld\"\n",
    " - \"mr. W.J. Geurts-deVeld\"\n",
    " - \"mr. W.J. Geurts-de Veld\"\n",
    " - \"mr. W.J.Geurts-de Veld\"\n",
    " - \"mr.W.J. Geurts-de Veld\"\n",
    " - \"mr. W.J. Geurts-de Veld (Rotterdam)\"\n",
    " - \"mr W.J.Geurts-de Veld\"\n",
    " - \"W.J.Geurts-de Veld\"\n",
    " \n",
    " correct: \"mr. W.J. Geurts-de Veld\"\n",
    " normalized: \"wj geurts-de veld\"\n",
    " \n",
    " normalization steps:\n",
    " 1. make lowercase\n",
    " 2. remove leading mr[.]\n",
    " 3. remove spaces around dash\n",
    " 4. remove dots\n",
    " 5. replace double spaces by single space\n",
    " 6. remove parentheses and text within\n",
    " 7. strip leading and trailing spaces "
   ]
  },
  {
   "cell_type": "markdown",
   "metadata": {},
   "source": [
    "## normalisering van de namen"
   ]
  },
  {
   "cell_type": "markdown",
   "metadata": {},
   "source": [
    "## golden standard - nevenfunctieregister, already scraped by openstate (up to date?)"
   ]
  },
  {
   "cell_type": "markdown",
   "metadata": {},
   "source": [
    "## API voor nevenfuncties\n",
    "Open Rechtspraak bevat nu tevens ook een heuse API (application programming interface) voor nevenfuncties. Dit is een RESTFULL api welke twee apicalls ondersteunt:\n",
    "\n",
    "1. http://ors.openstate.eu/index.php/relations/json geeft een overzicht van alle nevenfuncties met URL's naar de JSON pagina\n",
    "\n",
    "2. http://ors.openstate.eu/relations/instantie/RECHTBANK/NAAM/json Naam en Rechtbank dienen in URL ENCODE gecodeerd te zijn, cf. de lijst van punt 1.\n",
    "\n",
    "Voorbeeld: http://ors.openstate.eu/relations/instantie/Rechtbank+Amsterdam/mw.+mr.+J.F.+Aalders+/json"
   ]
  },
  {
   "cell_type": "code",
   "execution_count": 3,
   "metadata": {},
   "outputs": [
    {
     "data": {
      "text/html": [
       "<div>\n",
       "<style>\n",
       "    .dataframe thead tr:only-child th {\n",
       "        text-align: right;\n",
       "    }\n",
       "\n",
       "    .dataframe thead th {\n",
       "        text-align: left;\n",
       "    }\n",
       "\n",
       "    .dataframe tbody tr th {\n",
       "        vertical-align: top;\n",
       "    }\n",
       "</style>\n",
       "<table border=\"1\" class=\"dataframe\">\n",
       "  <thead>\n",
       "    <tr style=\"text-align: right;\">\n",
       "      <th></th>\n",
       "      <th>name</th>\n",
       "      <th>set</th>\n",
       "      <th>uri</th>\n",
       "    </tr>\n",
       "  </thead>\n",
       "  <tbody>\n",
       "    <tr>\n",
       "      <th>0</th>\n",
       "      <td>mw. mr. J.F. Aalders</td>\n",
       "      <td>Rechtbank Amsterdam</td>\n",
       "      <td>http://ors.openstate.eu/relations/instantie/Re...</td>\n",
       "    </tr>\n",
       "    <tr>\n",
       "      <th>1</th>\n",
       "      <td>mw. mr. L.Z. Achouak El Idrissi</td>\n",
       "      <td>Rechtbank Amsterdam</td>\n",
       "      <td>http://ors.openstate.eu/relations/instantie/Re...</td>\n",
       "    </tr>\n",
       "    <tr>\n",
       "      <th>2</th>\n",
       "      <td>dhr. mr. M.J. Alink</td>\n",
       "      <td>Rechtbank Amsterdam</td>\n",
       "      <td>http://ors.openstate.eu/relations/instantie/Re...</td>\n",
       "    </tr>\n",
       "    <tr>\n",
       "      <th>3</th>\n",
       "      <td>mw. mr. L.C. Bachrach</td>\n",
       "      <td>Rechtbank Amsterdam</td>\n",
       "      <td>http://ors.openstate.eu/relations/instantie/Re...</td>\n",
       "    </tr>\n",
       "    <tr>\n",
       "      <th>4</th>\n",
       "      <td>dhr. mr. J.J. Bade</td>\n",
       "      <td>Rechtbank Amsterdam</td>\n",
       "      <td>http://ors.openstate.eu/relations/instantie/Re...</td>\n",
       "    </tr>\n",
       "  </tbody>\n",
       "</table>\n",
       "</div>"
      ],
      "text/plain": [
       "                               name                  set  \\\n",
       "0             mw. mr. J.F. Aalders   Rechtbank Amsterdam   \n",
       "1  mw. mr. L.Z. Achouak El Idrissi   Rechtbank Amsterdam   \n",
       "2              dhr. mr. M.J. Alink   Rechtbank Amsterdam   \n",
       "3            mw. mr. L.C. Bachrach   Rechtbank Amsterdam   \n",
       "4               dhr. mr. J.J. Bade   Rechtbank Amsterdam   \n",
       "\n",
       "                                                 uri  \n",
       "0  http://ors.openstate.eu/relations/instantie/Re...  \n",
       "1  http://ors.openstate.eu/relations/instantie/Re...  \n",
       "2  http://ors.openstate.eu/relations/instantie/Re...  \n",
       "3  http://ors.openstate.eu/relations/instantie/Re...  \n",
       "4  http://ors.openstate.eu/relations/instantie/Re...  "
      ]
     },
     "execution_count": 3,
     "metadata": {},
     "output_type": "execute_result"
    }
   ],
   "source": [
    "# rechters_df = pd.read_html('http://ors.openstate.eu/relations')[0]\n",
    "rechters_df = pd.read_json('http://ors.openstate.eu/relations/json')\n",
    "rechters_df.head()"
   ]
  }
 ],
 "metadata": {
  "kernelspec": {
   "display_name": "is-ds-thesis",
   "language": "python",
   "name": "is-ds-thesis"
  },
  "language_info": {
   "codemirror_mode": {
    "name": "ipython",
    "version": 3
   },
   "file_extension": ".py",
   "mimetype": "text/x-python",
   "name": "python",
   "nbconvert_exporter": "python",
   "pygments_lexer": "ipython3",
   "version": "3.6.3"
  }
 },
 "nbformat": 4,
 "nbformat_minor": 2
}
