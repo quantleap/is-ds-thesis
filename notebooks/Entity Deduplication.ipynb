{
 "cells": [
  {
   "cell_type": "markdown",
   "metadata": {},
   "source": [
    "# Setup"
   ]
  },
  {
   "cell_type": "code",
   "execution_count": 1,
   "metadata": {},
   "outputs": [
    {
     "name": "stdout",
     "output_type": "stream",
     "text": [
      "CONNECTION ESTABLISHED\n"
     ]
    }
   ],
   "source": [
    "#import pdb; pdb.set_trace()\n",
    "\n",
    "%matplotlib inline  \n",
    "import pandas as pd\n",
    "import os\n",
    "import re\n",
    "import json\n",
    "\n",
    "# connection to the database\n",
    "import os\n",
    "from sqlalchemy import create_engine\n",
    "\n",
    "# set username/password here:\n",
    "db = {'username': 'dbusr',  #os.environ['USERNAME_11323671'],\n",
    "      'password': 'dbpw',  #os.environ['PASSWORD_11323671'],\n",
    "      'host': 'localhost',  # 'quantleap.nl:5432',\n",
    "      'catalog': 'qir'}\n",
    "\n",
    "con = 'postgresql://{username}:{password}@{host}/{catalog}'.format(**db)\n",
    "engine = create_engine(con, echo=True)\n",
    "print('CONNECTION ESTABLISHED')"
   ]
  },
  {
   "cell_type": "markdown",
   "metadata": {},
   "source": [
    "# Judges"
   ]
  },
  {
   "cell_type": "markdown",
   "metadata": {},
   "source": [
    "## Example of non normalized judge names:\n",
    " \n",
    " - \"mr. W.J.  Geurts - de Veld\"\n",
    " - \"mr. W.J. Geurts - de Veld\"\n",
    " - \"mr. W.J. Geurts-deVeld\"\n",
    " - \"mr. W.J. Geurts-de Veld\"\n",
    " - \"mr. W.J.Geurts-de Veld\"\n",
    " - \"mr.W.J. Geurts-de Veld\"\n",
    " - \"mr. W.J. Geurts-de Veld (Rotterdam)\"\n",
    " - \"mr W.J.Geurts-de Veld\"\n",
    " - \"W.J.Geurts-de Veld\"\n",
    " \n",
    " correct: \"mr. W.J. Geurts-de Veld\"\n",
    " normalized: \"wj geurts-de veld\"\n",
    " \n",
    " normalization steps:\n",
    " 1. make lowercase\n",
    " 2. remove leading mr[.]\n",
    " 3. remove spaces around dash\n",
    " 4. remove dots\n",
    " 5. replace double spaces by single space\n",
    " 6. remove parentheses and text within\n",
    " 7. strip leading and trailing spaces "
   ]
  },
  {
   "cell_type": "markdown",
   "metadata": {},
   "source": [
    "## normalisering van de namen"
   ]
  },
  {
   "cell_type": "markdown",
   "metadata": {},
   "source": [
    "## golden standard - nevenfunctieregister, already scraped by openstate (up to date?)"
   ]
  },
  {
   "cell_type": "markdown",
   "metadata": {},
   "source": [
    "## API voor nevenfuncties\n",
    "Open Rechtspraak bevat nu tevens ook een heuse API (application programming interface) voor nevenfuncties. Dit is een RESTFULL api welke twee apicalls ondersteunt:\n",
    "\n",
    "1. http://ors.openstate.eu/index.php/relations/json geeft een overzicht van alle nevenfuncties met URL's naar de JSON pagina\n",
    "\n",
    "2. http://ors.openstate.eu/relations/instantie/RECHTBANK/NAAM/json Naam en Rechtbank dienen in URL ENCODE gecodeerd te zijn, cf. de lijst van punt 1.\n",
    "\n",
    "Voorbeeld: http://ors.openstate.eu/relations/instantie/Rechtbank+Amsterdam/mw.+mr.+J.F.+Aalders+/json"
   ]
  },
  {
   "cell_type": "code",
   "execution_count": null,
   "metadata": {},
   "outputs": [],
   "source": [
    "# rechters_df = pd.read_html('http://ors.openstate.eu/relations')[0]\n",
    "rechters_df = pd.read_json('http://ors.openstate.eu/relations/json')\n",
    "rechters_df.head()A"
   ]
  },
  {
   "cell_type": "code",
   "execution_count": null,
   "metadata": {
    "collapsed": true
   },
   "outputs": [],
   "source": [
    "rechters_df[rechters_df['set'] == 'Rechtbank Amsterdam']"
   ]
  },
  {
   "cell_type": "code",
   "execution_count": 2,
   "metadata": {},
   "outputs": [
    {
     "name": "stdout",
     "output_type": "stream",
     "text": [
      "top 10 judges by number of cases\n"
     ]
    },
    {
     "data": {
      "text/html": [
       "<div>\n",
       "<style>\n",
       "    .dataframe thead tr:only-child th {\n",
       "        text-align: right;\n",
       "    }\n",
       "\n",
       "    .dataframe thead th {\n",
       "        text-align: left;\n",
       "    }\n",
       "\n",
       "    .dataframe tbody tr th {\n",
       "        vertical-align: top;\n",
       "    }\n",
       "</style>\n",
       "<table border=\"1\" class=\"dataframe\">\n",
       "  <thead>\n",
       "    <tr style=\"text-align: right;\">\n",
       "      <th></th>\n",
       "      <th>no_cases</th>\n",
       "      <th>supervisory_judge</th>\n",
       "    </tr>\n",
       "  </thead>\n",
       "  <tbody>\n",
       "    <tr>\n",
       "      <th>0</th>\n",
       "      <td>1107</td>\n",
       "      <td>mr. A.E. Zweers</td>\n",
       "    </tr>\n",
       "    <tr>\n",
       "      <th>1</th>\n",
       "      <td>1082</td>\n",
       "      <td>mr. C. Schollen-den Besten</td>\n",
       "    </tr>\n",
       "    <tr>\n",
       "      <th>2</th>\n",
       "      <td>1000</td>\n",
       "      <td>mr. J.S.W. Lucassen</td>\n",
       "    </tr>\n",
       "    <tr>\n",
       "      <th>3</th>\n",
       "      <td>902</td>\n",
       "      <td>mr. A.M.P.T. Blokhuis</td>\n",
       "    </tr>\n",
       "    <tr>\n",
       "      <th>4</th>\n",
       "      <td>888</td>\n",
       "      <td>mr. P.J. Neijt</td>\n",
       "    </tr>\n",
       "    <tr>\n",
       "      <th>5</th>\n",
       "      <td>878</td>\n",
       "      <td>mr. A.E. de Vos</td>\n",
       "    </tr>\n",
       "    <tr>\n",
       "      <th>6</th>\n",
       "      <td>788</td>\n",
       "      <td>mr. M Pellikaan</td>\n",
       "    </tr>\n",
       "    <tr>\n",
       "      <th>7</th>\n",
       "      <td>760</td>\n",
       "      <td>mr. I.M. Bilderbeek</td>\n",
       "    </tr>\n",
       "    <tr>\n",
       "      <th>8</th>\n",
       "      <td>722</td>\n",
       "      <td>mr. S.J.O. de Vries</td>\n",
       "    </tr>\n",
       "    <tr>\n",
       "      <th>9</th>\n",
       "      <td>705</td>\n",
       "      <td>mr. M.H.F. van Vugt</td>\n",
       "    </tr>\n",
       "  </tbody>\n",
       "</table>\n",
       "</div>"
      ],
      "text/plain": [
       "   no_cases           supervisory_judge\n",
       "0      1107             mr. A.E. Zweers\n",
       "1      1082  mr. C. Schollen-den Besten\n",
       "2      1000         mr. J.S.W. Lucassen\n",
       "3       902       mr. A.M.P.T. Blokhuis\n",
       "4       888              mr. P.J. Neijt\n",
       "5       878             mr. A.E. de Vos\n",
       "6       788             mr. M Pellikaan\n",
       "7       760         mr. I.M. Bilderbeek\n",
       "8       722         mr. S.J.O. de Vries\n",
       "9       705         mr. M.H.F. van Vugt"
      ]
     },
     "execution_count": 2,
     "metadata": {},
     "output_type": "execute_result"
    }
   ],
   "source": []
  }
 ],
 "metadata": {
  "kernelspec": {
   "display_name": "is-ds-thesis",
   "language": "python",
   "name": "is-ds-thesis"
  },
  "language_info": {
   "codemirror_mode": {
    "name": "ipython",
    "version": 3
   },
   "file_extension": ".py",
   "mimetype": "text/x-python",
   "name": "python",
   "nbconvert_exporter": "python",
   "pygments_lexer": "ipython3",
   "version": "3.6.3"
  }
 },
 "nbformat": 4,
 "nbformat_minor": 2
}
